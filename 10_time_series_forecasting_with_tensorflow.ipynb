{
  "nbformat": 4,
  "nbformat_minor": 0,
  "metadata": {
    "colab": {
      "provenance": [],
      "gpuType": "T4"
    },
    "kernelspec": {
      "name": "python3",
      "display_name": "Python 3"
    },
    "language_info": {
      "name": "python"
    },
    "accelerator": "GPU"
  },
  "cells": [
    {
      "cell_type": "markdown",
      "source": [
        "# Time series forecasting fundamentals with TensorFlow + Milestone Project 3: BitPredict 💰\n",
        "\n",
        "**Note:** This is not financial advice\n",
        "\n",
        "Let's write some TensorFlow code to predict the price of Bitcoin based on the historical price of Bitcoin"
      ],
      "metadata": {
        "id": "Otx5DIoGQOsG"
      }
    },
    {
      "cell_type": "markdown",
      "source": [
        "## Get data\n",
        "\n",
        "We're going to be using the historical price data of Bitcoin to try and predict the future price of Bitcoin, we downloaded the data from here: https://www.coindesk.com/price/bitcoin"
      ],
      "metadata": {
        "id": "ZWGE9PGjQ9jm"
      }
    },
    {
      "cell_type": "code",
      "source": [
        "!wget https://raw.githubusercontent.com/mrdbourke/tensorflow-deep-learning/main/extras/BTC_USD_2013-10-01_2021-05-18-CoinDesk.csv"
      ],
      "metadata": {
        "id": "2opvGuHuRdbh",
        "colab": {
          "base_uri": "https://localhost:8080/"
        },
        "outputId": "3c17c835-a8f9-49b9-9e8f-cc5a286b9c1e"
      },
      "execution_count": null,
      "outputs": [
        {
          "output_type": "stream",
          "name": "stdout",
          "text": [
            "--2023-10-22 02:23:37--  https://raw.githubusercontent.com/mrdbourke/tensorflow-deep-learning/main/extras/BTC_USD_2013-10-01_2021-05-18-CoinDesk.csv\n",
            "Resolving raw.githubusercontent.com (raw.githubusercontent.com)... 185.199.108.133, 185.199.109.133, 185.199.110.133, ...\n",
            "Connecting to raw.githubusercontent.com (raw.githubusercontent.com)|185.199.108.133|:443... connected.\n",
            "HTTP request sent, awaiting response... 200 OK\n",
            "Length: 178509 (174K) [text/plain]\n",
            "Saving to: ‘BTC_USD_2013-10-01_2021-05-18-CoinDesk.csv’\n",
            "\n",
            "BTC_USD_2013-10-01_ 100%[===================>] 174.33K  --.-KB/s    in 0.02s   \n",
            "\n",
            "2023-10-22 02:23:37 (8.52 MB/s) - ‘BTC_USD_2013-10-01_2021-05-18-CoinDesk.csv’ saved [178509/178509]\n",
            "\n"
          ]
        }
      ]
    },
    {
      "cell_type": "markdown",
      "source": [
        "## Importing time series with pandas"
      ],
      "metadata": {
        "id": "vvNs2FZrR1oE"
      }
    },
    {
      "cell_type": "code",
      "source": [
        "# Import with pandas\n",
        "import pandas as pd\n",
        "# Let's read in our Bitcoin data and parse the dates\n",
        "df = pd.read_csv(\"/content/BTC_USD_2013-10-01_2021-05-18-CoinDesk.csv\", parse_dates=[\"Date\"],\n",
        "                 index_col=[\"Date\"]) # parse the date column and tell pandas column 1 is a datetime\n",
        "df.head()"
      ],
      "metadata": {
        "colab": {
          "base_uri": "https://localhost:8080/",
          "height": 237
        },
        "id": "3-h-85I4SZzL",
        "outputId": "371a45d0-aabb-460b-896e-eec8a23d1dd0"
      },
      "execution_count": null,
      "outputs": [
        {
          "output_type": "execute_result",
          "data": {
            "text/plain": [
              "           Currency  Closing Price (USD)  24h Open (USD)  24h High (USD)  \\\n",
              "Date                                                                       \n",
              "2013-10-01      BTC            123.65499       124.30466       124.75166   \n",
              "2013-10-02      BTC            125.45500       123.65499       125.75850   \n",
              "2013-10-03      BTC            108.58483       125.45500       125.66566   \n",
              "2013-10-04      BTC            118.67466       108.58483       118.67500   \n",
              "2013-10-05      BTC            121.33866       118.67466       121.93633   \n",
              "\n",
              "            24h Low (USD)  \n",
              "Date                       \n",
              "2013-10-01      122.56349  \n",
              "2013-10-02      123.63383  \n",
              "2013-10-03       83.32833  \n",
              "2013-10-04      107.05816  \n",
              "2013-10-05      118.00566  "
            ],
            "text/html": [
              "\n",
              "  <div id=\"df-d4fdb17a-a00b-497d-b0be-b42a0f509355\" class=\"colab-df-container\">\n",
              "    <div>\n",
              "<style scoped>\n",
              "    .dataframe tbody tr th:only-of-type {\n",
              "        vertical-align: middle;\n",
              "    }\n",
              "\n",
              "    .dataframe tbody tr th {\n",
              "        vertical-align: top;\n",
              "    }\n",
              "\n",
              "    .dataframe thead th {\n",
              "        text-align: right;\n",
              "    }\n",
              "</style>\n",
              "<table border=\"1\" class=\"dataframe\">\n",
              "  <thead>\n",
              "    <tr style=\"text-align: right;\">\n",
              "      <th></th>\n",
              "      <th>Currency</th>\n",
              "      <th>Closing Price (USD)</th>\n",
              "      <th>24h Open (USD)</th>\n",
              "      <th>24h High (USD)</th>\n",
              "      <th>24h Low (USD)</th>\n",
              "    </tr>\n",
              "    <tr>\n",
              "      <th>Date</th>\n",
              "      <th></th>\n",
              "      <th></th>\n",
              "      <th></th>\n",
              "      <th></th>\n",
              "      <th></th>\n",
              "    </tr>\n",
              "  </thead>\n",
              "  <tbody>\n",
              "    <tr>\n",
              "      <th>2013-10-01</th>\n",
              "      <td>BTC</td>\n",
              "      <td>123.65499</td>\n",
              "      <td>124.30466</td>\n",
              "      <td>124.75166</td>\n",
              "      <td>122.56349</td>\n",
              "    </tr>\n",
              "    <tr>\n",
              "      <th>2013-10-02</th>\n",
              "      <td>BTC</td>\n",
              "      <td>125.45500</td>\n",
              "      <td>123.65499</td>\n",
              "      <td>125.75850</td>\n",
              "      <td>123.63383</td>\n",
              "    </tr>\n",
              "    <tr>\n",
              "      <th>2013-10-03</th>\n",
              "      <td>BTC</td>\n",
              "      <td>108.58483</td>\n",
              "      <td>125.45500</td>\n",
              "      <td>125.66566</td>\n",
              "      <td>83.32833</td>\n",
              "    </tr>\n",
              "    <tr>\n",
              "      <th>2013-10-04</th>\n",
              "      <td>BTC</td>\n",
              "      <td>118.67466</td>\n",
              "      <td>108.58483</td>\n",
              "      <td>118.67500</td>\n",
              "      <td>107.05816</td>\n",
              "    </tr>\n",
              "    <tr>\n",
              "      <th>2013-10-05</th>\n",
              "      <td>BTC</td>\n",
              "      <td>121.33866</td>\n",
              "      <td>118.67466</td>\n",
              "      <td>121.93633</td>\n",
              "      <td>118.00566</td>\n",
              "    </tr>\n",
              "  </tbody>\n",
              "</table>\n",
              "</div>\n",
              "    <div class=\"colab-df-buttons\">\n",
              "\n",
              "  <div class=\"colab-df-container\">\n",
              "    <button class=\"colab-df-convert\" onclick=\"convertToInteractive('df-d4fdb17a-a00b-497d-b0be-b42a0f509355')\"\n",
              "            title=\"Convert this dataframe to an interactive table.\"\n",
              "            style=\"display:none;\">\n",
              "\n",
              "  <svg xmlns=\"http://www.w3.org/2000/svg\" height=\"24px\" viewBox=\"0 -960 960 960\">\n",
              "    <path d=\"M120-120v-720h720v720H120Zm60-500h600v-160H180v160Zm220 220h160v-160H400v160Zm0 220h160v-160H400v160ZM180-400h160v-160H180v160Zm440 0h160v-160H620v160ZM180-180h160v-160H180v160Zm440 0h160v-160H620v160Z\"/>\n",
              "  </svg>\n",
              "    </button>\n",
              "\n",
              "  <style>\n",
              "    .colab-df-container {\n",
              "      display:flex;\n",
              "      gap: 12px;\n",
              "    }\n",
              "\n",
              "    .colab-df-convert {\n",
              "      background-color: #E8F0FE;\n",
              "      border: none;\n",
              "      border-radius: 50%;\n",
              "      cursor: pointer;\n",
              "      display: none;\n",
              "      fill: #1967D2;\n",
              "      height: 32px;\n",
              "      padding: 0 0 0 0;\n",
              "      width: 32px;\n",
              "    }\n",
              "\n",
              "    .colab-df-convert:hover {\n",
              "      background-color: #E2EBFA;\n",
              "      box-shadow: 0px 1px 2px rgba(60, 64, 67, 0.3), 0px 1px 3px 1px rgba(60, 64, 67, 0.15);\n",
              "      fill: #174EA6;\n",
              "    }\n",
              "\n",
              "    .colab-df-buttons div {\n",
              "      margin-bottom: 4px;\n",
              "    }\n",
              "\n",
              "    [theme=dark] .colab-df-convert {\n",
              "      background-color: #3B4455;\n",
              "      fill: #D2E3FC;\n",
              "    }\n",
              "\n",
              "    [theme=dark] .colab-df-convert:hover {\n",
              "      background-color: #434B5C;\n",
              "      box-shadow: 0px 1px 3px 1px rgba(0, 0, 0, 0.15);\n",
              "      filter: drop-shadow(0px 1px 2px rgba(0, 0, 0, 0.3));\n",
              "      fill: #FFFFFF;\n",
              "    }\n",
              "  </style>\n",
              "\n",
              "    <script>\n",
              "      const buttonEl =\n",
              "        document.querySelector('#df-d4fdb17a-a00b-497d-b0be-b42a0f509355 button.colab-df-convert');\n",
              "      buttonEl.style.display =\n",
              "        google.colab.kernel.accessAllowed ? 'block' : 'none';\n",
              "\n",
              "      async function convertToInteractive(key) {\n",
              "        const element = document.querySelector('#df-d4fdb17a-a00b-497d-b0be-b42a0f509355');\n",
              "        const dataTable =\n",
              "          await google.colab.kernel.invokeFunction('convertToInteractive',\n",
              "                                                    [key], {});\n",
              "        if (!dataTable) return;\n",
              "\n",
              "        const docLinkHtml = 'Like what you see? Visit the ' +\n",
              "          '<a target=\"_blank\" href=https://colab.research.google.com/notebooks/data_table.ipynb>data table notebook</a>'\n",
              "          + ' to learn more about interactive tables.';\n",
              "        element.innerHTML = '';\n",
              "        dataTable['output_type'] = 'display_data';\n",
              "        await google.colab.output.renderOutput(dataTable, element);\n",
              "        const docLink = document.createElement('div');\n",
              "        docLink.innerHTML = docLinkHtml;\n",
              "        element.appendChild(docLink);\n",
              "      }\n",
              "    </script>\n",
              "  </div>\n",
              "\n",
              "\n",
              "<div id=\"df-f6379952-5ee3-4ab7-8655-68fa26ec41b2\">\n",
              "  <button class=\"colab-df-quickchart\" onclick=\"quickchart('df-f6379952-5ee3-4ab7-8655-68fa26ec41b2')\"\n",
              "            title=\"Suggest charts.\"\n",
              "            style=\"display:none;\">\n",
              "\n",
              "<svg xmlns=\"http://www.w3.org/2000/svg\" height=\"24px\"viewBox=\"0 0 24 24\"\n",
              "     width=\"24px\">\n",
              "    <g>\n",
              "        <path d=\"M19 3H5c-1.1 0-2 .9-2 2v14c0 1.1.9 2 2 2h14c1.1 0 2-.9 2-2V5c0-1.1-.9-2-2-2zM9 17H7v-7h2v7zm4 0h-2V7h2v10zm4 0h-2v-4h2v4z\"/>\n",
              "    </g>\n",
              "</svg>\n",
              "  </button>\n",
              "\n",
              "<style>\n",
              "  .colab-df-quickchart {\n",
              "      --bg-color: #E8F0FE;\n",
              "      --fill-color: #1967D2;\n",
              "      --hover-bg-color: #E2EBFA;\n",
              "      --hover-fill-color: #174EA6;\n",
              "      --disabled-fill-color: #AAA;\n",
              "      --disabled-bg-color: #DDD;\n",
              "  }\n",
              "\n",
              "  [theme=dark] .colab-df-quickchart {\n",
              "      --bg-color: #3B4455;\n",
              "      --fill-color: #D2E3FC;\n",
              "      --hover-bg-color: #434B5C;\n",
              "      --hover-fill-color: #FFFFFF;\n",
              "      --disabled-bg-color: #3B4455;\n",
              "      --disabled-fill-color: #666;\n",
              "  }\n",
              "\n",
              "  .colab-df-quickchart {\n",
              "    background-color: var(--bg-color);\n",
              "    border: none;\n",
              "    border-radius: 50%;\n",
              "    cursor: pointer;\n",
              "    display: none;\n",
              "    fill: var(--fill-color);\n",
              "    height: 32px;\n",
              "    padding: 0;\n",
              "    width: 32px;\n",
              "  }\n",
              "\n",
              "  .colab-df-quickchart:hover {\n",
              "    background-color: var(--hover-bg-color);\n",
              "    box-shadow: 0 1px 2px rgba(60, 64, 67, 0.3), 0 1px 3px 1px rgba(60, 64, 67, 0.15);\n",
              "    fill: var(--button-hover-fill-color);\n",
              "  }\n",
              "\n",
              "  .colab-df-quickchart-complete:disabled,\n",
              "  .colab-df-quickchart-complete:disabled:hover {\n",
              "    background-color: var(--disabled-bg-color);\n",
              "    fill: var(--disabled-fill-color);\n",
              "    box-shadow: none;\n",
              "  }\n",
              "\n",
              "  .colab-df-spinner {\n",
              "    border: 2px solid var(--fill-color);\n",
              "    border-color: transparent;\n",
              "    border-bottom-color: var(--fill-color);\n",
              "    animation:\n",
              "      spin 1s steps(1) infinite;\n",
              "  }\n",
              "\n",
              "  @keyframes spin {\n",
              "    0% {\n",
              "      border-color: transparent;\n",
              "      border-bottom-color: var(--fill-color);\n",
              "      border-left-color: var(--fill-color);\n",
              "    }\n",
              "    20% {\n",
              "      border-color: transparent;\n",
              "      border-left-color: var(--fill-color);\n",
              "      border-top-color: var(--fill-color);\n",
              "    }\n",
              "    30% {\n",
              "      border-color: transparent;\n",
              "      border-left-color: var(--fill-color);\n",
              "      border-top-color: var(--fill-color);\n",
              "      border-right-color: var(--fill-color);\n",
              "    }\n",
              "    40% {\n",
              "      border-color: transparent;\n",
              "      border-right-color: var(--fill-color);\n",
              "      border-top-color: var(--fill-color);\n",
              "    }\n",
              "    60% {\n",
              "      border-color: transparent;\n",
              "      border-right-color: var(--fill-color);\n",
              "    }\n",
              "    80% {\n",
              "      border-color: transparent;\n",
              "      border-right-color: var(--fill-color);\n",
              "      border-bottom-color: var(--fill-color);\n",
              "    }\n",
              "    90% {\n",
              "      border-color: transparent;\n",
              "      border-bottom-color: var(--fill-color);\n",
              "    }\n",
              "  }\n",
              "</style>\n",
              "\n",
              "  <script>\n",
              "    async function quickchart(key) {\n",
              "      const quickchartButtonEl =\n",
              "        document.querySelector('#' + key + ' button');\n",
              "      quickchartButtonEl.disabled = true;  // To prevent multiple clicks.\n",
              "      quickchartButtonEl.classList.add('colab-df-spinner');\n",
              "      try {\n",
              "        const charts = await google.colab.kernel.invokeFunction(\n",
              "            'suggestCharts', [key], {});\n",
              "      } catch (error) {\n",
              "        console.error('Error during call to suggestCharts:', error);\n",
              "      }\n",
              "      quickchartButtonEl.classList.remove('colab-df-spinner');\n",
              "      quickchartButtonEl.classList.add('colab-df-quickchart-complete');\n",
              "    }\n",
              "    (() => {\n",
              "      let quickchartButtonEl =\n",
              "        document.querySelector('#df-f6379952-5ee3-4ab7-8655-68fa26ec41b2 button');\n",
              "      quickchartButtonEl.style.display =\n",
              "        google.colab.kernel.accessAllowed ? 'block' : 'none';\n",
              "    })();\n",
              "  </script>\n",
              "</div>\n",
              "    </div>\n",
              "  </div>\n"
            ]
          },
          "metadata": {},
          "execution_count": 2
        }
      ]
    },
    {
      "cell_type": "code",
      "source": [
        "df.tail()"
      ],
      "metadata": {
        "colab": {
          "base_uri": "https://localhost:8080/",
          "height": 237
        },
        "id": "MVg7Qkx6Tpyn",
        "outputId": "af90fdbd-17b4-4942-ad67-cc7ec7569f7a"
      },
      "execution_count": null,
      "outputs": [
        {
          "output_type": "execute_result",
          "data": {
            "text/plain": [
              "           Currency  Closing Price (USD)  24h Open (USD)  24h High (USD)  \\\n",
              "Date                                                                       \n",
              "2021-05-14      BTC         49764.132082    49596.778891    51448.798576   \n",
              "2021-05-15      BTC         50032.693137    49717.354353    51578.312545   \n",
              "2021-05-16      BTC         47885.625255    49926.035067    50690.802950   \n",
              "2021-05-17      BTC         45604.615754    46805.537852    49670.414174   \n",
              "2021-05-18      BTC         43144.471291    46439.336570    46622.853437   \n",
              "\n",
              "            24h Low (USD)  \n",
              "Date                       \n",
              "2021-05-14   46294.720180  \n",
              "2021-05-15   48944.346536  \n",
              "2021-05-16   47005.102292  \n",
              "2021-05-17   43868.638969  \n",
              "2021-05-18   42102.346430  "
            ],
            "text/html": [
              "\n",
              "  <div id=\"df-5de6533e-4c54-483b-be58-effa36f82743\" class=\"colab-df-container\">\n",
              "    <div>\n",
              "<style scoped>\n",
              "    .dataframe tbody tr th:only-of-type {\n",
              "        vertical-align: middle;\n",
              "    }\n",
              "\n",
              "    .dataframe tbody tr th {\n",
              "        vertical-align: top;\n",
              "    }\n",
              "\n",
              "    .dataframe thead th {\n",
              "        text-align: right;\n",
              "    }\n",
              "</style>\n",
              "<table border=\"1\" class=\"dataframe\">\n",
              "  <thead>\n",
              "    <tr style=\"text-align: right;\">\n",
              "      <th></th>\n",
              "      <th>Currency</th>\n",
              "      <th>Closing Price (USD)</th>\n",
              "      <th>24h Open (USD)</th>\n",
              "      <th>24h High (USD)</th>\n",
              "      <th>24h Low (USD)</th>\n",
              "    </tr>\n",
              "    <tr>\n",
              "      <th>Date</th>\n",
              "      <th></th>\n",
              "      <th></th>\n",
              "      <th></th>\n",
              "      <th></th>\n",
              "      <th></th>\n",
              "    </tr>\n",
              "  </thead>\n",
              "  <tbody>\n",
              "    <tr>\n",
              "      <th>2021-05-14</th>\n",
              "      <td>BTC</td>\n",
              "      <td>49764.132082</td>\n",
              "      <td>49596.778891</td>\n",
              "      <td>51448.798576</td>\n",
              "      <td>46294.720180</td>\n",
              "    </tr>\n",
              "    <tr>\n",
              "      <th>2021-05-15</th>\n",
              "      <td>BTC</td>\n",
              "      <td>50032.693137</td>\n",
              "      <td>49717.354353</td>\n",
              "      <td>51578.312545</td>\n",
              "      <td>48944.346536</td>\n",
              "    </tr>\n",
              "    <tr>\n",
              "      <th>2021-05-16</th>\n",
              "      <td>BTC</td>\n",
              "      <td>47885.625255</td>\n",
              "      <td>49926.035067</td>\n",
              "      <td>50690.802950</td>\n",
              "      <td>47005.102292</td>\n",
              "    </tr>\n",
              "    <tr>\n",
              "      <th>2021-05-17</th>\n",
              "      <td>BTC</td>\n",
              "      <td>45604.615754</td>\n",
              "      <td>46805.537852</td>\n",
              "      <td>49670.414174</td>\n",
              "      <td>43868.638969</td>\n",
              "    </tr>\n",
              "    <tr>\n",
              "      <th>2021-05-18</th>\n",
              "      <td>BTC</td>\n",
              "      <td>43144.471291</td>\n",
              "      <td>46439.336570</td>\n",
              "      <td>46622.853437</td>\n",
              "      <td>42102.346430</td>\n",
              "    </tr>\n",
              "  </tbody>\n",
              "</table>\n",
              "</div>\n",
              "    <div class=\"colab-df-buttons\">\n",
              "\n",
              "  <div class=\"colab-df-container\">\n",
              "    <button class=\"colab-df-convert\" onclick=\"convertToInteractive('df-5de6533e-4c54-483b-be58-effa36f82743')\"\n",
              "            title=\"Convert this dataframe to an interactive table.\"\n",
              "            style=\"display:none;\">\n",
              "\n",
              "  <svg xmlns=\"http://www.w3.org/2000/svg\" height=\"24px\" viewBox=\"0 -960 960 960\">\n",
              "    <path d=\"M120-120v-720h720v720H120Zm60-500h600v-160H180v160Zm220 220h160v-160H400v160Zm0 220h160v-160H400v160ZM180-400h160v-160H180v160Zm440 0h160v-160H620v160ZM180-180h160v-160H180v160Zm440 0h160v-160H620v160Z\"/>\n",
              "  </svg>\n",
              "    </button>\n",
              "\n",
              "  <style>\n",
              "    .colab-df-container {\n",
              "      display:flex;\n",
              "      gap: 12px;\n",
              "    }\n",
              "\n",
              "    .colab-df-convert {\n",
              "      background-color: #E8F0FE;\n",
              "      border: none;\n",
              "      border-radius: 50%;\n",
              "      cursor: pointer;\n",
              "      display: none;\n",
              "      fill: #1967D2;\n",
              "      height: 32px;\n",
              "      padding: 0 0 0 0;\n",
              "      width: 32px;\n",
              "    }\n",
              "\n",
              "    .colab-df-convert:hover {\n",
              "      background-color: #E2EBFA;\n",
              "      box-shadow: 0px 1px 2px rgba(60, 64, 67, 0.3), 0px 1px 3px 1px rgba(60, 64, 67, 0.15);\n",
              "      fill: #174EA6;\n",
              "    }\n",
              "\n",
              "    .colab-df-buttons div {\n",
              "      margin-bottom: 4px;\n",
              "    }\n",
              "\n",
              "    [theme=dark] .colab-df-convert {\n",
              "      background-color: #3B4455;\n",
              "      fill: #D2E3FC;\n",
              "    }\n",
              "\n",
              "    [theme=dark] .colab-df-convert:hover {\n",
              "      background-color: #434B5C;\n",
              "      box-shadow: 0px 1px 3px 1px rgba(0, 0, 0, 0.15);\n",
              "      filter: drop-shadow(0px 1px 2px rgba(0, 0, 0, 0.3));\n",
              "      fill: #FFFFFF;\n",
              "    }\n",
              "  </style>\n",
              "\n",
              "    <script>\n",
              "      const buttonEl =\n",
              "        document.querySelector('#df-5de6533e-4c54-483b-be58-effa36f82743 button.colab-df-convert');\n",
              "      buttonEl.style.display =\n",
              "        google.colab.kernel.accessAllowed ? 'block' : 'none';\n",
              "\n",
              "      async function convertToInteractive(key) {\n",
              "        const element = document.querySelector('#df-5de6533e-4c54-483b-be58-effa36f82743');\n",
              "        const dataTable =\n",
              "          await google.colab.kernel.invokeFunction('convertToInteractive',\n",
              "                                                    [key], {});\n",
              "        if (!dataTable) return;\n",
              "\n",
              "        const docLinkHtml = 'Like what you see? Visit the ' +\n",
              "          '<a target=\"_blank\" href=https://colab.research.google.com/notebooks/data_table.ipynb>data table notebook</a>'\n",
              "          + ' to learn more about interactive tables.';\n",
              "        element.innerHTML = '';\n",
              "        dataTable['output_type'] = 'display_data';\n",
              "        await google.colab.output.renderOutput(dataTable, element);\n",
              "        const docLink = document.createElement('div');\n",
              "        docLink.innerHTML = docLinkHtml;\n",
              "        element.appendChild(docLink);\n",
              "      }\n",
              "    </script>\n",
              "  </div>\n",
              "\n",
              "\n",
              "<div id=\"df-8b703eb3-e357-400c-8777-0a03307ee870\">\n",
              "  <button class=\"colab-df-quickchart\" onclick=\"quickchart('df-8b703eb3-e357-400c-8777-0a03307ee870')\"\n",
              "            title=\"Suggest charts.\"\n",
              "            style=\"display:none;\">\n",
              "\n",
              "<svg xmlns=\"http://www.w3.org/2000/svg\" height=\"24px\"viewBox=\"0 0 24 24\"\n",
              "     width=\"24px\">\n",
              "    <g>\n",
              "        <path d=\"M19 3H5c-1.1 0-2 .9-2 2v14c0 1.1.9 2 2 2h14c1.1 0 2-.9 2-2V5c0-1.1-.9-2-2-2zM9 17H7v-7h2v7zm4 0h-2V7h2v10zm4 0h-2v-4h2v4z\"/>\n",
              "    </g>\n",
              "</svg>\n",
              "  </button>\n",
              "\n",
              "<style>\n",
              "  .colab-df-quickchart {\n",
              "      --bg-color: #E8F0FE;\n",
              "      --fill-color: #1967D2;\n",
              "      --hover-bg-color: #E2EBFA;\n",
              "      --hover-fill-color: #174EA6;\n",
              "      --disabled-fill-color: #AAA;\n",
              "      --disabled-bg-color: #DDD;\n",
              "  }\n",
              "\n",
              "  [theme=dark] .colab-df-quickchart {\n",
              "      --bg-color: #3B4455;\n",
              "      --fill-color: #D2E3FC;\n",
              "      --hover-bg-color: #434B5C;\n",
              "      --hover-fill-color: #FFFFFF;\n",
              "      --disabled-bg-color: #3B4455;\n",
              "      --disabled-fill-color: #666;\n",
              "  }\n",
              "\n",
              "  .colab-df-quickchart {\n",
              "    background-color: var(--bg-color);\n",
              "    border: none;\n",
              "    border-radius: 50%;\n",
              "    cursor: pointer;\n",
              "    display: none;\n",
              "    fill: var(--fill-color);\n",
              "    height: 32px;\n",
              "    padding: 0;\n",
              "    width: 32px;\n",
              "  }\n",
              "\n",
              "  .colab-df-quickchart:hover {\n",
              "    background-color: var(--hover-bg-color);\n",
              "    box-shadow: 0 1px 2px rgba(60, 64, 67, 0.3), 0 1px 3px 1px rgba(60, 64, 67, 0.15);\n",
              "    fill: var(--button-hover-fill-color);\n",
              "  }\n",
              "\n",
              "  .colab-df-quickchart-complete:disabled,\n",
              "  .colab-df-quickchart-complete:disabled:hover {\n",
              "    background-color: var(--disabled-bg-color);\n",
              "    fill: var(--disabled-fill-color);\n",
              "    box-shadow: none;\n",
              "  }\n",
              "\n",
              "  .colab-df-spinner {\n",
              "    border: 2px solid var(--fill-color);\n",
              "    border-color: transparent;\n",
              "    border-bottom-color: var(--fill-color);\n",
              "    animation:\n",
              "      spin 1s steps(1) infinite;\n",
              "  }\n",
              "\n",
              "  @keyframes spin {\n",
              "    0% {\n",
              "      border-color: transparent;\n",
              "      border-bottom-color: var(--fill-color);\n",
              "      border-left-color: var(--fill-color);\n",
              "    }\n",
              "    20% {\n",
              "      border-color: transparent;\n",
              "      border-left-color: var(--fill-color);\n",
              "      border-top-color: var(--fill-color);\n",
              "    }\n",
              "    30% {\n",
              "      border-color: transparent;\n",
              "      border-left-color: var(--fill-color);\n",
              "      border-top-color: var(--fill-color);\n",
              "      border-right-color: var(--fill-color);\n",
              "    }\n",
              "    40% {\n",
              "      border-color: transparent;\n",
              "      border-right-color: var(--fill-color);\n",
              "      border-top-color: var(--fill-color);\n",
              "    }\n",
              "    60% {\n",
              "      border-color: transparent;\n",
              "      border-right-color: var(--fill-color);\n",
              "    }\n",
              "    80% {\n",
              "      border-color: transparent;\n",
              "      border-right-color: var(--fill-color);\n",
              "      border-bottom-color: var(--fill-color);\n",
              "    }\n",
              "    90% {\n",
              "      border-color: transparent;\n",
              "      border-bottom-color: var(--fill-color);\n",
              "    }\n",
              "  }\n",
              "</style>\n",
              "\n",
              "  <script>\n",
              "    async function quickchart(key) {\n",
              "      const quickchartButtonEl =\n",
              "        document.querySelector('#' + key + ' button');\n",
              "      quickchartButtonEl.disabled = true;  // To prevent multiple clicks.\n",
              "      quickchartButtonEl.classList.add('colab-df-spinner');\n",
              "      try {\n",
              "        const charts = await google.colab.kernel.invokeFunction(\n",
              "            'suggestCharts', [key], {});\n",
              "      } catch (error) {\n",
              "        console.error('Error during call to suggestCharts:', error);\n",
              "      }\n",
              "      quickchartButtonEl.classList.remove('colab-df-spinner');\n",
              "      quickchartButtonEl.classList.add('colab-df-quickchart-complete');\n",
              "    }\n",
              "    (() => {\n",
              "      let quickchartButtonEl =\n",
              "        document.querySelector('#df-8b703eb3-e357-400c-8777-0a03307ee870 button');\n",
              "      quickchartButtonEl.style.display =\n",
              "        google.colab.kernel.accessAllowed ? 'block' : 'none';\n",
              "    })();\n",
              "  </script>\n",
              "</div>\n",
              "    </div>\n",
              "  </div>\n"
            ]
          },
          "metadata": {},
          "execution_count": 3
        }
      ]
    },
    {
      "cell_type": "code",
      "source": [
        "df.info()"
      ],
      "metadata": {
        "colab": {
          "base_uri": "https://localhost:8080/"
        },
        "id": "Fh0pXhqITYg0",
        "outputId": "5a1ff331-fd17-4c59-ceb0-c47deef537f6"
      },
      "execution_count": null,
      "outputs": [
        {
          "output_type": "stream",
          "name": "stdout",
          "text": [
            "<class 'pandas.core.frame.DataFrame'>\n",
            "DatetimeIndex: 2787 entries, 2013-10-01 to 2021-05-18\n",
            "Data columns (total 5 columns):\n",
            " #   Column               Non-Null Count  Dtype  \n",
            "---  ------               --------------  -----  \n",
            " 0   Currency             2787 non-null   object \n",
            " 1   Closing Price (USD)  2787 non-null   float64\n",
            " 2   24h Open (USD)       2787 non-null   float64\n",
            " 3   24h High (USD)       2787 non-null   float64\n",
            " 4   24h Low (USD)        2787 non-null   float64\n",
            "dtypes: float64(4), object(1)\n",
            "memory usage: 130.6+ KB\n"
          ]
        }
      ]
    },
    {
      "cell_type": "code",
      "source": [
        "# How many samples do we have?\n",
        "len(df)"
      ],
      "metadata": {
        "colab": {
          "base_uri": "https://localhost:8080/"
        },
        "id": "uxbai2SLTe9T",
        "outputId": "5c49fd43-4d4e-4cfc-fa94-575adf396ad6"
      },
      "execution_count": null,
      "outputs": [
        {
          "output_type": "execute_result",
          "data": {
            "text/plain": [
              "2787"
            ]
          },
          "metadata": {},
          "execution_count": 5
        }
      ]
    },
    {
      "cell_type": "markdown",
      "source": [
        "We've collected the historical price of Bitcoin for the past -8 years but there's 2787 samples.\n",
        "\n",
        "Typically deep learning models usually like lots and lots and lots of samples (where lots can be thousands to thousands to millions)\n",
        "\n",
        "A smaller number of samples is something you'll often run into with time series data problems.\n",
        "\n",
        "> 🔑 **Note:** The **seasonality** of a time series dataset is referred as the number of samples per year. So for our Bitcoin data, it has a seasonality of daily or value of 365 because we collect one sample per day meaning we'll get 365 samples per year."
      ],
      "metadata": {
        "id": "LgzbRElfT4Ra"
      }
    },
    {
      "cell_type": "code",
      "source": [
        "# Only want closing price for each day\n",
        "bitcoin_prices = pd.DataFrame(df[\"Closing Price (USD)\"]).rename(columns={\"Closing Price (USD)\": \"Price\"})\n",
        "bitcoin_prices"
      ],
      "metadata": {
        "colab": {
          "base_uri": "https://localhost:8080/",
          "height": 455
        },
        "id": "zWZRK9awVCvr",
        "outputId": "caedb767-10bd-48ef-fbf2-d8eb1d92ee45"
      },
      "execution_count": null,
      "outputs": [
        {
          "output_type": "execute_result",
          "data": {
            "text/plain": [
              "                   Price\n",
              "Date                    \n",
              "2013-10-01    123.654990\n",
              "2013-10-02    125.455000\n",
              "2013-10-03    108.584830\n",
              "2013-10-04    118.674660\n",
              "2013-10-05    121.338660\n",
              "...                  ...\n",
              "2021-05-14  49764.132082\n",
              "2021-05-15  50032.693137\n",
              "2021-05-16  47885.625255\n",
              "2021-05-17  45604.615754\n",
              "2021-05-18  43144.471291\n",
              "\n",
              "[2787 rows x 1 columns]"
            ],
            "text/html": [
              "\n",
              "  <div id=\"df-30c13498-5331-4808-be1a-9262e8d63999\" class=\"colab-df-container\">\n",
              "    <div>\n",
              "<style scoped>\n",
              "    .dataframe tbody tr th:only-of-type {\n",
              "        vertical-align: middle;\n",
              "    }\n",
              "\n",
              "    .dataframe tbody tr th {\n",
              "        vertical-align: top;\n",
              "    }\n",
              "\n",
              "    .dataframe thead th {\n",
              "        text-align: right;\n",
              "    }\n",
              "</style>\n",
              "<table border=\"1\" class=\"dataframe\">\n",
              "  <thead>\n",
              "    <tr style=\"text-align: right;\">\n",
              "      <th></th>\n",
              "      <th>Price</th>\n",
              "    </tr>\n",
              "    <tr>\n",
              "      <th>Date</th>\n",
              "      <th></th>\n",
              "    </tr>\n",
              "  </thead>\n",
              "  <tbody>\n",
              "    <tr>\n",
              "      <th>2013-10-01</th>\n",
              "      <td>123.654990</td>\n",
              "    </tr>\n",
              "    <tr>\n",
              "      <th>2013-10-02</th>\n",
              "      <td>125.455000</td>\n",
              "    </tr>\n",
              "    <tr>\n",
              "      <th>2013-10-03</th>\n",
              "      <td>108.584830</td>\n",
              "    </tr>\n",
              "    <tr>\n",
              "      <th>2013-10-04</th>\n",
              "      <td>118.674660</td>\n",
              "    </tr>\n",
              "    <tr>\n",
              "      <th>2013-10-05</th>\n",
              "      <td>121.338660</td>\n",
              "    </tr>\n",
              "    <tr>\n",
              "      <th>...</th>\n",
              "      <td>...</td>\n",
              "    </tr>\n",
              "    <tr>\n",
              "      <th>2021-05-14</th>\n",
              "      <td>49764.132082</td>\n",
              "    </tr>\n",
              "    <tr>\n",
              "      <th>2021-05-15</th>\n",
              "      <td>50032.693137</td>\n",
              "    </tr>\n",
              "    <tr>\n",
              "      <th>2021-05-16</th>\n",
              "      <td>47885.625255</td>\n",
              "    </tr>\n",
              "    <tr>\n",
              "      <th>2021-05-17</th>\n",
              "      <td>45604.615754</td>\n",
              "    </tr>\n",
              "    <tr>\n",
              "      <th>2021-05-18</th>\n",
              "      <td>43144.471291</td>\n",
              "    </tr>\n",
              "  </tbody>\n",
              "</table>\n",
              "<p>2787 rows × 1 columns</p>\n",
              "</div>\n",
              "    <div class=\"colab-df-buttons\">\n",
              "\n",
              "  <div class=\"colab-df-container\">\n",
              "    <button class=\"colab-df-convert\" onclick=\"convertToInteractive('df-30c13498-5331-4808-be1a-9262e8d63999')\"\n",
              "            title=\"Convert this dataframe to an interactive table.\"\n",
              "            style=\"display:none;\">\n",
              "\n",
              "  <svg xmlns=\"http://www.w3.org/2000/svg\" height=\"24px\" viewBox=\"0 -960 960 960\">\n",
              "    <path d=\"M120-120v-720h720v720H120Zm60-500h600v-160H180v160Zm220 220h160v-160H400v160Zm0 220h160v-160H400v160ZM180-400h160v-160H180v160Zm440 0h160v-160H620v160ZM180-180h160v-160H180v160Zm440 0h160v-160H620v160Z\"/>\n",
              "  </svg>\n",
              "    </button>\n",
              "\n",
              "  <style>\n",
              "    .colab-df-container {\n",
              "      display:flex;\n",
              "      gap: 12px;\n",
              "    }\n",
              "\n",
              "    .colab-df-convert {\n",
              "      background-color: #E8F0FE;\n",
              "      border: none;\n",
              "      border-radius: 50%;\n",
              "      cursor: pointer;\n",
              "      display: none;\n",
              "      fill: #1967D2;\n",
              "      height: 32px;\n",
              "      padding: 0 0 0 0;\n",
              "      width: 32px;\n",
              "    }\n",
              "\n",
              "    .colab-df-convert:hover {\n",
              "      background-color: #E2EBFA;\n",
              "      box-shadow: 0px 1px 2px rgba(60, 64, 67, 0.3), 0px 1px 3px 1px rgba(60, 64, 67, 0.15);\n",
              "      fill: #174EA6;\n",
              "    }\n",
              "\n",
              "    .colab-df-buttons div {\n",
              "      margin-bottom: 4px;\n",
              "    }\n",
              "\n",
              "    [theme=dark] .colab-df-convert {\n",
              "      background-color: #3B4455;\n",
              "      fill: #D2E3FC;\n",
              "    }\n",
              "\n",
              "    [theme=dark] .colab-df-convert:hover {\n",
              "      background-color: #434B5C;\n",
              "      box-shadow: 0px 1px 3px 1px rgba(0, 0, 0, 0.15);\n",
              "      filter: drop-shadow(0px 1px 2px rgba(0, 0, 0, 0.3));\n",
              "      fill: #FFFFFF;\n",
              "    }\n",
              "  </style>\n",
              "\n",
              "    <script>\n",
              "      const buttonEl =\n",
              "        document.querySelector('#df-30c13498-5331-4808-be1a-9262e8d63999 button.colab-df-convert');\n",
              "      buttonEl.style.display =\n",
              "        google.colab.kernel.accessAllowed ? 'block' : 'none';\n",
              "\n",
              "      async function convertToInteractive(key) {\n",
              "        const element = document.querySelector('#df-30c13498-5331-4808-be1a-9262e8d63999');\n",
              "        const dataTable =\n",
              "          await google.colab.kernel.invokeFunction('convertToInteractive',\n",
              "                                                    [key], {});\n",
              "        if (!dataTable) return;\n",
              "\n",
              "        const docLinkHtml = 'Like what you see? Visit the ' +\n",
              "          '<a target=\"_blank\" href=https://colab.research.google.com/notebooks/data_table.ipynb>data table notebook</a>'\n",
              "          + ' to learn more about interactive tables.';\n",
              "        element.innerHTML = '';\n",
              "        dataTable['output_type'] = 'display_data';\n",
              "        await google.colab.output.renderOutput(dataTable, element);\n",
              "        const docLink = document.createElement('div');\n",
              "        docLink.innerHTML = docLinkHtml;\n",
              "        element.appendChild(docLink);\n",
              "      }\n",
              "    </script>\n",
              "  </div>\n",
              "\n",
              "\n",
              "<div id=\"df-e340068c-fb1a-47c2-b473-c294eff3e92b\">\n",
              "  <button class=\"colab-df-quickchart\" onclick=\"quickchart('df-e340068c-fb1a-47c2-b473-c294eff3e92b')\"\n",
              "            title=\"Suggest charts.\"\n",
              "            style=\"display:none;\">\n",
              "\n",
              "<svg xmlns=\"http://www.w3.org/2000/svg\" height=\"24px\"viewBox=\"0 0 24 24\"\n",
              "     width=\"24px\">\n",
              "    <g>\n",
              "        <path d=\"M19 3H5c-1.1 0-2 .9-2 2v14c0 1.1.9 2 2 2h14c1.1 0 2-.9 2-2V5c0-1.1-.9-2-2-2zM9 17H7v-7h2v7zm4 0h-2V7h2v10zm4 0h-2v-4h2v4z\"/>\n",
              "    </g>\n",
              "</svg>\n",
              "  </button>\n",
              "\n",
              "<style>\n",
              "  .colab-df-quickchart {\n",
              "      --bg-color: #E8F0FE;\n",
              "      --fill-color: #1967D2;\n",
              "      --hover-bg-color: #E2EBFA;\n",
              "      --hover-fill-color: #174EA6;\n",
              "      --disabled-fill-color: #AAA;\n",
              "      --disabled-bg-color: #DDD;\n",
              "  }\n",
              "\n",
              "  [theme=dark] .colab-df-quickchart {\n",
              "      --bg-color: #3B4455;\n",
              "      --fill-color: #D2E3FC;\n",
              "      --hover-bg-color: #434B5C;\n",
              "      --hover-fill-color: #FFFFFF;\n",
              "      --disabled-bg-color: #3B4455;\n",
              "      --disabled-fill-color: #666;\n",
              "  }\n",
              "\n",
              "  .colab-df-quickchart {\n",
              "    background-color: var(--bg-color);\n",
              "    border: none;\n",
              "    border-radius: 50%;\n",
              "    cursor: pointer;\n",
              "    display: none;\n",
              "    fill: var(--fill-color);\n",
              "    height: 32px;\n",
              "    padding: 0;\n",
              "    width: 32px;\n",
              "  }\n",
              "\n",
              "  .colab-df-quickchart:hover {\n",
              "    background-color: var(--hover-bg-color);\n",
              "    box-shadow: 0 1px 2px rgba(60, 64, 67, 0.3), 0 1px 3px 1px rgba(60, 64, 67, 0.15);\n",
              "    fill: var(--button-hover-fill-color);\n",
              "  }\n",
              "\n",
              "  .colab-df-quickchart-complete:disabled,\n",
              "  .colab-df-quickchart-complete:disabled:hover {\n",
              "    background-color: var(--disabled-bg-color);\n",
              "    fill: var(--disabled-fill-color);\n",
              "    box-shadow: none;\n",
              "  }\n",
              "\n",
              "  .colab-df-spinner {\n",
              "    border: 2px solid var(--fill-color);\n",
              "    border-color: transparent;\n",
              "    border-bottom-color: var(--fill-color);\n",
              "    animation:\n",
              "      spin 1s steps(1) infinite;\n",
              "  }\n",
              "\n",
              "  @keyframes spin {\n",
              "    0% {\n",
              "      border-color: transparent;\n",
              "      border-bottom-color: var(--fill-color);\n",
              "      border-left-color: var(--fill-color);\n",
              "    }\n",
              "    20% {\n",
              "      border-color: transparent;\n",
              "      border-left-color: var(--fill-color);\n",
              "      border-top-color: var(--fill-color);\n",
              "    }\n",
              "    30% {\n",
              "      border-color: transparent;\n",
              "      border-left-color: var(--fill-color);\n",
              "      border-top-color: var(--fill-color);\n",
              "      border-right-color: var(--fill-color);\n",
              "    }\n",
              "    40% {\n",
              "      border-color: transparent;\n",
              "      border-right-color: var(--fill-color);\n",
              "      border-top-color: var(--fill-color);\n",
              "    }\n",
              "    60% {\n",
              "      border-color: transparent;\n",
              "      border-right-color: var(--fill-color);\n",
              "    }\n",
              "    80% {\n",
              "      border-color: transparent;\n",
              "      border-right-color: var(--fill-color);\n",
              "      border-bottom-color: var(--fill-color);\n",
              "    }\n",
              "    90% {\n",
              "      border-color: transparent;\n",
              "      border-bottom-color: var(--fill-color);\n",
              "    }\n",
              "  }\n",
              "</style>\n",
              "\n",
              "  <script>\n",
              "    async function quickchart(key) {\n",
              "      const quickchartButtonEl =\n",
              "        document.querySelector('#' + key + ' button');\n",
              "      quickchartButtonEl.disabled = true;  // To prevent multiple clicks.\n",
              "      quickchartButtonEl.classList.add('colab-df-spinner');\n",
              "      try {\n",
              "        const charts = await google.colab.kernel.invokeFunction(\n",
              "            'suggestCharts', [key], {});\n",
              "      } catch (error) {\n",
              "        console.error('Error during call to suggestCharts:', error);\n",
              "      }\n",
              "      quickchartButtonEl.classList.remove('colab-df-spinner');\n",
              "      quickchartButtonEl.classList.add('colab-df-quickchart-complete');\n",
              "    }\n",
              "    (() => {\n",
              "      let quickchartButtonEl =\n",
              "        document.querySelector('#df-e340068c-fb1a-47c2-b473-c294eff3e92b button');\n",
              "      quickchartButtonEl.style.display =\n",
              "        google.colab.kernel.accessAllowed ? 'block' : 'none';\n",
              "    })();\n",
              "  </script>\n",
              "</div>\n",
              "    </div>\n",
              "  </div>\n"
            ]
          },
          "metadata": {},
          "execution_count": 6
        }
      ]
    },
    {
      "cell_type": "code",
      "source": [
        "import matplotlib.pyplot as plt\n",
        "bitcoin_prices.plot(figsize=(10, 7))\n",
        "plt.ylabel(\"BTC Price\")\n",
        "plt.title(\"Price of Bitcoin from 1 oct 2013 to 18 may 2021\", fontsize=16)\n",
        "plt.legend(fontsize=14);"
      ],
      "metadata": {
        "colab": {
          "base_uri": "https://localhost:8080/",
          "height": 643
        },
        "id": "oiLKkuI9h2gR",
        "outputId": "503b2d09-b784-4375-eebf-c81cda265747"
      },
      "execution_count": null,
      "outputs": [
        {
          "output_type": "display_data",
          "data": {
            "text/plain": [
              "<Figure size 1000x700 with 1 Axes>"
            ],
            "image/png": "[encoded data removed]"
          },
          "metadata": {}
        }
      ]
    },
    {
      "cell_type": "markdown",
      "source": [
        "## Importing time series data with Python's CSV module"
      ],
      "metadata": {
        "id": "mlygUgmAip4y"
      }
    },
    {
      "cell_type": "code",
      "source": [
        "# Importing and formatting historical Bitcoin data with Python\n",
        "import csv\n",
        "from datetime import datetime\n",
        "\n",
        "timesteps = []\n",
        "btc_price = []\n",
        "with open(\"/content/BTC_USD_2013-10-01_2021-05-18-CoinDesk.csv\", \"r\") as f:\n",
        "  csv_reader = csv.reader(f, delimiter=\",\") # read in the target CSV\n",
        "  next(csv_reader) # skip first line (this gets rid of the column titles)\n",
        "  for line in csv_reader:\n",
        "    timesteps.append(datetime.strptime(line[1], \"%Y-%m-%d\")) # get the dates as dates (not strings), strptime = string parse time\n",
        "    btc_price.append(float(line[2])) # get the closing price as float\n",
        "\n",
        "# View first 10 of each\n",
        "timesteps[:10], btc_price[:10]"
      ],
      "metadata": {
        "colab": {
          "base_uri": "https://localhost:8080/"
        },
        "id": "X5l2jH99jBOf",
        "outputId": "1939a125-7ca8-4e6e-d1d0-7dcd190a9b75"
      },
      "execution_count": null,
      "outputs": [
        {
          "output_type": "execute_result",
          "data": {
            "text/plain": [
              "([datetime.datetime(2013, 10, 1, 0, 0),\n",
              "  datetime.datetime(2013, 10, 2, 0, 0),\n",
              "  datetime.datetime(2013, 10, 3, 0, 0),\n",
              "  datetime.datetime(2013, 10, 4, 0, 0),\n",
              "  datetime.datetime(2013, 10, 5, 0, 0),\n",
              "  datetime.datetime(2013, 10, 6, 0, 0),\n",
              "  datetime.datetime(2013, 10, 7, 0, 0),\n",
              "  datetime.datetime(2013, 10, 8, 0, 0),\n",
              "  datetime.datetime(2013, 10, 9, 0, 0),\n",
              "  datetime.datetime(2013, 10, 10, 0, 0)],\n",
              " [123.65499,\n",
              "  125.455,\n",
              "  108.58483,\n",
              "  118.67466,\n",
              "  121.33866,\n",
              "  120.65533,\n",
              "  121.795,\n",
              "  123.033,\n",
              "  124.049,\n",
              "  125.96116])"
            ]
          },
          "metadata": {},
          "execution_count": 8
        }
      ]
    },
    {
      "cell_type": "code",
      "source": [
        "# Plot from CSV\n",
        "import matplotlib.pyplot as plt\n",
        "#import numpy as np\n",
        "plt.figure(figsize=(10, 7))\n",
        "plt.plot(timesteps, btc_price)\n",
        "plt.ylabel(\"BTC Price\")\n",
        "plt.title(\"Price of Bitcoin from 1 oct 2013 to 18 may 2021\", fontsize=16)\n",
        "plt.xlabel(\"Date\")"
      ],
      "metadata": {
        "colab": {
          "base_uri": "https://localhost:8080/",
          "height": 660
        },
        "id": "ahWO0DnskMj4",
        "outputId": "b92c0ba3-84ce-43f0-b284-fc18d24df057"
      },
      "execution_count": null,
      "outputs": [
        {
          "output_type": "execute_result",
          "data": {
            "text/plain": [
              "Text(0.5, 0, 'Date')"
            ]
          },
          "metadata": {},
          "execution_count": 9
        },
        {
          "output_type": "display_data",
          "data": {
            "text/plain": [
              "<Figure size 1000x700 with 1 Axes>"
            ],
            "image/png": "[encoded data removed]"
          },
          "metadata": {}
        }
      ]
    },
    {
      "cell_type": "markdown",
      "source": [
        "## Format data part 1: Create train and test sets of our time series data"
      ],
      "metadata": {
        "id": "mrZGwQ3E0Pwn"
      }
    },
    {
      "cell_type": "markdown",
      "source": [
        "### Creating train and test sets with time series data (the wrong way)"
      ],
      "metadata": {
        "id": "niFS7tcL0gT_"
      }
    },
    {
      "cell_type": "code",
      "source": [
        "# Get bitcoin data array\n",
        "timesteps = bitcoin_prices.index.to_numpy()\n",
        "prices = bitcoin_prices[\"Price\"].to_numpy()\n",
        "\n",
        "timesteps[:10], prices[:10]"
      ],
      "metadata": {
        "colab": {
          "base_uri": "https://localhost:8080/"
        },
        "id": "z81UsVl_0lRz",
        "outputId": "95185cbb-a4cf-4b08-c749-fac80ec8f843"
      },
      "execution_count": null,
      "outputs": [
        {
          "output_type": "execute_result",
          "data": {
            "text/plain": [
              "(array(['2013-10-01T00:00:00.000000000', '2013-10-02T00:00:00.000000000',\n",
              "        '2013-10-03T00:00:00.000000000', '2013-10-04T00:00:00.000000000',\n",
              "        '2013-10-05T00:00:00.000000000', '2013-10-06T00:00:00.000000000',\n",
              "        '2013-10-07T00:00:00.000000000', '2013-10-08T00:00:00.000000000',\n",
              "        '2013-10-09T00:00:00.000000000', '2013-10-10T00:00:00.000000000'],\n",
              "       dtype='datetime64[ns]'),\n",
              " array([123.65499, 125.455  , 108.58483, 118.67466, 121.33866, 120.65533,\n",
              "        121.795  , 123.033  , 124.049  , 125.96116]))"
            ]
          },
          "metadata": {},
          "execution_count": 10
        }
      ]
    },
    {
      "cell_type": "code",
      "source": [
        "# Wrong way to make train/test sets for time series data\n",
        "from sklearn.model_selection import train_test_split\n",
        "\n",
        "X_train, X_test, y_train, y_test = train_test_split(timesteps, # dates\n",
        "                                                    prices,\n",
        "                                                    test_size=0.2,\n",
        "                                                    random_state=42)\n",
        "X_train.shape, X_test.shape, y_train.shape, y_test.shape"
      ],
      "metadata": {
        "colab": {
          "base_uri": "https://localhost:8080/"
        },
        "id": "WIJtKcRs1FHH",
        "outputId": "f4456a4c-3bb8-4ffe-d212-0825454573e5"
      },
      "execution_count": null,
      "outputs": [
        {
          "output_type": "execute_result",
          "data": {
            "text/plain": [
              "((2229,), (558,), (2229,), (558,))"
            ]
          },
          "metadata": {},
          "execution_count": 11
        }
      ]
    },
    {
      "cell_type": "code",
      "source": [
        "# Let's plot wrong train and test splits\n",
        "plt.figure(figsize=(10, 7))\n",
        "plt.scatter(X_train, y_train, s=5, label=\"Train data\")\n",
        "plt.scatter(X_test, y_test, s=5, label=\"Test data\")\n",
        "plt.xlabel(\"Date\")\n",
        "plt.ylabel(\"BTC price\")\n",
        "plt.legend(fontsize=14)\n",
        "plt.show();"
      ],
      "metadata": {
        "colab": {
          "base_uri": "https://localhost:8080/",
          "height": 619
        },
        "id": "qAX5MePj1_BN",
        "outputId": "f48c7233-49b4-41af-d4e2-a387f04da2a5"
      },
      "execution_count": null,
      "outputs": [
        {
          "output_type": "display_data",
          "data": {
            "text/plain": [
              "<Figure size 1000x700 with 1 Axes>"
            ],
            "image/png": "[encoded data removed]"
          },
          "metadata": {}
        }
      ]
    },
    {
      "cell_type": "markdown",
      "source": [
        "### Create train & test sets for time series (the right way)"
      ],
      "metadata": {
        "id": "hDenLOu04S_X"
      }
    },
    {
      "cell_type": "code",
      "source": [
        "# Create train and test splits the right way for time series data\n",
        "split_size = int(0.8 * len(prices)) # 80% train, 20% test - you can change these values as needed, e.g. 90/10, 95/5\n",
        "\n",
        "# Create train data splits (everything before the split)\n",
        "X_train, y_train = timesteps[:split_size], prices[:split_size]\n",
        "\n",
        "# Create test data splits (everything beyond the split)\n",
        "X_test, y_test = timesteps[split_size:], prices[split_size:]\n",
        "\n",
        "len(X_train), len(X_test), len(y_train), len(y_test)"
      ],
      "metadata": {
        "colab": {
          "base_uri": "https://localhost:8080/"
        },
        "id": "Fag_ipIm4b9h",
        "outputId": "41581ca6-407d-409d-f848-855efdc5d404"
      },
      "execution_count": null,
      "outputs": [
        {
          "output_type": "execute_result",
          "data": {
            "text/plain": [
              "(2229, 558, 2229, 558)"
            ]
          },
          "metadata": {},
          "execution_count": 13
        }
      ]
    },
    {
      "cell_type": "code",
      "source": [
        "# Plot correctly made splits\n",
        "plt.figure(figsize=(10, 7))\n",
        "plt.scatter(X_train, y_train, s=5, label=\"Train data\")\n",
        "plt.scatter(X_test, y_test, s=5, label=\"Test data\")\n",
        "plt.xlabel(\"Date\")\n",
        "plt.ylabel(\"BTC price\")\n",
        "plt.legend(fontsize=14)\n",
        "plt.show();"
      ],
      "metadata": {
        "colab": {
          "base_uri": "https://localhost:8080/",
          "height": 619
        },
        "id": "d3PhbttK6Ua8",
        "outputId": "699558fb-cace-4a18-f5ad-2425fed302ad"
      },
      "execution_count": null,
      "outputs": [
        {
          "output_type": "display_data",
          "data": {
            "text/plain": [
              "<Figure size 1000x700 with 1 Axes>"
            ],
            "image/png": "[encoded data removed]"
          },
          "metadata": {}
        }
      ]
    },
    {
      "cell_type": "markdown",
      "source": [
        "## Create a plotting function\n",
        "Typing plotting code is tedious, let's functionize it"
      ],
      "metadata": {
        "id": "F1dOL7gp805N"
      }
    },
    {
      "cell_type": "code",
      "source": [
        "# Create a function to plot time series data\n",
        "def plot_time_series(timesteps, values, format=\".\", start=0, end=None, label=None):\n",
        "  \"\"\"\n",
        "  Plots timesteps (a series of points in time) against values (a series of values across timesteps).\n",
        "\n",
        "  Parameters\n",
        "  __________\n",
        "  timesteps: array of timestep values\n",
        "  values: array of values across time\n",
        "  format: style of plot, default \".\"\n",
        "  start: where to start the plot (setting a value will index from start of timesteps & values)\n",
        "  end: where to end the plot (similar to start but for the end)\n",
        "  label: label to show on plot about values, default None\n",
        "  \"\"\"\n",
        "  # Plot the series\n",
        "\n",
        "  plt.plot(timesteps[start:end], values[start:end], format, label=label)\n",
        "  plt.xlabel(\"Time\")\n",
        "  plt.ylabel(\"BTC Price\")\n",
        "  if label:\n",
        "    plt.legend(fontsize=14) # make label bigger\n",
        "  plt.grid(True)\n"
      ],
      "metadata": {
        "id": "FwSryTBn89gx"
      },
      "execution_count": null,
      "outputs": []
    },
    {
      "cell_type": "code",
      "source": [
        "# Test out plotting function\n",
        "plt.figure(figsize=(10, 7))\n",
        "plot_time_series(timesteps=X_train, values=y_train, label=\"Train data\")\n",
        "plot_time_series(timesteps=X_test, values=y_test, label=\"Test data\")"
      ],
      "metadata": {
        "colab": {
          "base_uri": "https://localhost:8080/",
          "height": 619
        },
        "id": "USTDsLVz-kCb",
        "outputId": "e40eb12c-124b-4899-a63c-57060c438597"
      },
      "execution_count": null,
      "outputs": [
        {
          "output_type": "display_data",
          "data": {
            "text/plain": [
              "<Figure size 1000x700 with 1 Axes>"
            ],
            "image/png": "[encoded data removed]"
          },
          "metadata": {}
        }
      ]
    },
    {
      "cell_type": "markdown",
      "source": [
        "## Modelling Experiments\n",
        "\n",
        "We've got some Bitcoin historical data, to model it, let's run a series of modelling experiments and see which model performs best.\n",
        "\n",
        "Terms to be familiar with:\n",
        "* **Horizon** = number of timesteps into the future we're going to predict\n",
        "* **window size** = number of timesteps we're going to use to predict **horizon**\n",
        "\n",
        "Modelling experiments we're running:\n",
        "\n",
        "* 0\tNaïve model (baseline)\tNA\tNA\tNA\n",
        "* 1\tDense model, horizon = 1, window = 7\n",
        "* 2\tSame as 1, horizon = 1, window = 30\n",
        "* 3\tSame as 1, horizon = 7, window = 30\n",
        "* 4\tConv1D\n",
        "* 5\tLSTM\n",
        "* 6\tSame as 1 (but with multivariate data)\n",
        "* 7\tN-BEATs Algorithm\n",
        "* 8\tEnsemble (multiple models optimized on different loss functions)\n",
        "* 9\tFuture prediction model (model to predict future values)\n",
        "* 10\tSame as 1 (but with turkey 🦃 data introduced)"
      ],
      "metadata": {
        "id": "HRLUtpWZBSho"
      }
    },
    {
      "cell_type": "markdown",
      "source": [
        "Naive model forecating : https://otexts.com/fpp3/simple-methods.html"
      ],
      "metadata": {
        "id": "0LZ9nqKPBmL6"
      }
    },
    {
      "cell_type": "markdown",
      "source": [
        "## Model 0: Naive forecast (baseline)\n",
        "\n",
        "The formula looks like this:\n",
        "\n",
        "$$\\hat{y}_{t}=y_{t-1}$$\n",
        "\n",
        "In English:\n",
        "\n",
        "> The prediction at timestep t (y-hat) is equal to the value at timestep t-1 (previous timestep) - this is for horizon of 1."
      ],
      "metadata": {
        "id": "BEwlYYXuNo3q"
      }
    },
    {
      "cell_type": "code",
      "source": [
        "y_test[:10]"
      ],
      "metadata": {
        "colab": {
          "base_uri": "https://localhost:8080/"
        },
        "id": "Sn3z6zS8O0P8",
        "outputId": "8c22535b-8f02-400e-d0da-b0434fd0b8c3"
      },
      "execution_count": null,
      "outputs": [
        {
          "output_type": "execute_result",
          "data": {
            "text/plain": [
              "array([9226.48582088, 8794.35864452, 8798.04205463, 9081.18687849,\n",
              "       8711.53433917, 8760.89271814, 8749.52059102, 8656.97092235,\n",
              "       8500.64355816, 8469.2608989 ])"
            ]
          },
          "metadata": {},
          "execution_count": 17
        }
      ]
    },
    {
      "cell_type": "code",
      "source": [
        "# Create a naive forecast\n",
        "naive_forecast = y_test[:-1]\n",
        "\n",
        "naive_forecast[:10], naive_forecast[-10:]"
      ],
      "metadata": {
        "colab": {
          "base_uri": "https://localhost:8080/"
        },
        "id": "R2nkgoBON6zz",
        "outputId": "a7b6da3f-4b63-4dc5-e088-2ef9d8ae2e09"
      },
      "execution_count": null,
      "outputs": [
        {
          "output_type": "execute_result",
          "data": {
            "text/plain": [
              "(array([9226.48582088, 8794.35864452, 8798.04205463, 9081.18687849,\n",
              "        8711.53433917, 8760.89271814, 8749.52059102, 8656.97092235,\n",
              "        8500.64355816, 8469.2608989 ]),\n",
              " array([57107.12067189, 58788.20967893, 58102.19142623, 55715.54665129,\n",
              "        56573.5554719 , 52147.82118698, 49764.1320816 , 50032.69313676,\n",
              "        47885.62525472, 45604.61575361]))"
            ]
          },
          "metadata": {},
          "execution_count": 18
        }
      ]
    },
    {
      "cell_type": "code",
      "source": [
        "# Plot naive forecast\n",
        "plt.figure(figsize=(10, 7))\n",
        "# plot_time_series(timesteps=X_train, values=y_train, label=\"Train data\")\n",
        "plot_time_series(timesteps=X_test, values=y_test, start=350, format=\"-\", label=\"Test data\")\n",
        "plot_time_series(timesteps=X_test[1:], values=naive_forecast, start=350, format=\"-\", label=\"Naive Forecast\")"
      ],
      "metadata": {
        "colab": {
          "base_uri": "https://localhost:8080/",
          "height": 619
        },
        "id": "f2dxES8fPAqu",
        "outputId": "e34bf292-546a-4aba-9409-437c0b65294f"
      },
      "execution_count": null,
      "outputs": [
        {
          "output_type": "display_data",
          "data": {
            "text/plain": [
              "<Figure size 1000x700 with 1 Axes>"
            ],
            "image/png": "[encoded data removed]"
          },
          "metadata": {}
        }
      ]
    },
    {
      "cell_type": "markdown",
      "source": [
        "## Evaluating a time series model\n",
        "\n",
        "Let's look into some evaluation metrics for time series forecasting.\n",
        "\n",
        "What are we doing?\n",
        "\n",
        "We're predicting a number, so that means we have a form of a regression problem.\n",
        "\n",
        "Because we're working on a regression problem, we'll need some regression-like metrics.\n",
        "\n",
        "A few common regression metrics (which can also be used for time series forecasting):\n",
        "* MAE - mean absolute error\n",
        "* MSE - mean squared error\n",
        "* RMSE - root mean square error\n",
        "* MAPE/sMAPE - (symmetric) man absolute percentage error\n",
        "* MASE - mean absolute scaled error\n",
        "\n",
        "For all of the above metrics, **lower is better**, for example, an MAE of 0 that is better than an MAE of 100.\n",
        "\n",
        "The main thing we're evaluating here is: **how do our model's forecasts (y_pred) compare against the actual values (y_true or ground truth values)?**"
      ],
      "metadata": {
        "id": "75bqJS-KQ9gc"
      }
    },
    {
      "cell_type": "code",
      "source": [
        "import tensorflow as tf"
      ],
      "metadata": {
        "id": "YcI9xfZBSTIf"
      },
      "execution_count": null,
      "outputs": []
    },
    {
      "cell_type": "code",
      "source": [
        "y_test[0].dtype"
      ],
      "metadata": {
        "colab": {
          "base_uri": "https://localhost:8080/"
        },
        "id": "kqo4OMqmN8PM",
        "outputId": "975a7275-7b70-48a3-f5db-7cf344babcbb"
      },
      "execution_count": null,
      "outputs": [
        {
          "output_type": "execute_result",
          "data": {
            "text/plain": [
              "dtype('float64')"
            ]
          },
          "metadata": {},
          "execution_count": 21
        }
      ]
    },
    {
      "cell_type": "code",
      "source": [
        "# MASE implementation\n",
        "def mean_absolute_scaled_error(y_true, y_pred):\n",
        "  \"\"\"\n",
        "  Implement MASE (assuming no seasonality of data).\n",
        "  \"\"\"\n",
        "  mae = tf.reduce_mean(tf.abs(y_true-y_pred))\n",
        "\n",
        "  # Find MAE of naive forecast (no seasonality)\n",
        "  mae_naive_no_season = tf.reduce_mean(tf.abs(y_true[1:] - y_true[:-1])) # our seasonality is 1 day (hence the shift of 1)\n",
        "  return mae / mae_naive_no_season"
      ],
      "metadata": {
        "id": "seVj2_XlbchD"
      },
      "execution_count": null,
      "outputs": []
    },
    {
      "cell_type": "code",
      "source": [
        "mean_absolute_scaled_error(y_true=y_test[1:], y_pred=naive_forecast).numpy()"
      ],
      "metadata": {
        "colab": {
          "base_uri": "https://localhost:8080/"
        },
        "id": "wf4kjMKeciE5",
        "outputId": "455ff04b-eed0-48db-b147-af48f2ff1308"
      },
      "execution_count": null,
      "outputs": [
        {
          "output_type": "execute_result",
          "data": {
            "text/plain": [
              "0.9995699939182624"
            ]
          },
          "metadata": {},
          "execution_count": 23
        }
      ]
    },
    {
      "cell_type": "code",
      "source": [
        "# Create a function to take in model predictions and truth values and return evaluation metrics\n",
        "def evaluate_preds(y_true, y_pred):\n",
        "  # Make sure float32 datatype (for metric calculations)\n",
        "  y_true = tf.cast(y_true, dtype=tf.float32)\n",
        "  y_pred = tf.cast(y_pred, dtype=tf.float32)\n",
        "\n",
        "  # Calculate various evaluation metrics\n",
        "  mae = tf.keras.metrics.mean_absolute_error(y_true, y_pred)\n",
        "  mse = tf.keras.metrics.mean_squared_error(y_true, y_pred)\n",
        "  rmse = tf.sqrt(mse)\n",
        "  mape = tf.keras.metrics.mean_absolute_percentage_error(y_true, y_pred)\n",
        "  mase = mean_absolute_scaled_error(y_true, y_pred)\n",
        "\n",
        "  return {\"mae\": mae.numpy(),\n",
        "          \"mse\": mse.numpy(),\n",
        "          \"rmse\": rmse.numpy(),\n",
        "          \"mape\": mape.numpy(),\n",
        "          \"mase\": mase.numpy()}"
      ],
      "metadata": {
        "id": "3ZGMoWdedRqu"
      },
      "execution_count": null,
      "outputs": []
    },
    {
      "cell_type": "markdown",
      "source": [
        "That's one good looking evaluation function!\n",
        "\n",
        "Let's now see if it works..."
      ],
      "metadata": {
        "id": "9bumZPtKPt7p"
      }
    },
    {
      "cell_type": "code",
      "source": [
        "naive_results = evaluate_preds(y_true=y_test[1:],\n",
        "                               y_pred=naive_forecast)\n",
        "naive_results"
      ],
      "metadata": {
        "colab": {
          "base_uri": "https://localhost:8080/"
        },
        "id": "e5CAnc9BPrnh",
        "outputId": "8a37a191-66f6-4823-fe68-acd0fe431620"
      },
      "execution_count": null,
      "outputs": [
        {
          "output_type": "execute_result",
          "data": {
            "text/plain": [
              "{'mae': 567.9802,\n",
              " 'mse': 1147547.0,\n",
              " 'rmse': 1071.2362,\n",
              " 'mape': 2.516525,\n",
              " 'mase': 0.99957}"
            ]
          },
          "metadata": {},
          "execution_count": 25
        }
      ]
    },
    {
      "cell_type": "code",
      "source": [
        "naive_forecast[-10:]"
      ],
      "metadata": {
        "colab": {
          "base_uri": "https://localhost:8080/"
        },
        "id": "HR_xdFQBQui4",
        "outputId": "0a9b23aa-2993-4582-8f5a-f4d56dbfda5a"
      },
      "execution_count": null,
      "outputs": [
        {
          "output_type": "execute_result",
          "data": {
            "text/plain": [
              "array([57107.12067189, 58788.20967893, 58102.19142623, 55715.54665129,\n",
              "       56573.5554719 , 52147.82118698, 49764.1320816 , 50032.69313676,\n",
              "       47885.62525472, 45604.61575361])"
            ]
          },
          "metadata": {},
          "execution_count": 26
        }
      ]
    },
    {
      "cell_type": "code",
      "source": [
        "tf.reduce_mean(y_test)"
      ],
      "metadata": {
        "colab": {
          "base_uri": "https://localhost:8080/"
        },
        "id": "ele-9cBgQxB7",
        "outputId": "6748c05d-ff09-48dc-e38d-bd69159cfac5"
      },
      "execution_count": null,
      "outputs": [
        {
          "output_type": "execute_result",
          "data": {
            "text/plain": [
              "<tf.Tensor: shape=(), dtype=float64, numpy=20056.632963737222>"
            ]
          },
          "metadata": {},
          "execution_count": 27
        }
      ]
    },
    {
      "cell_type": "code",
      "source": [
        "tf.reduce_min(y_test), tf.reduce_max(y_test)"
      ],
      "metadata": {
        "colab": {
          "base_uri": "https://localhost:8080/"
        },
        "id": "3dF7mxcUQzWm",
        "outputId": "ba72afc5-d7c3-438b-f1a6-610e3fd1a111"
      },
      "execution_count": null,
      "outputs": [
        {
          "output_type": "execute_result",
          "data": {
            "text/plain": [
              "(<tf.Tensor: shape=(), dtype=float64, numpy=4944.7023359837>,\n",
              " <tf.Tensor: shape=(), dtype=float64, numpy=63346.7890351052>)"
            ]
          },
          "metadata": {},
          "execution_count": 28
        }
      ]
    },
    {
      "cell_type": "markdown",
      "source": [
        "## Other models you can use for baselines and for actual forecasts\n",
        "\n",
        "In this notebook, we're focused on TensorFlow and deep learning models.\n",
        "\n",
        "However there are plenty of other styles of time series forecasting models you may want to experiment with:\n",
        "https://github.com/mrdbourke/tensorflow-deep-learning/blob/main/10_time_series_forecasting_in_tensorflow.ipynb"
      ],
      "metadata": {
        "id": "Py390hIaRiyl"
      }
    },
    {
      "cell_type": "markdown",
      "source": [
        "## Format Data Part 2: Windowing our dataset\n",
        "\n",
        "Why fo we window?\n",
        "\n",
        "We window our time series dataset to turn our data into a supervised learning problem.\n",
        "```\n",
        "Windowing for one week\n",
        "[0, 1, 2, 3, 4, 5, 6] -> [7]\n",
        "[1, 2, 3, 4, 5, 6, 7] -> [8]\n",
        "[2, 3, 4, 5, 6, 7, 8] -> [9]"
      ],
      "metadata": {
        "id": "tKoTVRiPSFKK"
      }
    },
    {
      "cell_type": "code",
      "source": [
        "# What we want to do with our Bitcoin data\n",
        "print(f\"We want to use: {btc_price[:7]} to predict this: {btc_price[7]}\")"
      ],
      "metadata": {
        "colab": {
          "base_uri": "https://localhost:8080/"
        },
        "id": "pUqTTf8FTRks",
        "outputId": "8c4d1b54-4abe-46e5-8e59-be9f8bf89b3c"
      },
      "execution_count": null,
      "outputs": [
        {
          "output_type": "stream",
          "name": "stdout",
          "text": [
            "We want to use: [123.65499, 125.455, 108.58483, 118.67466, 121.33866, 120.65533, 121.795] to predict this: 123.033\n"
          ]
        }
      ]
    },
    {
      "cell_type": "code",
      "source": [
        "# Let's setup global variables for window and horizon size\n",
        "HORIZON = 1   # predict next 1 day\n",
        "WINDOW_SIZE = 7   # use the past week of Bitcoin data to make the prediction"
      ],
      "metadata": {
        "id": "B3OY6pF1UauV"
      },
      "execution_count": null,
      "outputs": []
    },
    {
      "cell_type": "code",
      "source": [
        "# Create function to label windowed data\n",
        "def get_labelled_windows(x, horizon=HORIZON):\n",
        "  \"\"\"\n",
        "  Creates labels for windowed dataset.\n",
        "\n",
        "  E.g. if horizon=1\n",
        "  Input: [0, 1, 2, 3, 4, 5, 6, 7] -> Output: ([0, 1, 2, 3, 4, 5, 6], [7])\n",
        "  \"\"\"\n",
        "  return x[:, :-HORIZON], x[:, -horizon:]"
      ],
      "metadata": {
        "id": "WqDJH5tNU0Oo"
      },
      "execution_count": null,
      "outputs": []
    },
    {
      "cell_type": "code",
      "source": [
        "# Test out the window labelling function\n",
        "test_window, test_label = get_labelled_windows(tf.expand_dims(tf.range(8), axis=0))\n",
        "print(f\"Window: {tf.squeeze(test_window).numpy()} ->, Label: {tf.squeeze(test_label).numpy()}\")"
      ],
      "metadata": {
        "colab": {
          "base_uri": "https://localhost:8080/"
        },
        "id": "r8LG7Jj6WGc2",
        "outputId": "a86effbd-8d0e-431a-b98c-e8ae0f530fb8"
      },
      "execution_count": null,
      "outputs": [
        {
          "output_type": "stream",
          "name": "stdout",
          "text": [
            "Window: [0 1 2 3 4 5 6] ->, Label: 7\n"
          ]
        }
      ]
    },
    {
      "cell_type": "markdown",
      "source": [
        "We've got a wey to label our windowed data.\n",
        "\n",
        "However, this only works on a samll scale\n",
        "\n",
        "We need a way to do the above across our entire time siries.\n",
        "\n",
        "We could do this with python for loops, however, for large time siries, that'd be quite slow.\n",
        "\n",
        "To speed things up, we'll leverage NumPy's array indexing - https://numpy.org/doc/1.21/reference/arrays.indexing.html\n",
        "\n",
        "Our function will:\n",
        "1. Create a window step of specific window size (e.g. [0, 1, 2, 3, 4, 5, 6])\n",
        "2. Use NumPy indexing to create a 2D array of multiple window steps, for example:\n",
        "\n",
        "```\n",
        "[[0, 1, 2, 3, 4, 5, 6],\n",
        "[1, 2, 3, 4, 5, 6, 7],\n",
        "[2, 3, 4, 5, 6, 7, 8]]\n",
        "```\n",
        "3. Uses the 2D array of multiple window steps (from 2.) to index on a target series (e.g. the historical price of Bitcoin)\n",
        "4. Uses our `get_labelled_window()` function we created above to turn the window steps into window with a specified horizon\n",
        "\n",
        "> **Resource:** The function we're about to create has been adapted from the following article: https://towardsdatascience.com/fast-and-robust-sliding-window-vectorization-with-numpy-3ad950ed62f5"
      ],
      "metadata": {
        "id": "IW0EOTkieOMI"
      }
    },
    {
      "cell_type": "code",
      "source": [
        "import numpy as np\n",
        "# Create function to view NumPy arrays as windows\n",
        "def make_windows(x, window_size=WINDOW_SIZE, horizon=HORIZON):\n",
        "  \"\"\"\n",
        "  Turn a 1D array into a 2D array of sequential labelled windows of window_size with horizon size labels.\n",
        "  \"\"\"\n",
        "  # 1. Create a window of specific window_size (add the horizon on the end for labelling later)\n",
        "  window_step = np.expand_dims(np.arange(window_size+horizon), axis=0)\n",
        "\n",
        "  # 2. Create a 2D array of multiple window steps (minus 1 to account for 0 indexing)\n",
        "  window_indexes = window_step + np.expand_dims(np.arange(len(x)-(window_size+horizon-1)), axis=0).T # create 2D array of windows of size window_size\n",
        "\n",
        "  #print(f\"Window indexes:\\n {window_indexes, window_indexes.shape}\")\n",
        "\n",
        "  # 3. Index on the target array (a time series) with 2D array of multiple window steps\n",
        "  windowed_array = x[window_indexes]\n",
        "  #print(windowed_array)\n",
        "\n",
        "  # 4. Get the labelled windows\n",
        "  windows, labels, = get_labelled_windows(windowed_array, horizon=horizon)\n",
        "  return windows, labels"
      ],
      "metadata": {
        "id": "-bwJBNyoebkx"
      },
      "execution_count": null,
      "outputs": []
    },
    {
      "cell_type": "code",
      "source": [
        "full_windows, full_labels  = make_windows(prices, window_size=WINDOW_SIZE, horizon=HORIZON)\n",
        "len(full_windows), len(full_labels)"
      ],
      "metadata": {
        "colab": {
          "base_uri": "https://localhost:8080/"
        },
        "id": "41XvSvm8i5KS",
        "outputId": "58e2fbd8-36e2-4473-c04f-1e642e731757"
      },
      "execution_count": null,
      "outputs": [
        {
          "output_type": "execute_result",
          "data": {
            "text/plain": [
              "(2780, 2780)"
            ]
          },
          "metadata": {},
          "execution_count": 34
        }
      ]
    },
    {
      "cell_type": "code",
      "source": [
        "len(prices)"
      ],
      "metadata": {
        "colab": {
          "base_uri": "https://localhost:8080/"
        },
        "id": "PCVx7tB1kTJW",
        "outputId": "7789b4c6-c167-40b7-ad36-83bbba771700"
      },
      "execution_count": null,
      "outputs": [
        {
          "output_type": "execute_result",
          "data": {
            "text/plain": [
              "2787"
            ]
          },
          "metadata": {},
          "execution_count": 35
        }
      ]
    },
    {
      "cell_type": "code",
      "source": [
        "# View the first 3 windows/labels\n",
        "for i in range(3):\n",
        "  print(f\"Window: {full_windows[i]} -> Label: {full_labels[i]}\")"
      ],
      "metadata": {
        "colab": {
          "base_uri": "https://localhost:8080/"
        },
        "id": "qo6ZI12nkZAJ",
        "outputId": "fd3b8807-773f-4b71-9dc2-a239c108025d"
      },
      "execution_count": null,
      "outputs": [
        {
          "output_type": "stream",
          "name": "stdout",
          "text": [
            "Window: [123.65499 125.455   108.58483 118.67466 121.33866 120.65533 121.795  ] -> Label: [123.033]\n",
            "Window: [125.455   108.58483 118.67466 121.33866 120.65533 121.795   123.033  ] -> Label: [124.049]\n",
            "Window: [108.58483 118.67466 121.33866 120.65533 121.795   123.033   124.049  ] -> Label: [125.96116]\n"
          ]
        }
      ]
    },
    {
      "cell_type": "code",
      "source": [
        "# View the last 3 windows/labels\n",
        "for i in range(3):\n",
        "  print(f\"Window: {full_windows[i-3]} -> Label: {full_labels[i-3]}\")"
      ],
      "metadata": {
        "colab": {
          "base_uri": "https://localhost:8080/"
        },
        "id": "l3XQ_H6FhtCX",
        "outputId": "64518de7-1740-4a68-f05f-067cbfe38ad0"
      },
      "execution_count": null,
      "outputs": [
        {
          "output_type": "stream",
          "name": "stdout",
          "text": [
            "Window: [58788.20967893 58102.19142623 55715.54665129 56573.5554719\n",
            " 52147.82118698 49764.1320816  50032.69313676] -> Label: [47885.62525472]\n",
            "Window: [58102.19142623 55715.54665129 56573.5554719  52147.82118698\n",
            " 49764.1320816  50032.69313676 47885.62525472] -> Label: [45604.61575361]\n",
            "Window: [55715.54665129 56573.5554719  52147.82118698 49764.1320816\n",
            " 50032.69313676 47885.62525472 45604.61575361] -> Label: [43144.47129086]\n"
          ]
        }
      ]
    },
    {
      "cell_type": "code",
      "source": [
        "prices[-1]"
      ],
      "metadata": {
        "colab": {
          "base_uri": "https://localhost:8080/"
        },
        "id": "2Q_d1UuAlCge",
        "outputId": "3c3eb8ea-2147-41b3-c849-543be3bcb1d6"
      },
      "execution_count": null,
      "outputs": [
        {
          "output_type": "execute_result",
          "data": {
            "text/plain": [
              "43144.4712908603"
            ]
          },
          "metadata": {},
          "execution_count": 38
        }
      ]
    },
    {
      "cell_type": "markdown",
      "source": [
        "> 🔑 **Note:** There's a function which does similar to the above in tf.keras.preprocessing, an extension could be to try and replicate what we've done using the premade function: https://www.tensorflow.org/api_docs/python/tf/keras/utils/timeseries_dataset_from_array"
      ],
      "metadata": {
        "id": "JIyzSH2PlG69"
      }
    },
    {
      "cell_type": "markdown",
      "source": [
        "## Turning windows into training and test sets\n"
      ],
      "metadata": {
        "id": "6PG37WYHlyMG"
      }
    },
    {
      "cell_type": "code",
      "source": [
        "full_windows[:5], full_labels[:5]"
      ],
      "metadata": {
        "colab": {
          "base_uri": "https://localhost:8080/"
        },
        "id": "zdGbgIoamfQc",
        "outputId": "8839be4c-6a39-4703-e48f-88945e83e3f9"
      },
      "execution_count": null,
      "outputs": [
        {
          "output_type": "execute_result",
          "data": {
            "text/plain": [
              "(array([[123.65499, 125.455  , 108.58483, 118.67466, 121.33866, 120.65533,\n",
              "         121.795  ],\n",
              "        [125.455  , 108.58483, 118.67466, 121.33866, 120.65533, 121.795  ,\n",
              "         123.033  ],\n",
              "        [108.58483, 118.67466, 121.33866, 120.65533, 121.795  , 123.033  ,\n",
              "         124.049  ],\n",
              "        [118.67466, 121.33866, 120.65533, 121.795  , 123.033  , 124.049  ,\n",
              "         125.96116],\n",
              "        [121.33866, 120.65533, 121.795  , 123.033  , 124.049  , 125.96116,\n",
              "         125.27966]]),\n",
              " array([[123.033  ],\n",
              "        [124.049  ],\n",
              "        [125.96116],\n",
              "        [125.27966],\n",
              "        [125.9275 ]]))"
            ]
          },
          "metadata": {},
          "execution_count": 39
        }
      ]
    },
    {
      "cell_type": "code",
      "source": [
        "# Make the train/test splits\n",
        "def make_train_test_splits(windows, labels, test_split=0.2):\n",
        "  \"\"\"\n",
        "  Splits matching pairs of windows and labels into train and test splits.\n",
        "  \"\"\"\n",
        "  split_size = int(len(windows) * (1-test_split)) # this will default to 80% train/20% test\n",
        "  train_windows = windows[:split_size]\n",
        "  train_labels = labels[:split_size]\n",
        "  test_windows = windows[split_size:]\n",
        "  test_labels = labels[split_size:]\n",
        "  return train_windows, test_windows, train_labels, test_labels\n"
      ],
      "metadata": {
        "id": "r5W3MedpmHMZ"
      },
      "execution_count": null,
      "outputs": []
    },
    {
      "cell_type": "code",
      "source": [
        "# Create train and test windows\n",
        "train_windows, test_windows, train_labels, test_labels = make_train_test_splits(full_windows, full_labels)\n",
        "len(train_windows), len(test_windows), len(train_labels), len(test_labels)"
      ],
      "metadata": {
        "colab": {
          "base_uri": "https://localhost:8080/"
        },
        "id": "qPCuB09LnpBN",
        "outputId": "af31b5ac-c529-42c5-804f-e949d98bd4c7"
      },
      "execution_count": null,
      "outputs": [
        {
          "output_type": "execute_result",
          "data": {
            "text/plain": [
              "(2224, 556, 2224, 556)"
            ]
          },
          "metadata": {},
          "execution_count": 41
        }
      ]
    },
    {
      "cell_type": "code",
      "source": [
        "train_windows[:5], train_labels[:5]"
      ],
      "metadata": {
        "colab": {
          "base_uri": "https://localhost:8080/"
        },
        "id": "15If2ZsKoGOi",
        "outputId": "96ff7f19-3fc0-494d-a45f-6830530a19c3"
      },
      "execution_count": null,
      "outputs": [
        {
          "output_type": "execute_result",
          "data": {
            "text/plain": [
              "(array([[123.65499, 125.455  , 108.58483, 118.67466, 121.33866, 120.65533,\n",
              "         121.795  ],\n",
              "        [125.455  , 108.58483, 118.67466, 121.33866, 120.65533, 121.795  ,\n",
              "         123.033  ],\n",
              "        [108.58483, 118.67466, 121.33866, 120.65533, 121.795  , 123.033  ,\n",
              "         124.049  ],\n",
              "        [118.67466, 121.33866, 120.65533, 121.795  , 123.033  , 124.049  ,\n",
              "         125.96116],\n",
              "        [121.33866, 120.65533, 121.795  , 123.033  , 124.049  , 125.96116,\n",
              "         125.27966]]),\n",
              " array([[123.033  ],\n",
              "        [124.049  ],\n",
              "        [125.96116],\n",
              "        [125.27966],\n",
              "        [125.9275 ]]))"
            ]
          },
          "metadata": {},
          "execution_count": 42
        }
      ]
    },
    {
      "cell_type": "code",
      "source": [
        "test_windows[:5], test_labels[:5]"
      ],
      "metadata": {
        "colab": {
          "base_uri": "https://localhost:8080/"
        },
        "id": "1KAGUL7moLQC",
        "outputId": "d9969292-ac26-4a54-da2c-340be86699fd"
      },
      "execution_count": null,
      "outputs": [
        {
          "output_type": "execute_result",
          "data": {
            "text/plain": [
              "(array([[9290.89660239, 9202.41545055, 9369.62808116, 9326.59962378,\n",
              "         9335.75240233, 9226.48582088, 8794.35864452],\n",
              "        [9202.41545055, 9369.62808116, 9326.59962378, 9335.75240233,\n",
              "         9226.48582088, 8794.35864452, 8798.04205463],\n",
              "        [9369.62808116, 9326.59962378, 9335.75240233, 9226.48582088,\n",
              "         8794.35864452, 8798.04205463, 9081.18687849],\n",
              "        [9326.59962378, 9335.75240233, 9226.48582088, 8794.35864452,\n",
              "         8798.04205463, 9081.18687849, 8711.53433917],\n",
              "        [9335.75240233, 9226.48582088, 8794.35864452, 8798.04205463,\n",
              "         9081.18687849, 8711.53433917, 8760.89271814]]),\n",
              " array([[8798.04205463],\n",
              "        [9081.18687849],\n",
              "        [8711.53433917],\n",
              "        [8760.89271814],\n",
              "        [8749.52059102]]))"
            ]
          },
          "metadata": {},
          "execution_count": 43
        }
      ]
    },
    {
      "cell_type": "code",
      "source": [
        "y_train"
      ],
      "metadata": {
        "colab": {
          "base_uri": "https://localhost:8080/"
        },
        "id": "e-7ewITRoTlE",
        "outputId": "6d3fee47-651b-4fee-abaa-d4215d1d0d52"
      },
      "execution_count": null,
      "outputs": [
        {
          "output_type": "execute_result",
          "data": {
            "text/plain": [
              "array([ 123.65499   ,  125.455     ,  108.58483   , ..., 9369.62808116,\n",
              "       9326.59962378, 9335.75240233])"
            ]
          },
          "metadata": {},
          "execution_count": 44
        }
      ]
    },
    {
      "cell_type": "code",
      "source": [
        "# Check to see if train labels are the same (before and after window split)\n",
        "np.array_equal(np.squeeze(train_labels[:-HORIZON-1]), y_train[WINDOW_SIZE:])"
      ],
      "metadata": {
        "colab": {
          "base_uri": "https://localhost:8080/"
        },
        "id": "L-_6KSB1oZwo",
        "outputId": "f26496b9-bf2a-4ce0-fdde-485e8187de66"
      },
      "execution_count": null,
      "outputs": [
        {
          "output_type": "execute_result",
          "data": {
            "text/plain": [
              "True"
            ]
          },
          "metadata": {},
          "execution_count": 45
        }
      ]
    },
    {
      "cell_type": "code",
      "source": [
        "np.squeeze(train_labels[:5]).shape"
      ],
      "metadata": {
        "colab": {
          "base_uri": "https://localhost:8080/"
        },
        "id": "X4fx6bO_osNK",
        "outputId": "b30cfb4a-56da-4760-fc1f-f24665586d90"
      },
      "execution_count": null,
      "outputs": [
        {
          "output_type": "execute_result",
          "data": {
            "text/plain": [
              "(5,)"
            ]
          },
          "metadata": {},
          "execution_count": 46
        }
      ]
    },
    {
      "cell_type": "markdown",
      "source": [
        "## Make a modelling checkpoint callback\n",
        "\n",
        "Because our model's performance will fluctuate from experiment to experiment, we're going to write a model checkpoint so we can compare apples to apples.\n",
        "\n",
        "More specifically, we want to compare each of our model's best performances against the other model's best performances.\n",
        "\n",
        "For example if our model performs the best on epoch 55 (but we're training for 100 epochs), we want to load and evaluate the model saved on epoch 55.\n",
        "\n",
        "We can create a modelling checkpoint callback using the following: https://www.tensorflow.org/api_docs/python/tf/keras/callbacks/ModelCheckpoint"
      ],
      "metadata": {
        "id": "BZ1xVkmwwWAf"
      }
    },
    {
      "cell_type": "code",
      "source": [
        "import os\n",
        "\n",
        "# Create a function to implement a ModelCheckpoint callback with a specific filename\n",
        "def create_model_checkpoint(model_name, save_path=\"model_experiments\"):\n",
        "  return tf.keras.callbacks.ModelCheckpoint(filepath=os.path.join(save_path, model_name),\n",
        "                                            monitor=\"val_loss\",\n",
        "                                            verbose=0, # only output a limted amount of text\n",
        "                                            save_best_only=True)"
      ],
      "metadata": {
        "id": "iQ_SRIvcx1TL"
      },
      "execution_count": null,
      "outputs": []
    },
    {
      "cell_type": "markdown",
      "source": [
        "## Model 1: Dense model (window = 7, horizon = 1)\n",
        "\n",
        "Our first deep model is going to be a simple dense model:\n",
        "* A single dense layer with 128 hidden units and ReLu\n",
        "* An output layer with linear activation (no activation)\n",
        "* Adam optimizaiton and MAE loss function\n",
        "* Batch size of 128 (previously we've used 32)\n",
        "* 100 epochs\n",
        "\n",
        "Why these values?\n",
        "I picked them out of experimentation.\n",
        "\n",
        "* *Hyperparameters* = values a machine larning practitioner (you) can adjust themselves\n",
        "* **Parameters** = values a model learns on its own."
      ],
      "metadata": {
        "id": "cLFkZMMsyq_l"
      }
    },
    {
      "cell_type": "code",
      "source": [
        "train_windows"
      ],
      "metadata": {
        "colab": {
          "base_uri": "https://localhost:8080/"
        },
        "id": "cgSEio0Ky_-f",
        "outputId": "be3a33ad-63f0-4b2d-e374-b3f756db735b"
      },
      "execution_count": null,
      "outputs": [
        {
          "output_type": "execute_result",
          "data": {
            "text/plain": [
              "array([[ 123.65499   ,  125.455     ,  108.58483   , ...,  121.33866   ,\n",
              "         120.65533   ,  121.795     ],\n",
              "       [ 125.455     ,  108.58483   ,  118.67466   , ...,  120.65533   ,\n",
              "         121.795     ,  123.033     ],\n",
              "       [ 108.58483   ,  118.67466   ,  121.33866   , ...,  121.795     ,\n",
              "         123.033     ,  124.049     ],\n",
              "       ...,\n",
              "       [9225.99547934, 9131.41063031, 9197.63234462, ..., 9202.41545055,\n",
              "        9369.62808116, 9326.59962378],\n",
              "       [9131.41063031, 9197.63234462, 9290.89660239, ..., 9369.62808116,\n",
              "        9326.59962378, 9335.75240233],\n",
              "       [9197.63234462, 9290.89660239, 9202.41545055, ..., 9326.59962378,\n",
              "        9335.75240233, 9226.48582088]])"
            ]
          },
          "metadata": {},
          "execution_count": 48
        }
      ]
    },
    {
      "cell_type": "code",
      "source": [
        "import tensorflow as tf\n",
        "from tensorflow.keras import layers\n",
        "\n",
        "# set random seed for as reproducible results as possible\n",
        "tf.random.set_seed(42)\n",
        "\n",
        "# 1. Construct model\n",
        "model_1 = tf.keras.Sequential([\n",
        "    layers.Dense(128, activation=\"relu\"),\n",
        "    layers.Dense(HORIZON, activation=\"linear\")  # linear activation is the same as having no activation\n",
        "], name=\"model_1_dense\")  # name our model so we can save it\n",
        "\n",
        "# 2. Compile\n",
        "model_1.compile(loss=\"mae\",\n",
        "                optimizer=tf.keras.optimizers.Adam(),\n",
        "                metrics=[\"mae\", \"mse\"])\n",
        "\n",
        "# 3. Fit the model\n",
        "model_1.fit(x=train_windows,\n",
        "            y=train_labels,\n",
        "            epochs=100,\n",
        "            verbose=1,\n",
        "            batch_size=128,\n",
        "            validation_data=(test_windows, test_labels),\n",
        "            callbacks=[create_model_checkpoint(model_name=model_1.name)])"
      ],
      "metadata": {
        "colab": {
          "base_uri": "https://localhost:8080/"
        },
        "id": "lQdTMYSp7qUx",
        "outputId": "579815db-3384-426f-b03a-52180eb46272"
      },
      "execution_count": null,
      "outputs": [
        {
          "output_type": "stream",
          "name": "stdout",
          "text": [
            "Epoch 1/100\n",
            "18/18 [==============================] - 8s 56ms/step - loss: 543.6133 - mae: 543.6133 - mse: 1194345.8750 - val_loss: 1026.7124 - val_mae: 1026.7124 - val_mse: 3554825.2500\n",
            "Epoch 2/100\n",
            "18/18 [==============================] - 1s 37ms/step - loss: 202.1590 - mae: 202.1590 - mse: 183599.8750 - val_loss: 918.3082 - val_mae: 918.3082 - val_mse: 2908449.5000\n",
            "Epoch 3/100\n",
            "18/18 [==============================] - 0s 6ms/step - loss: 165.0732 - mae: 165.0732 - mse: 143261.5312 - val_loss: 1014.4822 - val_mae: 1014.4822 - val_mse: 2873570.0000\n",
            "Epoch 4/100\n",
            "18/18 [==============================] - 1s 38ms/step - loss: 152.4076 - mae: 152.4076 - mse: 126820.9609 - val_loss: 816.6973 - val_mae: 816.6973 - val_mse: 2258185.5000\n",
            "Epoch 5/100\n",
            "18/18 [==============================] - 1s 34ms/step - loss: 144.8136 - mae: 144.8136 - mse: 117063.2031 - val_loss: 789.0516 - val_mae: 789.0516 - val_mse: 2144666.7500\n",
            "Epoch 6/100\n",
            "18/18 [==============================] - 0s 6ms/step - loss: 142.7469 - mae: 142.7469 - mse: 112116.5391 - val_loss: 829.2210 - val_mae: 829.2210 - val_mse: 2127492.5000\n",
            "Epoch 7/100\n",
            "18/18 [==============================] - 0s 28ms/step - loss: 140.5597 - mae: 140.5597 - mse: 109090.0625 - val_loss: 748.0972 - val_mae: 748.0972 - val_mse: 1921347.2500\n",
            "Epoch 8/100\n",
            "18/18 [==============================] - 0s 6ms/step - loss: 137.2070 - mae: 137.2070 - mse: 102976.5938 - val_loss: 764.1877 - val_mae: 764.1878 - val_mse: 1976685.3750\n",
            "Epoch 9/100\n",
            "18/18 [==============================] - 1s 31ms/step - loss: 136.7551 - mae: 136.7551 - mse: 103630.3594 - val_loss: 740.6907 - val_mae: 740.6907 - val_mse: 1784285.0000\n",
            "Epoch 10/100\n",
            "18/18 [==============================] - 1s 38ms/step - loss: 128.8899 - mae: 128.8899 - mse: 96299.9453 - val_loss: 696.4423 - val_mae: 696.4423 - val_mse: 1667640.0000\n",
            "Epoch 11/100\n",
            "18/18 [==============================] - 0s 10ms/step - loss: 124.2387 - mae: 124.2387 - mse: 90039.7734 - val_loss: 697.4091 - val_mae: 697.4091 - val_mse: 1602669.6250\n",
            "Epoch 12/100\n",
            "18/18 [==============================] - 0s 8ms/step - loss: 123.0884 - mae: 123.0884 - mse: 87875.6250 - val_loss: 739.3719 - val_mae: 739.3719 - val_mse: 1685466.3750\n",
            "Epoch 13/100\n",
            "18/18 [==============================] - 0s 7ms/step - loss: 130.0450 - mae: 130.0450 - mse: 91645.2031 - val_loss: 722.7206 - val_mae: 722.7206 - val_mse: 1628633.7500\n",
            "Epoch 14/100\n",
            "18/18 [==============================] - 1s 74ms/step - loss: 120.8816 - mae: 120.8816 - mse: 85168.5547 - val_loss: 682.2928 - val_mae: 682.2928 - val_mse: 1513314.5000\n",
            "Epoch 15/100\n",
            "18/18 [==============================] - 2s 90ms/step - loss: 122.6708 - mae: 122.6708 - mse: 84330.0781 - val_loss: 645.6416 - val_mae: 645.6416 - val_mse: 1427792.7500\n",
            "Epoch 16/100\n",
            "18/18 [==============================] - 0s 6ms/step - loss: 116.9903 - mae: 116.9903 - mse: 79424.6719 - val_loss: 661.0744 - val_mae: 661.0744 - val_mse: 1443196.7500\n",
            "Epoch 17/100\n",
            "18/18 [==============================] - 1s 34ms/step - loss: 116.2292 - mae: 116.2292 - mse: 80282.1562 - val_loss: 641.7300 - val_mae: 641.7300 - val_mse: 1392213.6250\n",
            "Epoch 18/100\n",
            "18/18 [==============================] - 1s 32ms/step - loss: 114.9028 - mae: 114.9028 - mse: 79004.9766 - val_loss: 625.3482 - val_mae: 625.3482 - val_mse: 1355859.3750\n",
            "Epoch 19/100\n",
            "18/18 [==============================] - 0s 6ms/step - loss: 115.6397 - mae: 115.6397 - mse: 78410.6016 - val_loss: 728.5023 - val_mae: 728.5023 - val_mse: 1596294.0000\n",
            "Epoch 20/100\n",
            "18/18 [==============================] - 1s 31ms/step - loss: 115.6914 - mae: 115.6914 - mse: 76799.8516 - val_loss: 614.9494 - val_mae: 614.9494 - val_mse: 1322141.7500\n",
            "Epoch 21/100\n",
            "18/18 [==============================] - 0s 29ms/step - loss: 117.6324 - mae: 117.6324 - mse: 80152.2812 - val_loss: 612.7112 - val_mae: 612.7112 - val_mse: 1310261.6250\n",
            "Epoch 22/100\n",
            "18/18 [==============================] - 1s 31ms/step - loss: 111.8610 - mae: 111.8610 - mse: 76106.0078 - val_loss: 605.0905 - val_mae: 605.0905 - val_mse: 1292293.0000\n",
            "Epoch 23/100\n",
            "18/18 [==============================] - 0s 28ms/step - loss: 113.1517 - mae: 113.1517 - mse: 75437.0781 - val_loss: 602.0249 - val_mae: 602.0249 - val_mse: 1283505.5000\n",
            "Epoch 24/100\n",
            "18/18 [==============================] - 0s 12ms/step - loss: 111.4917 - mae: 111.4917 - mse: 75555.3438 - val_loss: 618.3399 - val_mae: 618.3399 - val_mse: 1305919.0000\n",
            "Epoch 25/100\n",
            "18/18 [==============================] - 0s 10ms/step - loss: 109.9189 - mae: 109.9189 - mse: 74205.8281 - val_loss: 604.9698 - val_mae: 604.9698 - val_mse: 1293309.8750\n",
            "Epoch 26/100\n",
            "18/18 [==============================] - 1s 42ms/step - loss: 113.5067 - mae: 113.5067 - mse: 75490.7734 - val_loss: 597.7029 - val_mae: 597.7029 - val_mse: 1271992.1250\n",
            "Epoch 27/100\n",
            "18/18 [==============================] - 1s 37ms/step - loss: 114.1468 - mae: 114.1468 - mse: 74731.5469 - val_loss: 591.1794 - val_mae: 591.1794 - val_mse: 1249368.8750\n",
            "Epoch 28/100\n",
            "18/18 [==============================] - 0s 8ms/step - loss: 109.5047 - mae: 109.5047 - mse: 73092.8438 - val_loss: 601.4510 - val_mae: 601.4510 - val_mse: 1278321.8750\n",
            "Epoch 29/100\n",
            "18/18 [==============================] - 0s 6ms/step - loss: 110.7928 - mae: 110.7928 - mse: 73785.1797 - val_loss: 593.3527 - val_mae: 593.3527 - val_mse: 1246178.1250\n",
            "Epoch 30/100\n",
            "18/18 [==============================] - 1s 31ms/step - loss: 112.6021 - mae: 112.6021 - mse: 73693.6172 - val_loss: 586.1658 - val_mae: 586.1658 - val_mse: 1237759.7500\n",
            "Epoch 31/100\n",
            "18/18 [==============================] - 0s 5ms/step - loss: 108.5527 - mae: 108.5527 - mse: 70400.4375 - val_loss: 656.1370 - val_mae: 656.1370 - val_mse: 1375330.2500\n",
            "Epoch 32/100\n",
            "18/18 [==============================] - 0s 5ms/step - loss: 111.8711 - mae: 111.8711 - mse: 75343.6172 - val_loss: 593.1453 - val_mae: 593.1453 - val_mse: 1255320.0000\n",
            "Epoch 33/100\n",
            "18/18 [==============================] - 0s 8ms/step - loss: 110.7437 - mae: 110.7437 - mse: 72411.7969 - val_loss: 597.3887 - val_mae: 597.3887 - val_mse: 1246778.1250\n",
            "Epoch 34/100\n",
            "18/18 [==============================] - 0s 5ms/step - loss: 107.8762 - mae: 107.8762 - mse: 71565.3281 - val_loss: 609.6284 - val_mae: 609.6284 - val_mse: 1290400.0000\n",
            "Epoch 35/100\n",
            "18/18 [==============================] - 0s 6ms/step - loss: 107.3929 - mae: 107.3929 - mse: 71022.2656 - val_loss: 596.9835 - val_mae: 596.9835 - val_mse: 1261586.3750\n",
            "Epoch 36/100\n",
            "18/18 [==============================] - 1s 37ms/step - loss: 109.1064 - mae: 109.1064 - mse: 71069.8203 - val_loss: 579.8187 - val_mae: 579.8187 - val_mse: 1215178.1250\n",
            "Epoch 37/100\n",
            "18/18 [==============================] - 0s 6ms/step - loss: 106.7041 - mae: 106.7041 - mse: 70704.1562 - val_loss: 586.5709 - val_mae: 586.5709 - val_mse: 1219206.5000\n",
            "Epoch 38/100\n",
            "18/18 [==============================] - 0s 28ms/step - loss: 108.0161 - mae: 108.0161 - mse: 70430.2891 - val_loss: 578.9609 - val_mae: 578.9609 - val_mse: 1212321.6250\n",
            "Epoch 39/100\n",
            "18/18 [==============================] - 0s 6ms/step - loss: 106.8890 - mae: 106.8890 - mse: 69871.9141 - val_loss: 582.6952 - val_mae: 582.6952 - val_mse: 1211431.6250\n",
            "Epoch 40/100\n",
            "18/18 [==============================] - 0s 6ms/step - loss: 109.3815 - mae: 109.3815 - mse: 69181.5312 - val_loss: 625.2545 - val_mae: 625.2545 - val_mse: 1317369.5000\n",
            "Epoch 41/100\n",
            "18/18 [==============================] - 0s 6ms/step - loss: 107.7863 - mae: 107.7863 - mse: 69220.9688 - val_loss: 582.2547 - val_mae: 582.2547 - val_mse: 1215003.2500\n",
            "Epoch 42/100\n",
            "18/18 [==============================] - 0s 5ms/step - loss: 109.9888 - mae: 109.9888 - mse: 72740.4766 - val_loss: 656.5651 - val_mae: 656.5651 - val_mse: 1351203.5000\n",
            "Epoch 43/100\n",
            "18/18 [==============================] - 0s 6ms/step - loss: 113.6405 - mae: 113.6405 - mse: 70483.6094 - val_loss: 623.2792 - val_mae: 623.2792 - val_mse: 1307747.3750\n",
            "Epoch 44/100\n",
            "18/18 [==============================] - 0s 6ms/step - loss: 108.9061 - mae: 108.9061 - mse: 69609.6250 - val_loss: 601.1459 - val_mae: 601.1459 - val_mse: 1237691.6250\n",
            "Epoch 45/100\n",
            "18/18 [==============================] - 0s 5ms/step - loss: 107.2259 - mae: 107.2259 - mse: 70162.5469 - val_loss: 603.6479 - val_mae: 603.6479 - val_mse: 1265432.0000\n",
            "Epoch 46/100\n",
            "18/18 [==============================] - 0s 7ms/step - loss: 108.9044 - mae: 108.9044 - mse: 68477.7266 - val_loss: 596.7791 - val_mae: 596.7791 - val_mse: 1228588.0000\n",
            "Epoch 47/100\n",
            "18/18 [==============================] - 0s 9ms/step - loss: 109.7285 - mae: 109.7285 - mse: 71327.4453 - val_loss: 597.6561 - val_mae: 597.6561 - val_mse: 1230223.7500\n",
            "Epoch 48/100\n",
            "18/18 [==============================] - 0s 7ms/step - loss: 106.8799 - mae: 106.8799 - mse: 70342.4375 - val_loss: 617.6631 - val_mae: 617.6631 - val_mse: 1265594.2500\n",
            "Epoch 49/100\n",
            "18/18 [==============================] - 0s 8ms/step - loss: 107.9859 - mae: 107.9859 - mse: 69993.0469 - val_loss: 586.0732 - val_mae: 586.0732 - val_mse: 1208081.6250\n",
            "Epoch 50/100\n",
            "18/18 [==============================] - 0s 8ms/step - loss: 110.2340 - mae: 110.2340 - mse: 70960.1250 - val_loss: 643.9648 - val_mae: 643.9648 - val_mse: 1354115.8750\n",
            "Epoch 51/100\n",
            "18/18 [==============================] - 1s 52ms/step - loss: 108.6583 - mae: 108.6583 - mse: 69674.9531 - val_loss: 576.6227 - val_mae: 576.6227 - val_mse: 1188159.3750\n",
            "Epoch 52/100\n",
            "18/18 [==============================] - 1s 81ms/step - loss: 108.0343 - mae: 108.0343 - mse: 70690.0781 - val_loss: 572.6978 - val_mae: 572.6978 - val_mse: 1185397.8750\n",
            "Epoch 53/100\n",
            "18/18 [==============================] - 0s 12ms/step - loss: 109.2996 - mae: 109.2996 - mse: 70835.7891 - val_loss: 658.6849 - val_mae: 658.6849 - val_mse: 1353223.1250\n",
            "Epoch 54/100\n",
            "18/18 [==============================] - 0s 9ms/step - loss: 112.0899 - mae: 112.0899 - mse: 71211.4766 - val_loss: 572.9148 - val_mae: 572.9148 - val_mse: 1181761.2500\n",
            "Epoch 55/100\n",
            "18/18 [==============================] - 0s 10ms/step - loss: 110.6420 - mae: 110.6420 - mse: 73030.8047 - val_loss: 573.1493 - val_mae: 573.1493 - val_mse: 1186042.5000\n",
            "Epoch 56/100\n",
            "18/18 [==============================] - 0s 10ms/step - loss: 107.3728 - mae: 107.3728 - mse: 69114.6094 - val_loss: 712.9537 - val_mae: 712.9537 - val_mse: 1547781.3750\n",
            "Epoch 57/100\n",
            "18/18 [==============================] - 0s 9ms/step - loss: 117.3784 - mae: 117.3784 - mse: 76189.2969 - val_loss: 642.8286 - val_mae: 642.8286 - val_mse: 1348987.6250\n",
            "Epoch 58/100\n",
            "18/18 [==============================] - 1s 37ms/step - loss: 117.8104 - mae: 117.8104 - mse: 73490.3438 - val_loss: 570.9489 - val_mae: 570.9489 - val_mse: 1180673.6250\n",
            "Epoch 59/100\n",
            "18/18 [==============================] - 0s 5ms/step - loss: 106.3986 - mae: 106.3986 - mse: 68832.5547 - val_loss: 579.2629 - val_mae: 579.2629 - val_mse: 1202106.8750\n",
            "Epoch 60/100\n",
            "18/18 [==============================] - 0s 6ms/step - loss: 107.4226 - mae: 107.4226 - mse: 71327.8438 - val_loss: 652.3278 - val_mae: 652.3278 - val_mse: 1332660.1250\n",
            "Epoch 61/100\n",
            "18/18 [==============================] - 0s 5ms/step - loss: 111.5830 - mae: 111.5830 - mse: 73280.2656 - val_loss: 605.4581 - val_mae: 605.4581 - val_mse: 1236338.7500\n",
            "Epoch 62/100\n",
            "18/18 [==============================] - 0s 5ms/step - loss: 108.2415 - mae: 108.2415 - mse: 70030.5312 - val_loss: 597.7995 - val_mae: 597.7995 - val_mse: 1241064.0000\n",
            "Epoch 63/100\n",
            "18/18 [==============================] - 0s 7ms/step - loss: 108.6531 - mae: 108.6531 - mse: 70313.2422 - val_loss: 599.9642 - val_mae: 599.9642 - val_mse: 1225046.3750\n",
            "Epoch 64/100\n",
            "18/18 [==============================] - 0s 10ms/step - loss: 106.9648 - mae: 106.9648 - mse: 69014.7812 - val_loss: 576.0632 - val_mae: 576.0632 - val_mse: 1185007.0000\n",
            "Epoch 65/100\n",
            "18/18 [==============================] - 1s 36ms/step - loss: 105.7631 - mae: 105.7631 - mse: 68763.4453 - val_loss: 569.2606 - val_mae: 569.2606 - val_mse: 1173348.5000\n",
            "Epoch 66/100\n",
            "18/18 [==============================] - 0s 6ms/step - loss: 105.2344 - mae: 105.2344 - mse: 68207.2031 - val_loss: 579.5391 - val_mae: 579.5391 - val_mse: 1186895.8750\n",
            "Epoch 67/100\n",
            "18/18 [==============================] - 0s 6ms/step - loss: 105.6919 - mae: 105.6919 - mse: 68328.5938 - val_loss: 633.6639 - val_mae: 633.6639 - val_mse: 1327832.3750\n",
            "Epoch 68/100\n",
            "18/18 [==============================] - 0s 7ms/step - loss: 114.9375 - mae: 114.9375 - mse: 69479.8594 - val_loss: 757.5978 - val_mae: 757.5978 - val_mse: 1679090.8750\n",
            "Epoch 69/100\n",
            "18/18 [==============================] - 0s 5ms/step - loss: 127.5236 - mae: 127.5236 - mse: 82603.7031 - val_loss: 697.9240 - val_mae: 697.9240 - val_mse: 1491721.6250\n",
            "Epoch 70/100\n",
            "18/18 [==============================] - 0s 5ms/step - loss: 119.9269 - mae: 119.9269 - mse: 77427.4453 - val_loss: 572.3399 - val_mae: 572.3399 - val_mse: 1180709.6250\n",
            "Epoch 71/100\n",
            "18/18 [==============================] - 0s 8ms/step - loss: 110.2113 - mae: 110.2113 - mse: 70552.9375 - val_loss: 601.9591 - val_mae: 601.9591 - val_mse: 1226042.0000\n",
            "Epoch 72/100\n",
            "18/18 [==============================] - 0s 8ms/step - loss: 106.9503 - mae: 106.9503 - mse: 68790.0469 - val_loss: 570.3714 - val_mae: 570.3714 - val_mse: 1171746.1250\n",
            "Epoch 73/100\n",
            "18/18 [==============================] - 0s 8ms/step - loss: 107.7907 - mae: 107.7907 - mse: 69060.8906 - val_loss: 583.4617 - val_mae: 583.4617 - val_mse: 1207698.2500\n",
            "Epoch 74/100\n",
            "18/18 [==============================] - 0s 11ms/step - loss: 105.2926 - mae: 105.2926 - mse: 68636.1172 - val_loss: 571.6521 - val_mae: 571.6521 - val_mse: 1177154.7500\n",
            "Epoch 75/100\n",
            "18/18 [==============================] - 0s 6ms/step - loss: 105.6147 - mae: 105.6147 - mse: 67901.4766 - val_loss: 585.6193 - val_mae: 585.6193 - val_mse: 1194099.3750\n",
            "Epoch 76/100\n",
            "18/18 [==============================] - 0s 29ms/step - loss: 106.8471 - mae: 106.8471 - mse: 69420.4062 - val_loss: 568.7639 - val_mae: 568.7639 - val_mse: 1169775.1250\n",
            "Epoch 77/100\n",
            "18/18 [==============================] - 0s 8ms/step - loss: 105.3361 - mae: 105.3361 - mse: 68060.5547 - val_loss: 575.2733 - val_mae: 575.2733 - val_mse: 1186627.6250\n",
            "Epoch 78/100\n",
            "18/18 [==============================] - 0s 6ms/step - loss: 105.9691 - mae: 105.9691 - mse: 67726.6250 - val_loss: 573.5101 - val_mae: 573.5101 - val_mse: 1181270.8750\n",
            "Epoch 79/100\n",
            "18/18 [==============================] - 0s 5ms/step - loss: 104.9477 - mae: 104.9477 - mse: 68516.5703 - val_loss: 584.4561 - val_mae: 584.4561 - val_mse: 1207498.8750\n",
            "Epoch 80/100\n",
            "18/18 [==============================] - 0s 9ms/step - loss: 106.1021 - mae: 106.1021 - mse: 68929.0938 - val_loss: 594.3750 - val_mae: 594.3750 - val_mse: 1206633.6250\n",
            "Epoch 81/100\n",
            "18/18 [==============================] - 0s 9ms/step - loss: 104.5908 - mae: 104.5908 - mse: 67950.4141 - val_loss: 571.3572 - val_mae: 571.3572 - val_mse: 1174523.5000\n",
            "Epoch 82/100\n",
            "18/18 [==============================] - 0s 14ms/step - loss: 112.9765 - mae: 112.9765 - mse: 73723.2969 - val_loss: 570.0807 - val_mae: 570.0807 - val_mse: 1169062.0000\n",
            "Epoch 83/100\n",
            "18/18 [==============================] - 0s 12ms/step - loss: 108.8213 - mae: 108.8213 - mse: 69321.8906 - val_loss: 651.1167 - val_mae: 651.1167 - val_mse: 1356355.3750\n",
            "Epoch 84/100\n",
            "18/18 [==============================] - 0s 6ms/step - loss: 109.3726 - mae: 109.3726 - mse: 71278.4531 - val_loss: 575.7695 - val_mae: 575.7695 - val_mse: 1173750.3750\n",
            "Epoch 85/100\n",
            "18/18 [==============================] - 0s 6ms/step - loss: 106.3835 - mae: 106.3835 - mse: 69215.3594 - val_loss: 571.7302 - val_mae: 571.7302 - val_mse: 1175557.8750\n",
            "Epoch 86/100\n",
            "18/18 [==============================] - 0s 11ms/step - loss: 103.9801 - mae: 103.9801 - mse: 67292.9844 - val_loss: 577.5278 - val_mae: 577.5278 - val_mse: 1176703.8750\n",
            "Epoch 87/100\n",
            "18/18 [==============================] - 0s 9ms/step - loss: 105.0522 - mae: 105.0522 - mse: 66642.1094 - val_loss: 604.3860 - val_mae: 604.3860 - val_mse: 1247908.0000\n",
            "Epoch 88/100\n",
            "18/18 [==============================] - 0s 5ms/step - loss: 106.8096 - mae: 106.8096 - mse: 69532.9922 - val_loss: 569.4713 - val_mae: 569.4713 - val_mse: 1166413.1250\n",
            "Epoch 89/100\n",
            "18/18 [==============================] - 0s 6ms/step - loss: 104.7075 - mae: 104.7075 - mse: 66880.2031 - val_loss: 575.4070 - val_mae: 575.4070 - val_mse: 1170941.6250\n",
            "Epoch 90/100\n",
            "18/18 [==============================] - 0s 6ms/step - loss: 104.6271 - mae: 104.6271 - mse: 65760.6250 - val_loss: 573.0460 - val_mae: 573.0460 - val_mse: 1173741.2500\n",
            "Epoch 91/100\n",
            "18/18 [==============================] - 0s 10ms/step - loss: 107.5846 - mae: 107.5846 - mse: 69410.2891 - val_loss: 572.0908 - val_mae: 572.0908 - val_mse: 1174725.1250\n",
            "Epoch 92/100\n",
            "18/18 [==============================] - 1s 37ms/step - loss: 109.2480 - mae: 109.2480 - mse: 70781.7578 - val_loss: 568.0383 - val_mae: 568.0383 - val_mse: 1161792.2500\n",
            "Epoch 93/100\n",
            "18/18 [==============================] - 0s 6ms/step - loss: 114.2168 - mae: 114.2168 - mse: 73522.7344 - val_loss: 636.2844 - val_mae: 636.2844 - val_mse: 1324411.3750\n",
            "Epoch 94/100\n",
            "18/18 [==============================] - 0s 9ms/step - loss: 108.4457 - mae: 108.4457 - mse: 70277.5234 - val_loss: 588.9287 - val_mae: 588.9287 - val_mse: 1197014.3750\n",
            "Epoch 95/100\n",
            "18/18 [==============================] - 0s 8ms/step - loss: 104.6393 - mae: 104.6393 - mse: 66034.9219 - val_loss: 573.8507 - val_mae: 573.8507 - val_mse: 1180046.7500\n",
            "Epoch 96/100\n",
            "18/18 [==============================] - 0s 11ms/step - loss: 105.3927 - mae: 105.3927 - mse: 67504.3750 - val_loss: 574.6364 - val_mae: 574.6364 - val_mse: 1182807.3750\n",
            "Epoch 97/100\n",
            "18/18 [==============================] - 0s 5ms/step - loss: 104.4382 - mae: 104.4382 - mse: 67543.1172 - val_loss: 578.5822 - val_mae: 578.5822 - val_mse: 1179640.0000\n",
            "Epoch 98/100\n",
            "18/18 [==============================] - 0s 7ms/step - loss: 104.4206 - mae: 104.4206 - mse: 68138.4219 - val_loss: 570.9293 - val_mae: 570.9293 - val_mse: 1169749.0000\n",
            "Epoch 99/100\n",
            "18/18 [==============================] - 1s 40ms/step - loss: 107.0375 - mae: 107.0375 - mse: 69001.7578 - val_loss: 567.2947 - val_mae: 567.2947 - val_mse: 1161823.6250\n",
            "Epoch 100/100\n",
            "18/18 [==============================] - 0s 6ms/step - loss: 117.6142 - mae: 117.6142 - mse: 71690.7734 - val_loss: 660.1008 - val_mae: 660.1008 - val_mse: 1343836.1250\n"
          ]
        },
        {
          "output_type": "execute_result",
          "data": {
            "text/plain": [
              "<keras.src.callbacks.History at 0x7d4f68f04cd0>"
            ]
          },
          "metadata": {},
          "execution_count": 49
        }
      ]
    },
    {
      "cell_type": "code",
      "source": [
        "# Evaluate model on test data\n",
        "model_1.evaluate(test_windows, test_labels)"
      ],
      "metadata": {
        "colab": {
          "base_uri": "https://localhost:8080/"
        },
        "id": "rOTZVs4k86p-",
        "outputId": "63609c56-3be6-46ff-fbd8-a1c1db013fae"
      },
      "execution_count": null,
      "outputs": [
        {
          "output_type": "stream",
          "name": "stdout",
          "text": [
            "18/18 [==============================] - 0s 2ms/step - loss: 660.1008 - mae: 660.1008 - mse: 1343835.8750\n"
          ]
        },
        {
          "output_type": "execute_result",
          "data": {
            "text/plain": [
              "[660.100830078125, 660.100830078125, 1343835.875]"
            ]
          },
          "metadata": {},
          "execution_count": 50
        }
      ]
    },
    {
      "cell_type": "code",
      "source": [
        "# Load in saved best performing model_1 and evaluate it on test data\n",
        "model_1 = tf.keras.models.load_model(\"model_experiments/model_1_dense/\")\n",
        "model_1.evaluate(test_windows, test_labels)"
      ],
      "metadata": {
        "colab": {
          "base_uri": "https://localhost:8080/"
        },
        "id": "wBSTAu36-pn0",
        "outputId": "380e6224-e4cf-4f61-e527-def3fb6c293a"
      },
      "execution_count": null,
      "outputs": [
        {
          "output_type": "stream",
          "name": "stdout",
          "text": [
            "18/18 [==============================] - 0s 3ms/step - loss: 567.2947 - mae: 567.2947 - mse: 1161823.3750\n"
          ]
        },
        {
          "output_type": "execute_result",
          "data": {
            "text/plain": [
              "[567.294677734375, 567.294677734375, 1161823.375]"
            ]
          },
          "metadata": {},
          "execution_count": 51
        }
      ]
    },
    {
      "cell_type": "code",
      "source": [
        "naive_results"
      ],
      "metadata": {
        "colab": {
          "base_uri": "https://localhost:8080/"
        },
        "id": "1jz1_zwr_Fu8",
        "outputId": "4713ea0d-9501-4613-d090-5e545ab5c109"
      },
      "execution_count": null,
      "outputs": [
        {
          "output_type": "execute_result",
          "data": {
            "text/plain": [
              "{'mae': 567.9802,\n",
              " 'mse': 1147547.0,\n",
              " 'rmse': 1071.2362,\n",
              " 'mape': 2.516525,\n",
              " 'mase': 0.99957}"
            ]
          },
          "metadata": {},
          "execution_count": 52
        }
      ]
    },
    {
      "cell_type": "markdown",
      "source": [
        "## Making forescasts with a model (on the test dataset)\n",
        "\n",
        "To make \"forecasts\" on the test dataset (note: these won't be actual forecasts, they're only psuedo forecasts because actual forecasts are into the future), let's write a function to:\n",
        "\n",
        "1. Take in a train model\n",
        "2. Takes in some input data (same kind of data the model was trained on)\n",
        "3. Passes the input data to the model's `predict()` method\n",
        "4. Return the predictions."
      ],
      "metadata": {
        "id": "iux6rIR2_G_Z"
      }
    },
    {
      "cell_type": "code",
      "source": [
        "def make_preds(model, input_data):\n",
        "  \"\"\"\n",
        "  Uses model to make predictions input_data.\n",
        "  \"\"\"\n",
        "  forecast = model.predict(input_data)\n",
        "  return tf.squeeze(forecast)  # return 1D array of predictions"
      ],
      "metadata": {
        "id": "EgfEqEo6_xdU"
      },
      "execution_count": null,
      "outputs": []
    },
    {
      "cell_type": "code",
      "source": [
        "# Make predictions using model_1 on the test dataset and view results\n",
        "model_1_preds = make_preds(model_1, test_windows)\n",
        "len(model_1_preds), model_1_preds[:10]"
      ],
      "metadata": {
        "colab": {
          "base_uri": "https://localhost:8080/"
        },
        "id": "yL9jrY2BFn_n",
        "outputId": "99734dd9-7fdd-41a6-e81f-401c3ce3530c"
      },
      "execution_count": null,
      "outputs": [
        {
          "output_type": "stream",
          "name": "stdout",
          "text": [
            "18/18 [==============================] - 0s 2ms/step\n"
          ]
        },
        {
          "output_type": "execute_result",
          "data": {
            "text/plain": [
              "(556,\n",
              " <tf.Tensor: shape=(10,), dtype=float32, numpy=\n",
              " array([8831.389, 8766.804, 9043.841, 8749.93 , 8717.043, 8747.509,\n",
              "        8671.468, 8508.73 , 8449.612, 8529.293], dtype=float32)>)"
            ]
          },
          "metadata": {},
          "execution_count": 54
        }
      ]
    },
    {
      "cell_type": "code",
      "source": [
        "# Evaluate preds\n",
        "model_1_results = evaluate_preds(y_true=tf.squeeze(test_labels),\n",
        "                                 y_pred=model_1_preds)\n",
        "model_1_results"
      ],
      "metadata": {
        "colab": {
          "base_uri": "https://localhost:8080/"
        },
        "id": "tLxhPr8gGrTM",
        "outputId": "751b6706-be4b-4fd9-e8e2-f24a3b6917af"
      },
      "execution_count": null,
      "outputs": [
        {
          "output_type": "execute_result",
          "data": {
            "text/plain": [
              "{'mae': 567.2946,\n",
              " 'mse': 1161823.4,\n",
              " 'rmse': 1077.8792,\n",
              " 'mape': 2.5508199,\n",
              " 'mase': 0.9965795}"
            ]
          },
          "metadata": {},
          "execution_count": 55
        }
      ]
    },
    {
      "cell_type": "code",
      "source": [
        "naive_results"
      ],
      "metadata": {
        "colab": {
          "base_uri": "https://localhost:8080/"
        },
        "id": "SgGXdlBQInCg",
        "outputId": "066fb769-9732-4790-adf2-edefebb9ebc0"
      },
      "execution_count": null,
      "outputs": [
        {
          "output_type": "execute_result",
          "data": {
            "text/plain": [
              "{'mae': 567.9802,\n",
              " 'mse': 1147547.0,\n",
              " 'rmse': 1071.2362,\n",
              " 'mape': 2.516525,\n",
              " 'mase': 0.99957}"
            ]
          },
          "metadata": {},
          "execution_count": 56
        }
      ]
    },
    {
      "cell_type": "code",
      "source": [
        "# Let's plot our model 1 predictions\n",
        "offset = 300\n",
        "plt.figure(figsize=(10, 7))\n",
        "# Account for the test_window offset and index into test_labels to ensure correct plotting\n",
        "plot_time_series(timesteps=X_test[-len(test_windows):],\n",
        "                 values=test_labels[:, 0],\n",
        "                 start=offset,\n",
        "                 label=\"Test Data\")\n",
        "plot_time_series(timesteps=X_test[-len(test_windows):],\n",
        "                 values=model_1_preds,\n",
        "                 start=offset,\n",
        "                 format=\"-\",\n",
        "                 label=\"model_1_preds\")"
      ],
      "metadata": {
        "colab": {
          "base_uri": "https://localhost:8080/",
          "height": 619
        },
        "id": "ktaGgpJrIobL",
        "outputId": "0f359c21-b3ca-4ab3-8bac-ae59961f424b"
      },
      "execution_count": null,
      "outputs": [
        {
          "output_type": "display_data",
          "data": {
            "text/plain": [
              "<Figure size 1000x700 with 1 Axes>"
            ],
            "image/png": "[encoded data removed]"
          },
          "metadata": {}
        }
      ]
    },
    {
      "cell_type": "markdown",
      "source": [
        "Check: autoregressive https://en.wikipedia.org/wiki/Autoregressive_model\n",
        "and autoccorelation:  https://otexts.com/fpp2/autocorrelation.html"
      ],
      "metadata": {
        "id": "aSwJNc7SKaEa"
      }
    },
    {
      "cell_type": "markdown",
      "source": [
        "## Model 2: Dense (window = 30, horizon = 1)"
      ],
      "metadata": {
        "id": "mW-zSkGxKZnP"
      }
    },
    {
      "cell_type": "code",
      "source": [
        "HORIZON = 1 # predict one step at a time (one day of Bitcoin prices)\n",
        "WINDOW_SIZE = 30 # use 30 timesteps in past"
      ],
      "metadata": {
        "id": "87ffVG2WL5op"
      },
      "execution_count": null,
      "outputs": []
    },
    {
      "cell_type": "code",
      "source": [
        "# Make windowed data with appropriate horizon and window sizes\n",
        "full_windows, full_labels = make_windows(prices, window_size=WINDOW_SIZE, horizon=HORIZON)\n",
        "len(full_windows), len(full_labels)\n"
      ],
      "metadata": {
        "colab": {
          "base_uri": "https://localhost:8080/"
        },
        "id": "HTz2PJyXM2c9",
        "outputId": "a2775dea-3211-43fe-9f8f-6cf50363580f"
      },
      "execution_count": null,
      "outputs": [
        {
          "output_type": "execute_result",
          "data": {
            "text/plain": [
              "(2757, 2757)"
            ]
          },
          "metadata": {},
          "execution_count": 64
        }
      ]
    },
    {
      "cell_type": "code",
      "source": [
        "# Make train and testing window\n",
        "train_windows, test_windows, train_labels, test_labels = make_train_test_splits(windows=full_windows,\n",
        "                                                                                labels=full_labels,\n",
        "                                                                                test_split=0.2)\n",
        "len(train_windows), len(test_windows), len(train_labels), len(test_labels)"
      ],
      "metadata": {
        "colab": {
          "base_uri": "https://localhost:8080/"
        },
        "id": "9WI7wLgxNVvB",
        "outputId": "dd93dec5-a3ca-424f-b9d3-67564736aeea"
      },
      "execution_count": null,
      "outputs": [
        {
          "output_type": "execute_result",
          "data": {
            "text/plain": [
              "(2205, 552, 2205, 552)"
            ]
          },
          "metadata": {},
          "execution_count": 60
        }
      ]
    },
    {
      "cell_type": "code",
      "source": [
        "train_windows[:3], train_labels[:3]"
      ],
      "metadata": {
        "colab": {
          "base_uri": "https://localhost:8080/"
        },
        "id": "EOCUXCUJN0xy",
        "outputId": "9813044a-2b52-4630-ed74-5d31c8d9ddcd"
      },
      "execution_count": null,
      "outputs": [
        {
          "output_type": "execute_result",
          "data": {
            "text/plain": [
              "(array([[123.65499, 125.455  , 108.58483, 118.67466, 121.33866, 120.65533,\n",
              "         121.795  , 123.033  , 124.049  , 125.96116, 125.27966, 125.9275 ,\n",
              "         126.38333, 135.24199, 133.20333, 142.76333, 137.92333, 142.95166,\n",
              "         152.55183, 160.33883, 164.31499, 177.63333, 188.29716, 200.70166,\n",
              "         180.355  , 175.03166, 177.6965 , 187.15983, 192.75666, 197.4    ],\n",
              "        [125.455  , 108.58483, 118.67466, 121.33866, 120.65533, 121.795  ,\n",
              "         123.033  , 124.049  , 125.96116, 125.27966, 125.9275 , 126.38333,\n",
              "         135.24199, 133.20333, 142.76333, 137.92333, 142.95166, 152.55183,\n",
              "         160.33883, 164.31499, 177.63333, 188.29716, 200.70166, 180.355  ,\n",
              "         175.03166, 177.6965 , 187.15983, 192.75666, 197.4    , 196.02499],\n",
              "        [108.58483, 118.67466, 121.33866, 120.65533, 121.795  , 123.033  ,\n",
              "         124.049  , 125.96116, 125.27966, 125.9275 , 126.38333, 135.24199,\n",
              "         133.20333, 142.76333, 137.92333, 142.95166, 152.55183, 160.33883,\n",
              "         164.31499, 177.63333, 188.29716, 200.70166, 180.355  , 175.03166,\n",
              "         177.6965 , 187.15983, 192.75666, 197.4    , 196.02499, 198.04883]]),\n",
              " array([[196.02499],\n",
              "        [198.04883],\n",
              "        [198.93233]]))"
            ]
          },
          "metadata": {},
          "execution_count": 62
        }
      ]
    },
    {
      "cell_type": "code",
      "source": [
        "tf.random.set_seed(42)\n",
        "\n",
        "# Create model\n",
        "model_2 = tf.keras.Sequential([\n",
        "    layers.Dense(128, activation=\"relu\"),\n",
        "    layers.Dense(HORIZON)\n",
        "], name=\"model_2_dense\")\n",
        "\n",
        "# Compile\n",
        "model_2.compile(loss=\"mae\",\n",
        "                optimizer=tf.keras.optimizers.Adam())\n",
        "model_2.fit(train_windows,\n",
        "            train_labels,\n",
        "            epochs=100,\n",
        "            batch_size=128,\n",
        "            verbose=0,\n",
        "            validation_data=(test_windows, test_labels),\n",
        "            callbacks=[create_model_checkpoint(model_name=model_2.name)])"
      ],
      "metadata": {
        "colab": {
          "base_uri": "https://localhost:8080/"
        },
        "id": "UgWka6weORIS",
        "outputId": "2ea23473-ea4e-40cb-82eb-e8f4ac7250ea"
      },
      "execution_count": null,
      "outputs": [
        {
          "output_type": "execute_result",
          "data": {
            "text/plain": [
              "<keras.src.callbacks.History at 0x7d4eb456af50>"
            ]
          },
          "metadata": {},
          "execution_count": 63
        }
      ]
    },
    {
      "cell_type": "code",
      "source": [
        "# Evaluate model 2 on test data\n",
        "model_2.evaluate(test_windows, test_labels)"
      ],
      "metadata": {
        "colab": {
          "base_uri": "https://localhost:8080/"
        },
        "id": "95yfh9h6PY5r",
        "outputId": "396e077a-fb14-4e42-ccde-3274ead1fb6b"
      },
      "execution_count": null,
      "outputs": [
        {
          "output_type": "stream",
          "name": "stdout",
          "text": [
            "18/18 [==============================] - 0s 4ms/step - loss: 613.8854\n"
          ]
        },
        {
          "output_type": "execute_result",
          "data": {
            "text/plain": [
              "613.8854370117188"
            ]
          },
          "metadata": {},
          "execution_count": 65
        }
      ]
    },
    {
      "cell_type": "code",
      "source": [
        "# Load in the best performing model\n",
        "model_2 = tf.keras.models.load_model(\"model_experiments/model_2_dense/\")\n",
        "model_2.evaluate(test_windows, test_labels)"
      ],
      "metadata": {
        "colab": {
          "base_uri": "https://localhost:8080/"
        },
        "id": "EgsIGh4QPpc7",
        "outputId": "3583b77e-fc77-4b2d-c0e4-a14ac2ff6588"
      },
      "execution_count": null,
      "outputs": [
        {
          "output_type": "stream",
          "name": "stdout",
          "text": [
            "18/18 [==============================] - 0s 3ms/step - loss: 605.7089\n"
          ]
        },
        {
          "output_type": "execute_result",
          "data": {
            "text/plain": [
              "605.7089233398438"
            ]
          },
          "metadata": {},
          "execution_count": 67
        }
      ]
    },
    {
      "cell_type": "code",
      "source": [
        "# Get forecast predictions\n",
        "model_2_preds = make_preds(model_2,\n",
        "                           input_data=test_windows)"
      ],
      "metadata": {
        "colab": {
          "base_uri": "https://localhost:8080/"
        },
        "id": "eT8006TaQBX7",
        "outputId": "03542a5e-72fc-45bf-bc4f-f3a1fcc46e74"
      },
      "execution_count": null,
      "outputs": [
        {
          "output_type": "stream",
          "name": "stdout",
          "text": [
            "18/18 [==============================] - 0s 2ms/step\n"
          ]
        }
      ]
    },
    {
      "cell_type": "code",
      "source": [
        "test_labels.shape, model_2_preds.shape"
      ],
      "metadata": {
        "colab": {
          "base_uri": "https://localhost:8080/"
        },
        "id": "mCg89C4oQacm",
        "outputId": "02063405-01e6-40dd-afd2-e81ac45ccbbd"
      },
      "execution_count": null,
      "outputs": [
        {
          "output_type": "execute_result",
          "data": {
            "text/plain": [
              "((552, 1), TensorShape([552]))"
            ]
          },
          "metadata": {},
          "execution_count": 71
        }
      ]
    },
    {
      "cell_type": "code",
      "source": [
        "tf.squeeze(test_labels).shape"
      ],
      "metadata": {
        "colab": {
          "base_uri": "https://localhost:8080/"
        },
        "id": "mkTBmG1BQiv4",
        "outputId": "8c27656d-bd14-4e2b-94b8-9a242b7c1b4c"
      },
      "execution_count": null,
      "outputs": [
        {
          "output_type": "execute_result",
          "data": {
            "text/plain": [
              "TensorShape([552])"
            ]
          },
          "metadata": {},
          "execution_count": 73
        }
      ]
    },
    {
      "cell_type": "code",
      "source": [
        "# Evaluate results for model 2 predictions\n",
        "model_2_results = evaluate_preds(y_true=tf.squeeze(test_labels),\n",
        "                                 y_pred=model_2_preds)\n",
        "model_2_results"
      ],
      "metadata": {
        "colab": {
          "base_uri": "https://localhost:8080/"
        },
        "id": "-XuUC74NQMkG",
        "outputId": "385f8a78-3e2b-4aab-9a5d-2e310d7916ba"
      },
      "execution_count": null,
      "outputs": [
        {
          "output_type": "execute_result",
          "data": {
            "text/plain": [
              "{'mae': 605.70886,\n",
              " 'mse': 1259161.5,\n",
              " 'rmse': 1122.1237,\n",
              " 'mape': 2.7331836,\n",
              " 'mase': 1.0587851}"
            ]
          },
          "metadata": {},
          "execution_count": 74
        }
      ]
    },
    {
      "cell_type": "code",
      "source": [
        "model_1_results"
      ],
      "metadata": {
        "colab": {
          "base_uri": "https://localhost:8080/"
        },
        "id": "QbI7J_0oQ1j9",
        "outputId": "a7c2a05f-0e43-4a76-a82c-9fa00695d490"
      },
      "execution_count": null,
      "outputs": [
        {
          "output_type": "execute_result",
          "data": {
            "text/plain": [
              "{'mae': 567.2946,\n",
              " 'mse': 1161823.4,\n",
              " 'rmse': 1077.8792,\n",
              " 'mape': 2.5508199,\n",
              " 'mase': 0.9965795}"
            ]
          },
          "metadata": {},
          "execution_count": 75
        }
      ]
    },
    {
      "cell_type": "code",
      "source": [
        "offset = 300\n",
        "plt.figure(figsize=(10, 7))\n",
        "# Account for test_window offset when plotting\n",
        "plot_time_series(timesteps=X_test[-len(test_windows):], values=test_labels[:, 0], start=offset, label=\"Test Data\")\n",
        "plot_time_series(timesteps=X_test[-len(test_windows):], values=model_2_preds, start=offset, format=\"-\", label=\"model_2_preds\")"
      ],
      "metadata": {
        "colab": {
          "base_uri": "https://localhost:8080/",
          "height": 619
        },
        "id": "6DNaXDzpRBXX",
        "outputId": "d596a8eb-e525-4d3b-9dec-498783b0a4cc"
      },
      "execution_count": null,
      "outputs": [
        {
          "output_type": "display_data",
          "data": {
            "text/plain": [
              "<Figure size 1000x700 with 1 Axes>"
            ],
            "image/png": "[encoded data removed]"
          },
          "metadata": {}
        }
      ]
    },
    {
      "cell_type": "code",
      "source": [
        "## Model 3: Dense (window = 30, horizon = 7)\n",
        "\n",
        "HORIZON = 7\n",
        "WINDOW_SIZE = 30\n",
        "\n",
        "full_windows, full_labels = make_windows(prices, window_size=WINDOW_SIZE, horizon=HORIZON)\n",
        "len(full_windows), len(full_labels)"
      ],
      "metadata": {
        "colab": {
          "base_uri": "https://localhost:8080/"
        },
        "id": "1b_7ot17Sks4",
        "outputId": "2e437006-0ea8-4b15-fffd-a4149cd46222"
      },
      "execution_count": null,
      "outputs": [
        {
          "output_type": "execute_result",
          "data": {
            "text/plain": [
              "(2751, 2751)"
            ]
          },
          "metadata": {},
          "execution_count": 77
        }
      ]
    },
    {
      "cell_type": "code",
      "source": [
        "train_windows, test_windows, train_labels, test_labels = make_train_test_splits(windows=full_windows,\n",
        "                                                                                labels=full_labels)\n",
        "len(train_windows), len(test_windows), len(train_labels), len(test_labels)"
      ],
      "metadata": {
        "colab": {
          "base_uri": "https://localhost:8080/"
        },
        "id": "AnGWTv2PTBls",
        "outputId": "62955f4e-505f-4b2f-fdc8-fe2ec4961561"
      },
      "execution_count": null,
      "outputs": [
        {
          "output_type": "execute_result",
          "data": {
            "text/plain": [
              "(2200, 551, 2200, 551)"
            ]
          },
          "metadata": {},
          "execution_count": 78
        }
      ]
    },
    {
      "cell_type": "code",
      "source": [
        "tf.random.set_seed(42)\n",
        "\n",
        "# Create model (smae as model_1 except with different data input and output sizes)\n",
        "model_3 = tf.keras.Sequential([\n",
        "    layers.Dense(128, activation=\"relu\"),\n",
        "    layers.Dense(HORIZON)\n",
        "], name=\"model_3_dense\")\n",
        "\n",
        "# Compile\n",
        "model_3.compile(loss=\"MAE\",\n",
        "                optimizer=tf.keras.optimizers.Adam())\n",
        "\n",
        "# Fit\n",
        "model_3.fit(train_windows,\n",
        "            train_labels,\n",
        "            batch_size=128,\n",
        "            epochs=100,\n",
        "            verbose=0,\n",
        "            validation_data=(test_windows, test_labels),\n",
        "            callbacks=[create_model_checkpoint(model_name=model_3.name)])"
      ],
      "metadata": {
        "colab": {
          "base_uri": "https://localhost:8080/"
        },
        "id": "rshQqN5kTdye",
        "outputId": "019bd6f1-49a5-4ed2-d8d4-285f59d6cf1d"
      },
      "execution_count": null,
      "outputs": [
        {
          "output_type": "execute_result",
          "data": {
            "text/plain": [
              "<keras.src.callbacks.History at 0x7d4eb45ba860>"
            ]
          },
          "metadata": {},
          "execution_count": 79
        }
      ]
    },
    {
      "cell_type": "code",
      "source": [
        "# Evaluate the model on the test data\n",
        "model_3.evaluate(test_windows, test_labels)"
      ],
      "metadata": {
        "colab": {
          "base_uri": "https://localhost:8080/"
        },
        "id": "b3AMcUrdVpya",
        "outputId": "be6859a1-24d6-4734-b580-654f054d17b7"
      },
      "execution_count": null,
      "outputs": [
        {
          "output_type": "stream",
          "name": "stdout",
          "text": [
            "18/18 [==============================] - 0s 5ms/step - loss: 1375.4039\n"
          ]
        },
        {
          "output_type": "execute_result",
          "data": {
            "text/plain": [
              "1375.4039306640625"
            ]
          },
          "metadata": {},
          "execution_count": 80
        }
      ]
    },
    {
      "cell_type": "code",
      "source": [
        "# Load best version of model_3 and evaluate\n",
        "model_3 = tf.keras.models.load_model(\"model_experiments/model_3_dense\")\n",
        "model_3.evaluate(test_windows, test_labels)"
      ],
      "metadata": {
        "colab": {
          "base_uri": "https://localhost:8080/"
        },
        "id": "8kOQUCzVVxqH",
        "outputId": "11d25a4c-c383-4361-a7c7-427eb6f58297"
      },
      "execution_count": null,
      "outputs": [
        {
          "output_type": "stream",
          "name": "stdout",
          "text": [
            "18/18 [==============================] - 0s 2ms/step - loss: 1232.0728\n"
          ]
        },
        {
          "output_type": "execute_result",
          "data": {
            "text/plain": [
              "1232.07275390625"
            ]
          },
          "metadata": {},
          "execution_count": 81
        }
      ]
    },
    {
      "cell_type": "code",
      "source": [
        "# Make predictions with model_3\n",
        "model_3_preds = make_preds(model_3,\n",
        "                           input_data=test_windows)\n",
        "model_3_preds[:5]"
      ],
      "metadata": {
        "colab": {
          "base_uri": "https://localhost:8080/"
        },
        "id": "bs726G0dWTla",
        "outputId": "a7a73a18-316c-44b4-c89b-2ad100315314"
      },
      "execution_count": null,
      "outputs": [
        {
          "output_type": "stream",
          "name": "stdout",
          "text": [
            "18/18 [==============================] - 0s 2ms/step\n"
          ]
        },
        {
          "output_type": "execute_result",
          "data": {
            "text/plain": [
              "<tf.Tensor: shape=(5, 7), dtype=float32, numpy=\n",
              "array([[9572.965 , 9434.431 , 9514.936 , 9373.114 , 9571.92  , 9721.33  ,\n",
              "        9470.183 ],\n",
              "       [9052.867 , 8984.6455, 9115.97  , 9089.882 , 9328.56  , 9394.764 ,\n",
              "        9077.021 ],\n",
              "       [8865.331 , 8823.735 , 8889.792 , 9154.792 , 9181.709 , 9178.899 ,\n",
              "        8928.17  ],\n",
              "       [8965.549 , 8984.373 , 8895.901 , 9368.097 , 9159.594 , 9172.35  ,\n",
              "        9020.448 ],\n",
              "       [8846.509 , 8879.388 , 8880.811 , 9107.456 , 8846.931 , 9014.273 ,\n",
              "        8916.614 ]], dtype=float32)>"
            ]
          },
          "metadata": {},
          "execution_count": 82
        }
      ]
    },
    {
      "cell_type": "code",
      "source": [
        "model_2_preds[:5]"
      ],
      "metadata": {
        "colab": {
          "base_uri": "https://localhost:8080/"
        },
        "id": "Nh2-OXVpWjKG",
        "outputId": "5baf102c-5a95-49e4-8a66-015915f6ad8f"
      },
      "execution_count": null,
      "outputs": [
        {
          "output_type": "execute_result",
          "data": {
            "text/plain": [
              "<tf.Tensor: shape=(5,), dtype=float32, numpy=array([8867.607, 8801.487, 8701.9  , 8487.535, 8433.463], dtype=float32)>"
            ]
          },
          "metadata": {},
          "execution_count": 83
        }
      ]
    },
    {
      "cell_type": "code",
      "source": [
        "model_3_preds.shape, model_2_preds.shape"
      ],
      "metadata": {
        "colab": {
          "base_uri": "https://localhost:8080/"
        },
        "id": "WrztQU30XZ2m",
        "outputId": "379bb4a1-64bc-401f-9e55-5b6a6f93f7c0"
      },
      "execution_count": null,
      "outputs": [
        {
          "output_type": "execute_result",
          "data": {
            "text/plain": [
              "(TensorShape([551, 7]), TensorShape([552]))"
            ]
          },
          "metadata": {},
          "execution_count": 85
        }
      ]
    },
    {
      "cell_type": "code",
      "source": [
        "# Evaluate model_3 results\n",
        "model_3_results = evaluate_preds(y_true=tf.squeeze(test_labels),\n",
        "                                 y_pred=model_3_preds)\n",
        "model_3_results"
      ],
      "metadata": {
        "colab": {
          "base_uri": "https://localhost:8080/"
        },
        "id": "Xv_lpVtwW-4B",
        "outputId": "604c4bd0-0952-4325-9701-77b56bb68041"
      },
      "execution_count": null,
      "outputs": [
        {
          "output_type": "execute_result",
          "data": {
            "text/plain": [
              "{'mae': array([  729.4819  ,   425.4287  ,   360.59012 ,   454.30707 ,\n",
              "          373.07812 ,   442.6672  ,   427.26883 ,   594.2876  ,\n",
              "          535.51807 ,   465.58768 ,   710.76044 ,   744.1418  ,\n",
              "          840.5072  ,   794.6159  ,   565.0717  ,   303.3259  ,\n",
              "          175.9506  ,   275.84076 ,   269.92926 ,   329.08664 ,\n",
              "          175.19447 ,   150.1508  ,   293.90765 ,   308.97162 ,\n",
              "          179.39998 ,    66.470146,   110.42341 ,    95.988   ,\n",
              "          133.5655  ,   107.72454 ,   283.33224 ,   306.19894 ,\n",
              "          229.38176 ,   326.51675 ,   234.97629 ,   243.55203 ,\n",
              "          303.51996 ,   214.33629 ,   215.25412 ,   263.63602 ,\n",
              "          470.2475  ,   129.29729 ,   100.63818 ,    68.22489 ,\n",
              "          108.90221 ,    86.1988  ,   141.66713 ,    87.77679 ,\n",
              "          146.92152 ,   173.5858  ,   147.17725 ,   117.85533 ,\n",
              "          178.631   ,   180.89139 ,   222.20375 ,   326.2078  ,\n",
              "          502.01324 ,   467.60776 ,   517.20996 ,   489.7232  ,\n",
              "          352.4239  ,   232.71729 ,   283.87863 ,   407.76437 ,\n",
              "          400.52252 ,   480.15408 ,   452.36914 ,   583.0671  ,\n",
              "          110.791435,   221.47726 ,   246.43987 ,   404.85938 ,\n",
              "          564.7564  ,   452.30093 ,   309.28934 ,   346.20758 ,\n",
              "          370.1423  ,   403.00558 ,   559.4975  ,   743.4195  ,\n",
              "          813.3256  ,   590.79004 ,   285.2352  ,   192.33049 ,\n",
              "          179.2147  ,   227.3785  ,   232.55037 ,   299.82184 ,\n",
              "          395.47446 ,   563.21387 ,   571.7028  ,   469.2779  ,\n",
              "          329.77817 ,   191.3644  ,   247.98131 ,   290.94907 ,\n",
              "          356.94727 ,   555.7563  ,   605.7372  ,   797.0356  ,\n",
              "          453.02594 ,   309.45718 ,   136.56375 ,   314.02094 ,\n",
              "          296.25656 ,   379.5039  ,   512.31305 ,   657.5328  ,\n",
              "         1028.1625  ,   954.58234 ,   873.87177 ,   410.06168 ,\n",
              "          178.16895 ,   271.63297 ,   272.56082 ,   304.26334 ,\n",
              "          323.12674 ,   478.50287 ,   606.0841  ,  1058.074   ,\n",
              "         1746.7467  ,  2275.705   ,  2011.6263  ,  2045.344   ,\n",
              "         2332.8005  ,  2514.3806  ,  1109.091   ,   647.59247 ,\n",
              "          518.7809  ,   404.25238 ,   567.9414  ,   556.4709  ,\n",
              "          353.6561  ,   235.2461  ,   361.0205  ,   275.51395 ,\n",
              "          338.65018 ,   313.91754 ,   270.94894 ,   243.83127 ,\n",
              "          254.4119  ,   313.15652 ,   510.06494 ,   818.4682  ,\n",
              "          687.14325 ,   570.50977 ,   570.86786 ,   458.48724 ,\n",
              "          338.27496 ,   167.06438 ,   217.90633 ,   283.9846  ,\n",
              "          403.47076 ,   369.64935 ,   468.69943 ,   189.80559 ,\n",
              "          190.72    ,   213.62193 ,   210.50998 ,   258.53467 ,\n",
              "          379.60562 ,   227.40945 ,   217.75816 ,   216.6483  ,\n",
              "          267.56424 ,   273.37234 ,   524.26544 ,   780.6851  ,\n",
              "          567.9443  ,   637.1318  ,   829.8585  ,   860.90045 ,\n",
              "          920.79895 ,  1108.2534  ,   391.56934 ,   256.31027 ,\n",
              "          320.43246 ,   338.05426 ,   369.93988 ,   460.9121  ,\n",
              "          506.8284  ,   478.6486  ,   665.64246 ,   801.9169  ,\n",
              "          805.62195 ,   265.1141  ,   489.16058 ,   629.87836 ,\n",
              "          381.5498  ,   181.38435 ,   219.13504 ,   263.24164 ,\n",
              "          338.58746 ,   477.35757 ,   650.8368  ,   630.1462  ,\n",
              "          297.52985 ,   260.67828 ,   341.7341  ,   380.21274 ,\n",
              "          546.04254 ,   654.07825 ,   613.3214  ,   473.65933 ,\n",
              "          317.363   ,   229.50125 ,   207.77455 ,   654.2118  ,\n",
              "          211.2168  ,   120.376396,   187.96902 ,   109.71038 ,\n",
              "          204.20605 ,   213.87752 ,   317.95187 ,   460.98102 ,\n",
              "          558.4523  ,   217.6289  ,   237.83008 ,   240.25613 ,\n",
              "          203.75627 ,   166.58887 ,   173.85588 ,   219.67522 ,\n",
              "          117.6497  ,   148.81836 ,   243.40625 ,   216.14397 ,\n",
              "          417.12332 ,   421.0039  ,   379.42746 ,   323.44168 ,\n",
              "          208.09793 ,    81.386024,    76.10966 ,   147.39467 ,\n",
              "          105.01632 ,   181.44084 ,    62.475586,   142.67383 ,\n",
              "           98.9315  ,   126.173134,   117.40904 ,   102.698524,\n",
              "          259.29868 ,   183.16936 ,   196.47475 ,   175.9739  ,\n",
              "          155.00656 ,   193.0173  ,   164.62807 ,   125.305244,\n",
              "          154.27469 ,   172.66154 ,   217.98549 ,   267.62347 ,\n",
              "          538.8139  ,   652.19403 ,   756.53613 ,   874.84503 ,\n",
              "         1063.5496  ,  1265.3682  ,  1233.8538  ,   405.41742 ,\n",
              "          232.22977 ,   262.4484  ,   224.8065  ,   232.61551 ,\n",
              "          454.40836 ,   111.18443 ,   187.66951 ,   175.28557 ,\n",
              "          111.55859 ,   287.56738 ,   151.61119 ,   361.0682  ,\n",
              "          283.19614 ,   318.62988 ,   254.90248 ,   299.1472  ,\n",
              "          212.02092 ,   117.40904 ,   250.76521 ,   172.81223 ,\n",
              "          496.38742 ,   422.03403 ,   257.96567 ,   326.4153  ,\n",
              "          267.90988 ,   245.99553 ,   229.2793  ,   300.7952  ,\n",
              "          233.10533 ,   143.98381 ,   315.63058 ,   398.91602 ,\n",
              "          656.4692  ,   878.85535 ,  1104.5468  ,  1498.235   ,\n",
              "         1491.0741  ,   879.42535 ,   537.9297  ,   116.293526,\n",
              "          159.71596 ,   207.61635 ,   411.27847 ,   297.96274 ,\n",
              "          295.8488  ,   301.99496 ,   324.708   ,   367.69907 ,\n",
              "          164.61551 ,   152.58524 ,   383.92926 ,   445.3393  ,\n",
              "          422.76898 ,   518.85925 ,   331.6829  ,   136.21777 ,\n",
              "          161.57799 ,   347.41016 ,   113.357704,   136.49232 ,\n",
              "          229.80887 ,   285.81265 ,   329.85477 ,   332.4802  ,\n",
              "          243.85574 ,   194.67006 ,   191.87988 ,   293.13687 ,\n",
              "          297.79242 ,   454.59555 ,   572.6221  ,   595.7499  ,\n",
              "          550.3903  ,   358.56168 ,   143.22684 ,   115.489395,\n",
              "          367.571   ,   314.93777 ,   381.65082 ,   592.63965 ,\n",
              "          771.4965  ,  1004.17395 ,  1220.267   ,  1109.9335  ,\n",
              "         1150.5922  ,   281.08273 ,   312.6702  ,   194.43318 ,\n",
              "          285.18805 ,   248.01074 ,   243.84933 ,   179.51465 ,\n",
              "          206.78683 ,   470.917   ,   702.6705  ,   729.6123  ,\n",
              "          924.1317  ,  1114.591   ,  1078.0657  ,  1091.5697  ,\n",
              "          420.8277  ,   477.77386 ,   444.23898 ,   338.51758 ,\n",
              "          582.27527 ,   892.1299  ,   924.4792  ,   847.30457 ,\n",
              "         1103.9791  ,  1414.9912  ,  1800.0305  ,  1501.1838  ,\n",
              "          891.3764  ,   560.5067  ,   547.90204 ,   555.7511  ,\n",
              "          975.86523 ,   985.5282  ,   981.00586 ,  1102.092   ,\n",
              "         1046.0642  ,   913.7885  ,  1688.8262  ,  1548.9408  ,\n",
              "         1018.25055 ,   249.19615 ,   288.673   ,   549.2115  ,\n",
              "          940.71234 ,   555.53485 ,   683.7704  ,   599.8128  ,\n",
              "          754.339   ,   592.0653  ,   961.44305 ,  1669.1094  ,\n",
              "         2343.2983  ,  2668.0398  ,  2918.431   ,  3210.5881  ,\n",
              "         3280.2424  ,  2194.2986  ,   680.52374 ,   380.73383 ,\n",
              "         1098.2311  ,  1163.8177  ,  1364.846   ,  1907.7478  ,\n",
              "         2670.5356  ,  3013.0505  ,  3045.1653  ,  2418.5176  ,\n",
              "         2650.099   ,  2899.5994  ,  3365.0425  ,  2943.8333  ,\n",
              "         3961.2717  ,  5155.95    ,  4499.628   ,  4511.4595  ,\n",
              "         5017.9097  ,  3668.996   ,  2861.9631  ,  2086.8728  ,\n",
              "         3524.2383  ,  4787.243   ,  4719.2437  ,  1152.3086  ,\n",
              "         1062.2784  ,   671.91907 ,  2504.1545  ,  2768.612   ,\n",
              "         2441.756   ,  2603.184   ,  3324.3188  ,  4008.353   ,\n",
              "         4138.1714  ,  1099.476   ,  1240.4744  ,  1768.5764  ,\n",
              "         1963.4991  ,  1773.5842  ,  1988.3119  ,  3262.9167  ,\n",
              "         3736.7864  ,  2624.7327  ,  2235.984   ,  2769.1262  ,\n",
              "         4063.0564  ,  4488.664   ,  4298.4287  ,  5610.36    ,\n",
              "         6667.8345  ,  6159.325   ,  8011.192   ,  4519.6255  ,\n",
              "         1874.2494  ,  1666.6105  ,  1441.9626  ,  2597.8455  ,\n",
              "         2862.433   ,  3239.9583  ,  4039.4543  ,  2989.8755  ,\n",
              "         2697.4102  ,  3387.6724  ,  5304.0728  ,  6193.2354  ,\n",
              "        10148.844   ,  9532.464   ,  3892.6372  ,  3259.299   ,\n",
              "         1550.553   ,  2049.0403  ,  3062.4844  ,  5372.992   ,\n",
              "         2196.7908  ,  3518.198   ,  2761.766   ,  3633.1367  ,\n",
              "         4104.7783  ,  5685.9165  ,  6686.8237  ,  6145.3916  ,\n",
              "         4007.4778  ,  2018.6545  ,  1585.587   ,  1530.538   ,\n",
              "         1833.5139  ,  3353.2014  ,  1795.9648  ,  1962.3995  ,\n",
              "         3224.069   ,  4612.118   ,  4537.815   ,  4926.216   ,\n",
              "         5435.965   ,  2162.6333  ,  1978.4012  ,  2879.366   ,\n",
              "         4671.1104  ,  3422.4827  ,  2753.773   ,  2706.5994  ,\n",
              "         1848.3058  ,   616.5257  ,   743.1708  ,   764.3739  ,\n",
              "         1410.4978  ,   947.12274 ,  1130.5675  ,  1138.8683  ,\n",
              "         1429.202   ,  2148.609   ,  3223.7935  ,  3223.121   ,\n",
              "         2080.5747  ,  2290.6167  ,  2845.375   ,  4423.5835  ,\n",
              "         5859.7476  ,  7802.9717  ,  8506.831   ,  8305.175   ,\n",
              "         5844.1406  ,  4177.9424  ,  4047.539   ,  2615.134   ,\n",
              "         1873.12    ,  2964.6785  ,  4269.216   ,  6019.817   ,\n",
              "         3435.8855  ,  1779.0692  ,  1787.4252  ,  1919.4648  ,\n",
              "         1403.9603  ,  1972.7249  ,  1129.5061  ,   999.8214  ,\n",
              "         1855.942   ,  1376.153   ,  2938.8738  ,  3361.8464  ,\n",
              "         6109.398   ,  7097.6763  ,  8525.192   ], dtype=float32),\n",
              " 'mse': array([5.57219688e+05, 2.22556328e+05, 1.69431656e+05, 2.57648219e+05,\n",
              "        1.88267000e+05, 2.44436672e+05, 2.07991453e+05, 4.19779188e+05,\n",
              "        4.10215438e+05, 3.72660062e+05, 7.17465312e+05, 7.28770125e+05,\n",
              "        8.27947000e+05, 6.88413312e+05, 3.36193688e+05, 1.19082805e+05,\n",
              "        5.02224961e+04, 1.08646961e+05, 8.54927891e+04, 1.40533609e+05,\n",
              "        3.93091641e+04, 3.05556250e+04, 1.03253570e+05, 1.04266641e+05,\n",
              "        4.50662539e+04, 7.95302344e+03, 1.69366133e+04, 1.50619932e+04,\n",
              "        2.33080000e+04, 1.46952324e+04, 9.63308594e+04, 1.07414266e+05,\n",
              "        8.41381875e+04, 1.94996828e+05, 1.24535359e+05, 1.07186766e+05,\n",
              "        1.47905406e+05, 1.01773977e+05, 8.65537500e+04, 9.19353281e+04,\n",
              "        2.33168656e+05, 2.20752852e+04, 1.31120518e+04, 5.53086475e+03,\n",
              "        1.39584863e+04, 1.20798037e+04, 2.56128887e+04, 1.03164600e+04,\n",
              "        2.86926465e+04, 3.70571094e+04, 3.23736777e+04, 2.15337461e+04,\n",
              "        6.19879492e+04, 5.04245547e+04, 1.01756055e+05, 1.89728969e+05,\n",
              "        3.27471312e+05, 2.97880094e+05, 3.32299438e+05, 2.63525156e+05,\n",
              "        1.38536031e+05, 1.07218602e+05, 1.31545906e+05, 2.75662094e+05,\n",
              "        2.33952359e+05, 2.81309062e+05, 2.39602891e+05, 3.60783844e+05,\n",
              "        1.99836875e+04, 6.19000039e+04, 8.25275469e+04, 1.97920719e+05,\n",
              "        3.49315000e+05, 2.41695000e+05, 1.38865719e+05, 1.45848641e+05,\n",
              "        1.64085750e+05, 2.77539969e+05, 4.11225219e+05, 6.99192438e+05,\n",
              "        7.03593312e+05, 3.85866656e+05, 9.72768984e+04, 5.02988398e+04,\n",
              "        4.57700352e+04, 7.21909141e+04, 7.99020156e+04, 1.37376016e+05,\n",
              "        1.76488969e+05, 3.82488844e+05, 4.20616531e+05, 2.96166781e+05,\n",
              "        1.43214984e+05, 4.83331602e+04, 8.44304609e+04, 1.17015789e+05,\n",
              "        2.51061234e+05, 3.86601656e+05, 4.67779406e+05, 6.65046000e+05,\n",
              "        2.50724750e+05, 1.28113555e+05, 3.04742910e+04, 1.13277125e+05,\n",
              "        1.71505766e+05, 2.53461359e+05, 3.97813344e+05, 6.11892938e+05,\n",
              "        1.21415500e+06, 1.01331988e+06, 7.82985312e+05, 1.98233469e+05,\n",
              "        4.79442422e+04, 9.42477734e+04, 9.94963594e+04, 1.17020359e+05,\n",
              "        1.75239672e+05, 3.39337969e+05, 4.34840844e+05, 2.11313700e+06,\n",
              "        4.49350500e+06, 6.74328250e+06, 5.82162750e+06, 5.63750750e+06,\n",
              "        6.29475100e+06, 6.39696050e+06, 1.35854688e+06, 5.39620000e+05,\n",
              "        3.28104438e+05, 2.81221438e+05, 4.39129781e+05, 4.09452281e+05,\n",
              "        1.75012125e+05, 7.35599531e+04, 1.69965656e+05, 1.20116680e+05,\n",
              "        1.41097297e+05, 1.37400328e+05, 1.26628695e+05, 1.06938234e+05,\n",
              "        1.10840008e+05, 1.52133109e+05, 3.16920000e+05, 6.96640562e+05,\n",
              "        5.46659562e+05, 3.56205219e+05, 4.23583844e+05, 2.27798750e+05,\n",
              "        1.62706969e+05, 3.32648867e+04, 7.72459531e+04, 1.12208867e+05,\n",
              "        2.11320703e+05, 1.60622844e+05, 2.66122406e+05, 4.30368789e+04,\n",
              "        5.37845352e+04, 5.88136914e+04, 5.25982539e+04, 7.56845156e+04,\n",
              "        1.76456000e+05, 7.89648359e+04, 7.56216250e+04, 6.35910391e+04,\n",
              "        1.03203117e+05, 1.00237414e+05, 3.33447781e+05, 8.28293312e+05,\n",
              "        6.53894062e+05, 7.44194312e+05, 1.00273100e+06, 1.02802644e+06,\n",
              "        9.81376562e+05, 1.24361688e+06, 1.96471359e+05, 1.85621172e+05,\n",
              "        1.88794984e+05, 1.88776969e+05, 1.75373969e+05, 2.37404859e+05,\n",
              "        3.17964656e+05, 3.33863562e+05, 7.27552062e+05, 8.27401875e+05,\n",
              "        7.83972312e+05, 1.17571984e+05, 2.96109812e+05, 4.45767562e+05,\n",
              "        1.66230172e+05, 4.27520195e+04, 6.44461211e+04, 7.90503203e+04,\n",
              "        1.71247266e+05, 2.91407594e+05, 5.04048594e+05, 4.57205188e+05,\n",
              "        1.37274594e+05, 1.32304828e+05, 1.65659516e+05, 1.69784531e+05,\n",
              "        4.47546094e+05, 5.25355562e+05, 4.88587656e+05, 2.58211172e+05,\n",
              "        1.90344453e+05, 8.05535781e+04, 8.64214297e+04, 4.42385438e+05,\n",
              "        6.67169453e+04, 2.10889824e+04, 5.48283477e+04, 2.62906660e+04,\n",
              "        5.64393359e+04, 6.40275703e+04, 1.30011500e+05, 2.46954375e+05,\n",
              "        3.22947406e+05, 6.80683281e+04, 6.64136172e+04, 8.19795859e+04,\n",
              "        5.50295703e+04, 4.32093672e+04, 3.60104883e+04, 6.41685195e+04,\n",
              "        2.26987012e+04, 3.72785586e+04, 7.52514297e+04, 6.33408945e+04,\n",
              "        2.09051141e+05, 1.94983922e+05, 1.61067828e+05, 1.09624266e+05,\n",
              "        5.26374883e+04, 8.94485645e+03, 8.85439551e+03, 2.66392637e+04,\n",
              "        1.59051738e+04, 4.79163750e+04, 5.19878809e+03, 2.40409805e+04,\n",
              "        1.53013975e+04, 2.44215957e+04, 1.84731504e+04, 1.63086172e+04,\n",
              "        6.97748984e+04, 3.79033438e+04, 4.58300938e+04, 4.05374688e+04,\n",
              "        3.21525527e+04, 4.17763789e+04, 3.09570293e+04, 2.10330488e+04,\n",
              "        2.98409336e+04, 3.89782070e+04, 6.94740156e+04, 1.00055727e+05,\n",
              "        6.32874438e+05, 8.44749562e+05, 1.11744188e+06, 1.17360088e+06,\n",
              "        1.50493462e+06, 1.88912988e+06, 1.57032962e+06, 2.32648969e+05,\n",
              "        1.00946664e+05, 8.20625859e+04, 7.45759766e+04, 7.34422188e+04,\n",
              "        2.99230406e+05, 1.83012832e+04, 5.24181250e+04, 4.66227500e+04,\n",
              "        2.82719395e+04, 1.09214828e+05, 5.07496875e+04, 1.54966969e+05,\n",
              "        9.92768906e+04, 1.23541297e+05, 9.73462656e+04, 1.12544734e+05,\n",
              "        6.01168984e+04, 2.71473379e+04, 8.63154922e+04, 5.10443320e+04,\n",
              "        2.76753031e+05, 1.87701609e+05, 1.13753477e+05, 1.25631141e+05,\n",
              "        1.10284875e+05, 8.63677969e+04, 8.22490703e+04, 9.81216953e+04,\n",
              "        8.16073281e+04, 2.97358535e+04, 1.51122266e+05, 2.68230094e+05,\n",
              "        6.95451688e+05, 1.19002588e+06, 1.55988625e+06, 2.47936075e+06,\n",
              "        2.30782225e+06, 8.12557438e+05, 3.28846719e+05, 3.10925742e+04,\n",
              "        3.03517051e+04, 7.35255781e+04, 2.15837016e+05, 1.34033578e+05,\n",
              "        1.38039172e+05, 1.11859664e+05, 1.20620125e+05, 1.49242797e+05,\n",
              "        4.12335273e+04, 3.13261660e+04, 2.06286406e+05, 2.70479906e+05,\n",
              "        2.38926219e+05, 3.00598656e+05, 1.33383891e+05, 2.76480820e+04,\n",
              "        3.88293711e+04, 1.27855914e+05, 1.60478115e+04, 3.33884961e+04,\n",
              "        8.13695234e+04, 1.15357398e+05, 1.34430359e+05, 1.21490695e+05,\n",
              "        6.52963125e+04, 4.42594727e+04, 5.50834922e+04, 1.73018922e+05,\n",
              "        1.71214172e+05, 3.03582594e+05, 4.23820562e+05, 4.22836281e+05,\n",
              "        3.40316938e+05, 1.55743375e+05, 2.84330586e+04, 2.50251445e+04,\n",
              "        1.62598078e+05, 1.15689273e+05, 3.68196688e+05, 6.59331062e+05,\n",
              "        1.04710806e+06, 1.40033462e+06, 1.80244738e+06, 1.41911812e+06,\n",
              "        1.39967225e+06, 1.34633453e+05, 1.13859750e+05, 4.29599492e+04,\n",
              "        1.11287359e+05, 8.97552344e+04, 9.43730078e+04, 5.57718984e+04,\n",
              "        9.61340234e+04, 6.00173312e+05, 1.15901500e+06, 9.21317625e+05,\n",
              "        1.26684200e+06, 1.55607688e+06, 1.42279312e+06, 1.28971238e+06,\n",
              "        2.82771938e+05, 3.25381812e+05, 3.07948656e+05, 1.49245812e+05,\n",
              "        5.54162750e+05, 1.18939400e+06, 1.48142575e+06, 1.31591975e+06,\n",
              "        1.52665700e+06, 2.50213550e+06, 3.71429625e+06, 2.40716925e+06,\n",
              "        9.75735312e+05, 3.60717719e+05, 3.66711656e+05, 8.26852688e+05,\n",
              "        1.50086738e+06, 1.45422912e+06, 1.47687425e+06, 1.86584538e+06,\n",
              "        1.59124462e+06, 1.11333062e+06, 3.25558350e+06, 2.60154875e+06,\n",
              "        1.10207988e+06, 7.78217891e+04, 1.35857938e+05, 4.64236062e+05,\n",
              "        1.04693462e+06, 4.80841062e+05, 6.38376000e+05, 5.44223938e+05,\n",
              "        6.72314375e+05, 4.12167656e+05, 2.02478988e+06, 4.83203700e+06,\n",
              "        8.55886700e+06, 1.07421510e+07, 1.14838650e+07, 1.20878310e+07,\n",
              "        1.12795840e+07, 4.94272900e+06, 6.13677875e+05, 2.35069859e+05,\n",
              "        1.57622288e+06, 1.91254525e+06, 3.16295475e+06, 5.21945200e+06,\n",
              "        9.62208200e+06, 1.16389580e+07, 1.10302650e+07, 9.54074700e+06,\n",
              "        1.13376720e+07, 1.13644160e+07, 1.51822310e+07, 1.43259690e+07,\n",
              "        2.51955040e+07, 3.73785960e+07, 3.08420700e+07, 2.56233140e+07,\n",
              "        3.05698140e+07, 1.92399640e+07, 9.16427200e+06, 8.25483750e+06,\n",
              "        1.68864160e+07, 2.48325120e+07, 2.41152040e+07, 1.54102462e+06,\n",
              "        2.03572488e+06, 7.48592875e+05, 9.37079500e+06, 1.26705070e+07,\n",
              "        9.38236900e+06, 1.16190290e+07, 1.41611090e+07, 1.76833060e+07,\n",
              "        1.82777100e+07, 1.95187825e+06, 2.50396225e+06, 4.86100650e+06,\n",
              "        5.95387600e+06, 4.47427500e+06, 5.50788750e+06, 1.35856500e+07,\n",
              "        1.72770680e+07, 9.45584200e+06, 5.73470950e+06, 9.78728000e+06,\n",
              "        2.38998620e+07, 3.28922740e+07, 3.28393780e+07, 4.57977880e+07,\n",
              "        5.56389320e+07, 4.33325800e+07, 6.62010240e+07, 2.21812300e+07,\n",
              "        4.22662250e+06, 4.28571750e+06, 3.54538850e+06, 1.14609460e+07,\n",
              "        1.36845140e+07, 1.80368340e+07, 2.07664580e+07, 1.23994950e+07,\n",
              "        9.35708900e+06, 1.28442800e+07, 3.92503880e+07, 5.05324080e+07,\n",
              "        1.11530384e+08, 9.54349200e+07, 1.97922700e+07, 1.26010820e+07,\n",
              "        3.23028050e+06, 5.83610650e+06, 1.02909520e+07, 3.08041880e+07,\n",
              "        5.80103950e+06, 1.79017640e+07, 1.16799030e+07, 2.02307240e+07,\n",
              "        2.34680280e+07, 4.35994360e+07, 5.36411400e+07, 4.32216120e+07,\n",
              "        1.84653800e+07, 7.84986800e+06, 3.71718225e+06, 3.44336250e+06,\n",
              "        4.75128850e+06, 1.22124270e+07, 5.56864300e+06, 7.54489850e+06,\n",
              "        1.71206640e+07, 2.68253800e+07, 2.81998720e+07, 2.76275700e+07,\n",
              "        3.09143660e+07, 5.93799500e+06, 5.75159900e+06, 1.11747390e+07,\n",
              "        2.39158240e+07, 1.37144890e+07, 9.14111500e+06, 8.32389950e+06,\n",
              "        4.19336350e+06, 6.16814938e+05, 8.73658562e+05, 1.27127938e+06,\n",
              "        2.60237375e+06, 1.76355988e+06, 1.99453062e+06, 1.66148638e+06,\n",
              "        4.03739800e+06, 8.06382950e+06, 1.45728880e+07, 1.25981220e+07,\n",
              "        6.79656900e+06, 6.86681900e+06, 1.05160730e+07, 2.92716740e+07,\n",
              "        4.56524280e+07, 7.25648480e+07, 8.15746320e+07, 7.51087520e+07,\n",
              "        4.15000520e+07, 2.40764580e+07, 2.14072360e+07, 1.08337120e+07,\n",
              "        4.65790550e+06, 1.15828640e+07, 2.17069220e+07, 3.86234560e+07,\n",
              "        1.35951870e+07, 4.81621550e+06, 3.62761725e+06, 4.34271550e+06,\n",
              "        3.97175400e+06, 5.13548650e+06, 2.00926838e+06, 3.48065325e+06,\n",
              "        4.12441475e+06, 3.07784075e+06, 1.21043750e+07, 2.02627260e+07,\n",
              "        5.16948200e+07, 6.91307760e+07, 9.46091360e+07], dtype=float32),\n",
              " 'rmse': array([  746.4715  ,   471.75876 ,   411.62076 ,   507.5906  ,\n",
              "          433.89746 ,   494.40536 ,   456.0608  ,   647.9037  ,\n",
              "          640.4806  ,   610.45886 ,   847.03326 ,   853.68036 ,\n",
              "          909.9159  ,   829.7067  ,   579.8221  ,   345.08377 ,\n",
              "          224.10376 ,   329.6164  ,   292.3915  ,   374.8781  ,\n",
              "          198.2654  ,   174.80167 ,   321.33093 ,   322.90347 ,\n",
              "          212.28813 ,    89.179726,   130.14073 ,   122.72731 ,\n",
              "          152.66957 ,   121.22389 ,   310.37213 ,   327.74115 ,\n",
              "          290.06583 ,   441.58444 ,   352.89566 ,   327.3939  ,\n",
              "          384.58472 ,   319.02032 ,   294.2002  ,   303.2084  ,\n",
              "          482.8754  ,   148.57753 ,   114.507866,    74.36978 ,\n",
              "          118.146034,   109.90816 ,   160.04027 ,   101.56998 ,\n",
              "          169.38904 ,   192.50223 ,   179.92686 ,   146.7438  ,\n",
              "          248.97379 ,   224.55412 ,   318.99225 ,   435.5789  ,\n",
              "          572.2511  ,   545.78394 ,   576.45416 ,   513.347   ,\n",
              "          372.20428 ,   327.4425  ,   362.69257 ,   525.03534 ,\n",
              "          483.68622 ,   530.38574 ,   489.4925  ,   600.65283 ,\n",
              "          141.36366 ,   248.79712 ,   287.2761  ,   444.8828  ,\n",
              "          591.02875 ,   491.62485 ,   372.6469  ,   381.90134 ,\n",
              "          405.07498 ,   526.8206  ,   641.26843 ,   836.17725 ,\n",
              "          838.8047  ,   621.18164 ,   311.89246 ,   224.27403 ,\n",
              "          213.93933 ,   268.68365 ,   282.66943 ,   370.6427  ,\n",
              "          420.1059  ,   618.4568  ,   648.54956 ,   544.21204 ,\n",
              "          378.43756 ,   219.84804 ,   290.56918 ,   342.0757  ,\n",
              "          501.06012 ,   621.773   ,   683.944   ,   815.5035  ,\n",
              "          500.7242  ,   357.92953 ,   174.56886 ,   336.56668 ,\n",
              "          414.13254 ,   503.44946 ,   630.7244  ,   782.23584 ,\n",
              "         1101.887   ,  1006.6379  ,   884.86456 ,   445.23416 ,\n",
              "          218.96173 ,   306.998   ,   315.43042 ,   342.08237 ,\n",
              "          418.61636 ,   582.5272  ,   659.4246  ,  1453.6633  ,\n",
              "         2119.7888  ,  2596.7832  ,  2412.805   ,  2374.3435  ,\n",
              "         2508.934   ,  2529.2212  ,  1165.5671  ,   734.5883  ,\n",
              "          572.804   ,   530.30316 ,   662.6687  ,   639.8846  ,\n",
              "          418.3445  ,   271.2194  ,   412.26892 ,   346.57852 ,\n",
              "          375.6292  ,   370.6755  ,   355.84924 ,   327.0141  ,\n",
              "          332.92642 ,   390.04245 ,   562.9565  ,   834.64996 ,\n",
              "          739.3643  ,   596.82935 ,   650.8332  ,   477.28265 ,\n",
              "          403.3695  ,   182.38664 ,   277.93155 ,   334.97592 ,\n",
              "          459.69632 ,   400.7778  ,   515.87054 ,   207.45331 ,\n",
              "          231.91493 ,   242.51535 ,   229.3431  ,   275.1082  ,\n",
              "          420.06665 ,   281.0068  ,   274.99387 ,   252.17264 ,\n",
              "          321.2524  ,   316.60294 ,   577.44934 ,   910.1062  ,\n",
              "          808.63715 ,   862.667   ,  1001.36456 ,  1013.9164  ,\n",
              "          990.64453 ,  1115.1758  ,   443.2509  ,   430.83774 ,\n",
              "          434.50543 ,   434.4847  ,   418.77673 ,   487.2421  ,\n",
              "          563.88354 ,   577.80927 ,   852.9666  ,   909.61633 ,\n",
              "          885.4221  ,   342.88773 ,   544.1597  ,   667.65826 ,\n",
              "          407.71335 ,   206.76561 ,   253.86241 ,   281.15887 ,\n",
              "          413.8203  ,   539.8218  ,   709.9638  ,   676.1695  ,\n",
              "          370.50586 ,   363.7373  ,   407.0129  ,   412.0492  ,\n",
              "          668.98883 ,   724.81415 ,   698.9904  ,   508.14484 ,\n",
              "          436.28482 ,   283.8196  ,   293.97522 ,   665.1206  ,\n",
              "          258.29623 ,   145.22046 ,   234.15454 ,   162.14397 ,\n",
              "          237.56964 ,   253.0367  ,   360.57108 ,   496.94504 ,\n",
              "          568.2846  ,   260.89908 ,   257.7084  ,   286.32077 ,\n",
              "          234.58382 ,   207.86862 ,   189.7643  ,   253.31506 ,\n",
              "          150.66087 ,   193.07657 ,   274.31995 ,   251.67616 ,\n",
              "          457.2211  ,   441.56982 ,   401.33255 ,   331.09555 ,\n",
              "          229.4286  ,    94.57725 ,    94.09779 ,   163.2154  ,\n",
              "          126.115715,   218.89809 ,    72.10262 ,   155.05154 ,\n",
              "          123.698814,   156.2741  ,   135.91597 ,   127.70519 ,\n",
              "          264.14938 ,   194.6878  ,   214.07964 ,   201.33919 ,\n",
              "          179.31133 ,   204.3927  ,   175.94609 ,   145.02776 ,\n",
              "          172.74529 ,   197.42899 ,   263.57925 ,   316.31586 ,\n",
              "          795.53406 ,   919.10254 ,  1057.0912  ,  1083.3286  ,\n",
              "         1226.7578  ,  1374.4562  ,  1253.1279  ,   482.33698 ,\n",
              "          317.72104 ,   286.46567 ,   273.08603 ,   271.00226 ,\n",
              "          547.01953 ,   135.28223 ,   228.95004 ,   215.92302 ,\n",
              "          168.14261 ,   330.47665 ,   225.2769  ,   393.65845 ,\n",
              "          315.08234 ,   351.4844  ,   312.00363 ,   335.47687 ,\n",
              "          245.18747 ,   164.7645  ,   293.79498 ,   225.92993 ,\n",
              "          526.0732  ,   433.24545 ,   337.2736  ,   354.44482 ,\n",
              "          332.09167 ,   293.88397 ,   286.791   ,   313.24384 ,\n",
              "          285.66995 ,   172.44087 ,   388.74448 ,   517.90936 ,\n",
              "          833.93744 ,  1090.883   ,  1248.954   ,  1574.5986  ,\n",
              "         1519.1519  ,   901.4197  ,   573.45154 ,   176.33086 ,\n",
              "          174.2174  ,   271.156   ,   464.5826  ,   366.10596 ,\n",
              "          371.53622 ,   334.45428 ,   347.30408 ,   386.31955 ,\n",
              "          203.0604  ,   176.99199 ,   454.18762 ,   520.07684 ,\n",
              "          488.80078 ,   548.2688  ,   365.2176  ,   166.27711 ,\n",
              "          197.0517  ,   357.56946 ,   126.679955,   182.72519 ,\n",
              "          285.25345 ,   339.64304 ,   366.64746 ,   348.55515 ,\n",
              "          255.53143 ,   210.37935 ,   234.69873 ,   415.9554  ,\n",
              "          413.78033 ,   550.9833  ,   651.015   ,   650.2586  ,\n",
              "          583.3669  ,   394.64334 ,   168.62105 ,   158.19337 ,\n",
              "          403.23453 ,   340.13126 ,   606.7921  ,   811.992   ,\n",
              "         1023.28296 ,  1183.3573  ,  1342.5525  ,  1191.2675  ,\n",
              "         1183.0774  ,   366.92432 ,   337.4311  ,   207.26782 ,\n",
              "          333.5976  ,   299.59177 ,   307.2019  ,   236.16075 ,\n",
              "          310.05487 ,   774.7085  ,  1076.5756  ,   959.8529  ,\n",
              "         1125.5408  ,  1247.4281  ,  1192.809   ,  1135.655   ,\n",
              "          531.76306 ,   570.4225  ,   554.9312  ,   386.32346 ,\n",
              "          744.4211  ,  1090.5934  ,  1217.1383  ,  1147.1354  ,\n",
              "         1235.5796  ,  1581.814   ,  1927.251   ,  1551.5055  ,\n",
              "          987.79315 ,   600.5978  ,   605.5672  ,   909.3144  ,\n",
              "         1225.0989  ,  1205.9142  ,  1215.2671  ,  1365.9595  ,\n",
              "         1261.4454  ,  1055.1449  ,  1804.3235  ,  1612.9318  ,\n",
              "         1049.7999  ,   278.96558 ,   368.5891  ,   681.3487  ,\n",
              "         1023.19824 ,   693.42706 ,   798.9843  ,   737.71533 ,\n",
              "          819.94775 ,   642.00287 ,  1422.951   ,  2198.1895  ,\n",
              "         2925.554   ,  3277.522   ,  3388.7852  ,  3476.7556  ,\n",
              "         3358.5093  ,  2223.2249  ,   783.376   ,   484.84003 ,\n",
              "         1255.477   ,  1382.948   ,  1778.4697  ,  2284.612   ,\n",
              "         3101.948   ,  3411.5918  ,  3321.1843  ,  3088.81    ,\n",
              "         3367.146   ,  3371.115   ,  3896.4382  ,  3784.966   ,\n",
              "         5019.512   ,  6113.8037  ,  5553.5635  ,  5061.9478  ,\n",
              "         5528.9976  ,  4386.3384  ,  3027.255   ,  2873.1233  ,\n",
              "         4109.308   ,  4983.223   ,  4910.7236  ,  1241.3801  ,\n",
              "         1426.7883  ,   865.2126  ,  3061.1753  ,  3559.5654  ,\n",
              "         3063.0652  ,  3408.6697  ,  3763.1248  ,  4205.1523  ,\n",
              "         4275.2437  ,  1397.0963  ,  1582.3912  ,  2204.769   ,\n",
              "         2440.0564  ,  2115.248   ,  2346.889   ,  3685.8716  ,\n",
              "         4156.5693  ,  3075.0352  ,  2394.7253  ,  3128.463   ,\n",
              "         4888.7485  ,  5735.1787  ,  5730.565   ,  6767.4062  ,\n",
              "         7459.151   ,  6582.7485  ,  8136.401   ,  4709.6953  ,\n",
              "         2055.875   ,  2070.1975  ,  1882.9202  ,  3385.4019  ,\n",
              "         3699.2585  ,  4246.9795  ,  4557.023   ,  3521.2915  ,\n",
              "         3058.9358  ,  3583.8918  ,  6265.013   ,  7108.6147  ,\n",
              "        10560.795   ,  9769.079   ,  4448.85    ,  3549.8003  ,\n",
              "         1797.2981  ,  2415.8035  ,  3207.9514  ,  5550.152   ,\n",
              "         2408.5347  ,  4231.0474  ,  3417.5872  ,  4497.8574  ,\n",
              "         4844.381   ,  6602.987   ,  7324.011   ,  6574.3145  ,\n",
              "         4297.136   ,  2801.7615  ,  1927.9995  ,  1855.6299  ,\n",
              "         2179.745   ,  3494.6282  ,  2359.797   ,  2746.7979  ,\n",
              "         4137.7124  ,  5179.3223  ,  5310.355   ,  5256.1934  ,\n",
              "         5560.069   ,  2436.8     ,  2398.2493  ,  3342.8638  ,\n",
              "         4890.381   ,  3703.3079  ,  3023.4277  ,  2885.117   ,\n",
              "         2047.7704  ,   785.3757  ,   934.697   ,  1127.5103  ,\n",
              "         1613.1875  ,  1327.991   ,  1412.2786  ,  1288.9866  ,\n",
              "         2009.3278  ,  2839.6882  ,  3817.445   ,  3549.3833  ,\n",
              "         2607.023   ,  2620.4617  ,  3242.8494  ,  5410.33    ,\n",
              "         6756.658   ,  8518.5     ,  9031.867   ,  8666.53    ,\n",
              "         6442.053   ,  4906.777   ,  4626.7954  ,  3291.4604  ,\n",
              "         2158.218   ,  3403.3606  ,  4659.069   ,  6214.7773  ,\n",
              "         3687.165   ,  2194.5876  ,  1904.6305  ,  2083.9182  ,\n",
              "         1992.9259  ,  2266.1611  ,  1417.4866  ,  1865.6509  ,\n",
              "         2030.8655  ,  1754.3776  ,  3479.1343  ,  4501.4136  ,\n",
              "         7189.911   ,  8314.492   ,  9726.723   ], dtype=float32),\n",
              " 'mape': array([ 8.316502  ,  4.89687   ,  4.1752863 ,  5.295204  ,  4.413374  ,\n",
              "         5.292448  ,  5.154294  ,  7.3556848 ,  6.904863  ,  6.2084045 ,\n",
              "         9.642651  , 10.211539  , 11.61224   , 10.975043  ,  7.8101797 ,\n",
              "         4.1849427 ,  2.4094815 ,  3.663608  ,  3.600359  ,  4.3726563 ,\n",
              "         2.3457873 ,  2.0247114 ,  4.000724  ,  4.1950526 ,  2.4417067 ,\n",
              "         0.90791416,  1.4916935 ,  1.2829872 ,  1.7966343 ,  1.4788525 ,\n",
              "         3.9311044 ,  4.2672324 ,  3.2537692 ,  4.775122  ,  3.4566216 ,\n",
              "         3.5542932 ,  4.417978  ,  3.1501305 ,  3.1298063 ,  3.7273076 ,\n",
              "         6.4849744 ,  1.7933534 ,  1.3941997 ,  0.9455553 ,  1.5065957 ,\n",
              "         1.1953356 ,  1.9573631 ,  1.2085444 ,  2.0320995 ,  2.4244313 ,\n",
              "         2.0525143 ,  1.6475406 ,  2.516907  ,  2.5023694 ,  2.9364843 ,\n",
              "         4.1844583 ,  6.4249573 ,  5.8875875 ,  6.467835  ,  6.094156  ,\n",
              "         4.3652625 ,  2.7880685 ,  3.3894756 ,  4.7201896 ,  4.586057  ,\n",
              "         5.476994  ,  5.141065  ,  6.6252275 ,  1.2527245 ,  2.5461364 ,\n",
              "         2.8643517 ,  4.730034  ,  6.640275  ,  5.334636  ,  3.653517  ,\n",
              "         4.0470114 ,  4.2612176 ,  4.3766627 ,  6.0651603 ,  7.9724536 ,\n",
              "         8.713432  ,  6.3009715 ,  3.0383496 ,  2.0354986 ,  1.9214783 ,\n",
              "         2.4270654 ,  2.441343  ,  3.065837  ,  4.0304265 ,  5.644095  ,\n",
              "         5.6545463 ,  4.60679   ,  3.2160525 ,  1.8707424 ,  2.4733787 ,\n",
              "         2.9250805 ,  3.6299684 ,  5.6318164 ,  6.20229   ,  8.162371  ,\n",
              "         4.6736884 ,  3.196951  ,  1.3807969 ,  3.2643118 ,  3.218019  ,\n",
              "         4.1918774 ,  5.7178164 ,  7.433591  , 11.700914  , 10.904903  ,\n",
              "        10.00387   ,  4.709961  ,  2.0213547 ,  3.050312  ,  3.0400114 ,\n",
              "         3.4449718 ,  3.851425  ,  5.811665  ,  7.3884926 , 15.427539  ,\n",
              "        26.844172  , 37.11705   , 35.345417  , 37.790337  , 43.205257  ,\n",
              "        46.766834  , 20.714787  , 12.187217  ,  9.377031  ,  7.298101  ,\n",
              "         9.256493  ,  9.023794  ,  5.4706087 ,  3.6308906 ,  5.5275383 ,\n",
              "         4.312397  ,  5.2345376 ,  4.9589744 ,  4.3543706 ,  3.9056594 ,\n",
              "         4.068836  ,  4.9495277 ,  7.681306  , 12.205015  , 10.008487  ,\n",
              "         8.212445  ,  8.044631  ,  6.4500885 ,  4.697657  ,  2.3512273 ,\n",
              "         3.046501  ,  4.0557475 ,  5.8178735 ,  5.371579  ,  6.8210783 ,\n",
              "         2.726346  ,  2.7023494 ,  3.011325  ,  3.0018206 ,  3.651297  ,\n",
              "         5.317211  ,  3.1656675 ,  3.038756  ,  3.0279057 ,  3.7598014 ,\n",
              "         3.6167285 ,  6.866998  ,  9.762599  ,  6.7138896 ,  7.365506  ,\n",
              "         9.514534  ,  9.731956  , 10.405122  , 12.478698  ,  4.3287373 ,\n",
              "         2.6755764 ,  3.3229485 ,  3.5037796 ,  3.8936276 ,  4.9404078 ,\n",
              "         5.396839  ,  5.3120513 ,  7.5078077 ,  8.959084  ,  8.976519  ,\n",
              "         2.9048097 ,  5.1048193 ,  6.547524  ,  3.957126  ,  1.923475  ,\n",
              "         2.3194957 ,  2.7892282 ,  3.6802642 ,  5.2323213 ,  7.2013364 ,\n",
              "         6.9927707 ,  3.2921233 ,  2.853408  ,  3.646163  ,  4.0831676 ,\n",
              "         5.6145625 ,  6.7425194 ,  6.280247  ,  4.8476057 ,  3.1971734 ,\n",
              "         2.3388135 ,  2.0941188 ,  6.7575493 ,  2.1723485 ,  1.2337676 ,\n",
              "         1.9572285 ,  1.16112   ,  2.1498864 ,  2.2603405 ,  3.3767145 ,\n",
              "         4.8956895 ,  5.93321   ,  2.304807  ,  2.5293355 ,  2.5669646 ,\n",
              "         2.1767042 ,  1.7738779 ,  1.8517723 ,  2.3496568 ,  1.2473042 ,\n",
              "         1.5677688 ,  2.5920098 ,  2.3187551 ,  4.5512495 ,  4.6013618 ,\n",
              "         4.147459  ,  3.5414126 ,  2.2851472 ,  0.8906437 ,  0.83546096,\n",
              "         1.6148832 ,  1.1526695 ,  1.9814944 ,  0.6780417 ,  1.5471592 ,\n",
              "         1.0699117 ,  1.3525369 ,  1.262315  ,  1.1067613 ,  2.8041806 ,\n",
              "         1.9864086 ,  2.1361485 ,  1.9136028 ,  1.6892871 ,  2.1017523 ,\n",
              "         1.7884929 ,  1.3564949 ,  1.6498734 ,  1.8300427 ,  2.2818582 ,\n",
              "         2.7675276 ,  5.178255  ,  6.1131153 ,  6.8746634 ,  7.930178  ,\n",
              "         9.542843  , 11.198575  , 10.924511  ,  3.554761  ,  2.0236385 ,\n",
              "         2.3114254 ,  1.943372  ,  2.043782  ,  4.0109057 ,  0.96078   ,\n",
              "         1.6155766 ,  1.4942356 ,  0.9670562 ,  2.4809692 ,  1.3181069 ,\n",
              "         3.1044135 ,  2.4316084 ,  2.7003362 ,  2.118592  ,  2.4868543 ,\n",
              "         1.761203  ,  0.9723994 ,  2.0972393 ,  1.4414732 ,  4.2333426 ,\n",
              "         3.6251817 ,  2.240991  ,  2.8416107 ,  2.3464327 ,  2.1518435 ,\n",
              "         2.008834  ,  2.6211193 ,  2.0146792 ,  1.2389095 ,  2.7393363 ,\n",
              "         3.6239974 ,  6.153649  ,  8.429178  , 10.606239  , 14.505455  ,\n",
              "        14.519498  ,  8.599789  ,  5.2782516 ,  1.121974  ,  1.5499905 ,\n",
              "         1.9952506 ,  3.8944967 ,  2.7745013 ,  2.7272797 ,  2.792593  ,\n",
              "         2.985977  ,  3.369358  ,  1.5106114 ,  1.4115967 ,  3.6368165 ,\n",
              "         4.2243233 ,  4.0177794 ,  4.9125624 ,  3.1494875 ,  1.2923615 ,\n",
              "         1.5266416 ,  3.2302957 ,  1.0567564 ,  1.280815  ,  2.1621475 ,\n",
              "         2.6891372 ,  3.1022754 ,  3.1260517 ,  2.2962446 ,  1.8286483 ,\n",
              "         1.7802887 ,  2.6414456 ,  2.6579669 ,  4.0268064 ,  5.0369186 ,\n",
              "         5.2251096 ,  4.8090706 ,  3.1233828 ,  1.2470145 ,  1.0070394 ,\n",
              "         3.218431  ,  2.7423751 ,  3.088929  ,  4.7056503 ,  6.0047474 ,\n",
              "         7.786764  ,  9.42265   ,  8.510327  ,  8.72011   ,  2.1033735 ,\n",
              "         2.3594165 ,  1.462313  ,  2.1143155 ,  1.8223795 ,  1.7768445 ,\n",
              "         1.3238617 ,  1.4836056 ,  3.191824  ,  4.6365404 ,  4.8542566 ,\n",
              "         6.0871415 ,  7.315343  ,  7.0185237 ,  7.062729  ,  2.6748693 ,\n",
              "         3.0877857 ,  2.7643936 ,  2.1372824 ,  3.5666976 ,  5.3245473 ,\n",
              "         5.36129   ,  4.807759  ,  6.2711744 ,  7.8505    ,  9.879526  ,\n",
              "         8.189301  ,  4.7868657 ,  3.0065966 ,  2.9907    ,  3.2133422 ,\n",
              "         5.554699  ,  5.6135817 ,  5.569156  ,  6.2768407 ,  5.9341884 ,\n",
              "         4.846599  ,  8.88085   ,  8.108158  ,  5.307988  ,  1.3036563 ,\n",
              "         1.5065355 ,  2.9241383 ,  5.0233397 ,  3.0079842 ,  3.6991537 ,\n",
              "         3.251681  ,  4.0675874 ,  3.1422958 ,  4.764967  ,  7.949294  ,\n",
              "        10.798298  , 11.850101  , 12.744267  , 13.945932  , 14.153557  ,\n",
              "         9.399559  ,  2.8905463 ,  1.5939441 ,  4.525307  ,  4.652196  ,\n",
              "         5.250106  ,  7.254769  ,  9.866181  , 10.882385  , 10.8173065 ,\n",
              "         8.101669  ,  8.539508  ,  9.296948  , 10.441853  ,  8.640814  ,\n",
              "        11.020669  , 13.860475  , 11.593964  , 11.68662   , 12.9383    ,\n",
              "         9.339834  ,  7.450761  ,  5.883091  ,  9.839819  , 13.300872  ,\n",
              "        13.198598  ,  3.18976   ,  2.8441765 ,  1.8176867 ,  7.418423  ,\n",
              "         8.36318   ,  7.490158  ,  8.145804  , 10.325738  , 12.448831  ,\n",
              "        13.042434  ,  3.4279387 ,  3.818176  ,  5.3242197 ,  5.834776  ,\n",
              "         5.273711  ,  5.875023  ,  9.247334  , 10.430492  ,  7.1769586 ,\n",
              "         6.028869  ,  7.255391  , 10.067588  , 10.483291  ,  9.646626  ,\n",
              "        12.386725  , 14.506456  , 13.283791  , 17.014889  ,  9.484254  ,\n",
              "         3.9020736 ,  3.3532739 ,  2.8484771 ,  4.957144  ,  5.3467607 ,\n",
              "         5.897745  ,  7.3906555 ,  5.456232  ,  5.0263276 ,  6.578983  ,\n",
              "        10.940705  , 12.987478  , 21.476923  , 20.263252  ,  8.350644  ,\n",
              "         6.945146  ,  3.2513154 ,  4.19706   ,  6.282531  , 10.854632  ,\n",
              "         4.392809  ,  6.8116136 ,  5.1797094 ,  6.606677  ,  7.348984  ,\n",
              "         9.913956  , 11.502627  , 10.5377    ,  6.8496985 ,  3.3908935 ,\n",
              "         2.6845868 ,  2.5869405 ,  3.189065  ,  5.8267884 ,  3.187636  ,\n",
              "         3.5324316 ,  5.902919  ,  8.499791  ,  8.455522  ,  9.124989  ,\n",
              "        10.064387  ,  3.9990802 ,  3.5414658 ,  5.0346937 ,  8.106536  ,\n",
              "         5.8715377 ,  4.7147727 ,  4.6268754 ,  3.1510487 ,  1.0555396 ,\n",
              "         1.2898033 ,  1.3354493 ,  2.4464486 ,  1.649176  ,  1.9442827 ,\n",
              "         1.9610345 ,  2.3977237 ,  3.477912  ,  5.1904807 ,  5.184382  ,\n",
              "         3.3181732 ,  3.736065  ,  4.779337  ,  7.6695123 , 10.338993  ,\n",
              "        14.086455  , 15.734938  , 15.661919  , 11.388966  ,  8.229966  ,\n",
              "         7.9522214 ,  5.182057  ,  3.6322765 ,  5.4618044 ,  7.7259245 ,\n",
              "        10.795407  ,  6.0834203 ,  3.141806  ,  3.1871297 ,  3.3728812 ,\n",
              "         2.5276349 ,  3.5224025 ,  2.0160642 ,  1.8331479 ,  3.2306738 ,\n",
              "         2.4889727 ,  5.459803  ,  6.541758  , 12.09406   , 14.5741625 ,\n",
              "        18.181442  ], dtype=float32),\n",
              " 'mase': 2.1924045}"
            ]
          },
          "metadata": {},
          "execution_count": 84
        }
      ]
    },
    {
      "cell_type": "markdown",
      "source": [
        "## Make our evaluation function work for large horizons\n"
      ],
      "metadata": {
        "id": "sdFatKeyYIRk"
      }
    },
    {
      "cell_type": "code",
      "source": [
        "model_3_results[\"mae\"].ndim"
      ],
      "metadata": {
        "colab": {
          "base_uri": "https://localhost:8080/"
        },
        "id": "gzP2ovDgYpsA",
        "outputId": "f54d5d85-1d34-4238-f659-2bf27972afd7"
      },
      "execution_count": null,
      "outputs": [
        {
          "output_type": "execute_result",
          "data": {
            "text/plain": [
              "1"
            ]
          },
          "metadata": {},
          "execution_count": 89
        }
      ]
    },
    {
      "cell_type": "code",
      "source": [
        "model_2_results[\"mae\"].ndim"
      ],
      "metadata": {
        "colab": {
          "base_uri": "https://localhost:8080/"
        },
        "id": "FXOfNYTYYs1f",
        "outputId": "ce93a5d3-be50-4dd8-9b58-0072c14e64ec"
      },
      "execution_count": null,
      "outputs": [
        {
          "output_type": "execute_result",
          "data": {
            "text/plain": [
              "0"
            ]
          },
          "metadata": {},
          "execution_count": 88
        }
      ]
    },
    {
      "cell_type": "code",
      "source": [
        "tf.reduce_mean(model_3_results[\"mae\"]).numpy()"
      ],
      "metadata": {
        "colab": {
          "base_uri": "https://localhost:8080/"
        },
        "id": "Kl1YCOAmZIwp",
        "outputId": "658f7533-56ed-4c87-f0be-303228684336"
      },
      "execution_count": null,
      "outputs": [
        {
          "output_type": "execute_result",
          "data": {
            "text/plain": [
              "1232.0726"
            ]
          },
          "metadata": {},
          "execution_count": 90
        }
      ]
    },
    {
      "cell_type": "code",
      "source": [
        "model_3.evaluate(test_windows, test_labels)"
      ],
      "metadata": {
        "colab": {
          "base_uri": "https://localhost:8080/"
        },
        "id": "UKarfJqJZYPp",
        "outputId": "07c5817c-6200-4a26-96e5-86c42c4a09ec"
      },
      "execution_count": null,
      "outputs": [
        {
          "output_type": "stream",
          "name": "stdout",
          "text": [
            "18/18 [==============================] - 0s 4ms/step - loss: 1232.0728\n"
          ]
        },
        {
          "output_type": "execute_result",
          "data": {
            "text/plain": [
              "1232.07275390625"
            ]
          },
          "metadata": {},
          "execution_count": 91
        }
      ]
    },
    {
      "cell_type": "code",
      "source": [
        "# Create a function to take in model predictions and truth values and return evaluation metrics\n",
        "def evaluate_preds(y_true, y_pred):\n",
        "  # Make sure float32 datatype (for metric calculations)\n",
        "  y_true = tf.cast(y_true, dtype=tf.float32)\n",
        "  y_pred = tf.cast(y_pred, dtype=tf.float32)\n",
        "\n",
        "  # Calculate various evaluation metrics\n",
        "  mae = tf.keras.metrics.mean_absolute_error(y_true, y_pred)\n",
        "  mse = tf.keras.metrics.mean_squared_error(y_true, y_pred)\n",
        "  rmse = tf.sqrt(mse)\n",
        "  mape = tf.keras.metrics.mean_absolute_percentage_error(y_true, y_pred)\n",
        "  mase = mean_absolute_scaled_error(y_true, y_pred)\n",
        "\n",
        "  # Account for different sized metrics (for longer horizons, we want to reduce metrics to a single value)\n",
        "  if mae.ndim > 0:\n",
        "    mae = tf.reduce_mean(mae)\n",
        "    mse = tf.reduce_mean(mse)\n",
        "    rmse = tf.reduce_mean(rmse)\n",
        "    mape = tf.reduce_mean(mape)\n",
        "    mase = tf.reduce_mean(mase)\n",
        "\n",
        "  return {\"mae\": mae.numpy(),\n",
        "          \"mse\": mse.numpy(),\n",
        "          \"rmse\": rmse.numpy(),\n",
        "          \"mape\": mape.numpy(),\n",
        "          \"mase\": mase.numpy()}"
      ],
      "metadata": {
        "id": "889qp14LYcxd"
      },
      "execution_count": null,
      "outputs": []
    },
    {
      "cell_type": "code",
      "source": [
        "# get model_3 results aggregated to single values\n",
        "model_3_results = evaluate_preds(y_true=tf.squeeze(test_labels),\n",
        "                                 y_pred=model_3_preds)\n",
        "model_3_results"
      ],
      "metadata": {
        "colab": {
          "base_uri": "https://localhost:8080/"
        },
        "id": "ecEgpTrzZ0FC",
        "outputId": "83f34203-f5c1-4fa5-f1b4-b8f6ebeee9c5"
      },
      "execution_count": null,
      "outputs": [
        {
          "output_type": "execute_result",
          "data": {
            "text/plain": [
              "{'mae': 1232.0726,\n",
              " 'mse': 5329757.0,\n",
              " 'rmse': 1418.7268,\n",
              " 'mape': 5.520617,\n",
              " 'mase': 2.1924045}"
            ]
          },
          "metadata": {},
          "execution_count": 95
        }
      ]
    },
    {
      "cell_type": "code",
      "source": [
        "model_1_results, model_2_results, naive_results"
      ],
      "metadata": {
        "colab": {
          "base_uri": "https://localhost:8080/"
        },
        "id": "dfSt075UaFxW",
        "outputId": "c6cd946b-7fc8-4dc8-fdd8-222468911701"
      },
      "execution_count": null,
      "outputs": [
        {
          "output_type": "execute_result",
          "data": {
            "text/plain": [
              "({'mae': 567.2946,\n",
              "  'mse': 1161823.4,\n",
              "  'rmse': 1077.8792,\n",
              "  'mape': 2.5508199,\n",
              "  'mase': 0.9965795},\n",
              " {'mae': 605.70886,\n",
              "  'mse': 1259161.5,\n",
              "  'rmse': 1122.1237,\n",
              "  'mape': 2.7331836,\n",
              "  'mase': 1.0587851},\n",
              " {'mae': 567.9802,\n",
              "  'mse': 1147547.0,\n",
              "  'rmse': 1071.2362,\n",
              "  'mape': 2.516525,\n",
              "  'mase': 0.99957})"
            ]
          },
          "metadata": {},
          "execution_count": 96
        }
      ]
    },
    {
      "cell_type": "markdown",
      "source": [
        "We've made and evaluated predictions with `model_3`, let's visualize, visualize, visualize!"
      ],
      "metadata": {
        "id": "XGX-m6HraPZj"
      }
    },
    {
      "cell_type": "code",
      "source": [
        "test_labels[:]"
      ],
      "metadata": {
        "colab": {
          "base_uri": "https://localhost:8080/"
        },
        "id": "Qat8cm2tcXwr",
        "outputId": "91fc3a23-e1dc-4391-8d8a-75305a355aad"
      },
      "execution_count": null,
      "outputs": [
        {
          "output_type": "execute_result",
          "data": {
            "text/plain": [
              "array([[ 8794.35864452,  8798.04205463,  9081.18687849, ...,\n",
              "         8760.89271814,  8749.52059102,  8656.97092235],\n",
              "       [ 8798.04205463,  9081.18687849,  8711.53433917, ...,\n",
              "         8749.52059102,  8656.97092235,  8500.64355816],\n",
              "       [ 9081.18687849,  8711.53433917,  8760.89271814, ...,\n",
              "         8656.97092235,  8500.64355816,  8469.2608989 ],\n",
              "       ...,\n",
              "       [58102.19142623, 55715.54665129, 56573.5554719 , ...,\n",
              "        49764.1320816 , 50032.69313676, 47885.62525472],\n",
              "       [55715.54665129, 56573.5554719 , 52147.82118698, ...,\n",
              "        50032.69313676, 47885.62525472, 45604.61575361],\n",
              "       [56573.5554719 , 52147.82118698, 49764.1320816 , ...,\n",
              "        47885.62525472, 45604.61575361, 43144.47129086]])"
            ]
          },
          "metadata": {},
          "execution_count": 102
        }
      ]
    },
    {
      "cell_type": "code",
      "source": [
        "offset = 300\n",
        "plt.figure(figsize=(10, 7))\n",
        "plot_time_series(timesteps=X_test[-len(test_windows):], values=test_labels[:, 0], format=\"-\", start=offset, label=\"Test data\")\n",
        "plot_time_series(timesteps=X_test[-len(test_windows):], values=model_3_preds, start=offset, label=\"model_3_preds\")"
      ],
      "metadata": {
        "colab": {
          "base_uri": "https://localhost:8080/",
          "height": 619
        },
        "id": "l7-9c8iIa0c_",
        "outputId": "0913ca09-b3d6-41e8-e4d9-9e8031cb09a5"
      },
      "execution_count": null,
      "outputs": [
        {
          "output_type": "display_data",
          "data": {
            "text/plain": [
              "<Figure size 1000x700 with 1 Axes>"
            ],
            "image/png": "[encoded data removed]"
          },
          "metadata": {}
        }
      ]
    },
    {
      "cell_type": "code",
      "source": [
        "model_3_preds[0]"
      ],
      "metadata": {
        "colab": {
          "base_uri": "https://localhost:8080/"
        },
        "id": "PwWKpsmBdfag",
        "outputId": "6a3533b6-6547-4cba-8434-2981b10fed09"
      },
      "execution_count": null,
      "outputs": [
        {
          "output_type": "execute_result",
          "data": {
            "text/plain": [
              "<tf.Tensor: shape=(7,), dtype=float32, numpy=\n",
              "array([9572.965, 9434.431, 9514.936, 9373.114, 9571.92 , 9721.33 ,\n",
              "       9470.183], dtype=float32)>"
            ]
          },
          "metadata": {},
          "execution_count": 107
        }
      ]
    },
    {
      "cell_type": "code",
      "source": [
        "tf.reduce_mean(model_3_preds[0])"
      ],
      "metadata": {
        "colab": {
          "base_uri": "https://localhost:8080/"
        },
        "id": "Pykoj2_tdlBc",
        "outputId": "15571703-b12d-4df6-8c05-c688f7e267f8"
      },
      "execution_count": null,
      "outputs": [
        {
          "output_type": "execute_result",
          "data": {
            "text/plain": [
              "<tf.Tensor: shape=(), dtype=float32, numpy=9522.696>"
            ]
          },
          "metadata": {},
          "execution_count": 108
        }
      ]
    },
    {
      "cell_type": "code",
      "source": [
        "offset = 300\n",
        "plt.figure(figsize=(10, 7))\n",
        "plot_time_series(timesteps=X_test[-len(test_windows):], values=test_labels[:, 0], start=offset, label=\"Test data\")\n",
        "plot_time_series(timesteps=X_test[-len(test_windows):],\n",
        "                 values=tf.reduce_mean(model_3_preds, axis=1),\n",
        "                 format=\"-\",\n",
        "                 start=offset,\n",
        "                 label=\"model_3_preds\")"
      ],
      "metadata": {
        "colab": {
          "base_uri": "https://localhost:8080/",
          "height": 619
        },
        "id": "no_H_FF3cz4G",
        "outputId": "5b5df6ea-3774-4b64-97c5-fdd40236fd51"
      },
      "execution_count": null,
      "outputs": [
        {
          "output_type": "display_data",
          "data": {
            "text/plain": [
              "<Figure size 1000x700 with 1 Axes>"
            ],
            "image/png": "[encoded data removed]"
          },
          "metadata": {}
        }
      ]
    },
    {
      "cell_type": "markdown",
      "source": [
        "## Which of our models is performing the best so far?\n",
        "\n",
        "So we've trained a few models, now let's compare them and see how they've gone..."
      ],
      "metadata": {
        "id": "ZgbDnG0MeCO4"
      }
    },
    {
      "cell_type": "code",
      "source": [
        "pd.DataFrame({\"naive\": naive_results[\"mae\"],\n",
        "              \"horizon_1_window_7\": model_1_results[\"mae\"],\n",
        "              \"horizon_1_window_30\": model_2_results[\"mae\"],\n",
        "              \"horizon_7_window_30\": model_3_results[\"mae\"]}, index=[\"mae\"]).plot(figsize=(10, 7), kind=\"bar\")"
      ],
      "metadata": {
        "colab": {
          "base_uri": "https://localhost:8080/",
          "height": 633
        },
        "id": "L2D8WCKveNyG",
        "outputId": "f97e4bf1-ccae-468e-cf6f-e044a679b9dd"
      },
      "execution_count": null,
      "outputs": [
        {
          "output_type": "execute_result",
          "data": {
            "text/plain": [
              "<Axes: >"
            ]
          },
          "metadata": {},
          "execution_count": 109
        },
        {
          "output_type": "display_data",
          "data": {
            "text/plain": [
              "<Figure size 1000x700 with 1 Axes>"
            ],
            "image/png": "[encoded data removed]"
          },
          "metadata": {}
        }
      ]
    },
    {
      "cell_type": "markdown",
      "source": [
        "## Model 4: Conv1D\n",
        "\n"
      ],
      "metadata": {
        "id": "FSE_q4hAh8we"
      }
    },
    {
      "cell_type": "code",
      "source": [
        "HORIZON = 1 # predict next day of Bitcoin prices\n",
        "WINDOW_SIZE = 7 # use previous week worth data"
      ],
      "metadata": {
        "id": "Y8k-bgV_icM2"
      },
      "execution_count": null,
      "outputs": []
    },
    {
      "cell_type": "code",
      "source": [
        "# Create windowed data\n",
        "full_windows, full_labels = make_windows(prices, window_size=WINDOW_SIZE, horizon=HORIZON)\n",
        "len(full_windows), len(full_labels)"
      ],
      "metadata": {
        "colab": {
          "base_uri": "https://localhost:8080/"
        },
        "id": "5b4tCpb3ilVa",
        "outputId": "cdaa30e6-4163-4fd1-b06e-1cfb9b8c10dd"
      },
      "execution_count": null,
      "outputs": [
        {
          "output_type": "execute_result",
          "data": {
            "text/plain": [
              "(2780, 2780)"
            ]
          },
          "metadata": {},
          "execution_count": 111
        }
      ]
    },
    {
      "cell_type": "code",
      "source": [
        "# Create train/test sets\n",
        "train_windows, test_windows, train_labels, test_labels = make_train_test_splits(full_windows, full_labels)\n",
        "len(train_windows), len(train_labels), len(test_windows), len(test_labels)"
      ],
      "metadata": {
        "colab": {
          "base_uri": "https://localhost:8080/"
        },
        "id": "Q3gpkJP4i6sf",
        "outputId": "fa607c77-0643-41f4-8c28-f18a02574a50"
      },
      "execution_count": null,
      "outputs": [
        {
          "output_type": "execute_result",
          "data": {
            "text/plain": [
              "(2224, 2224, 556, 556)"
            ]
          },
          "metadata": {},
          "execution_count": 114
        }
      ]
    },
    {
      "cell_type": "markdown",
      "source": [
        "To use the Conv1D layer, We need an input shape of: `(batch_size, timesteps, input_dim)`..\n",
        "However our data isn't in that shape yet.."
      ],
      "metadata": {
        "id": "UEhS8s9UjO8O"
      }
    },
    {
      "cell_type": "code",
      "source": [
        "# Check data input shape\n",
        "train_windows[0].shape  # returns (WINDOW_SIZE, )"
      ],
      "metadata": {
        "colab": {
          "base_uri": "https://localhost:8080/"
        },
        "id": "qodNUNayj8QP",
        "outputId": "538cee62-7301-433b-83c2-b90debd27809"
      },
      "execution_count": null,
      "outputs": [
        {
          "output_type": "execute_result",
          "data": {
            "text/plain": [
              "(7,)"
            ]
          },
          "metadata": {},
          "execution_count": 115
        }
      ]
    },
    {
      "cell_type": "code",
      "source": [
        "# Before we pass our data to the Conv1D layer, we have to reshape it in order to make sure it works\n",
        "x = tf.constant(train_windows[0])\n",
        "x"
      ],
      "metadata": {
        "colab": {
          "base_uri": "https://localhost:8080/"
        },
        "id": "VK1EszE8kOsS",
        "outputId": "638f71fd-e735-42ff-9296-8208c54ed350"
      },
      "execution_count": null,
      "outputs": [
        {
          "output_type": "execute_result",
          "data": {
            "text/plain": [
              "<tf.Tensor: shape=(7,), dtype=float64, numpy=\n",
              "array([123.65499, 125.455  , 108.58483, 118.67466, 121.33866, 120.65533,\n",
              "       121.795  ])>"
            ]
          },
          "metadata": {},
          "execution_count": 116
        }
      ]
    },
    {
      "cell_type": "markdown",
      "source": [
        "see more in: https://realpython.com/python-lambda/"
      ],
      "metadata": {
        "id": "vjyTA0yrlDHU"
      }
    },
    {
      "cell_type": "code",
      "source": [
        "expand_dims_layer = layers.Lambda(lambda x: tf.expand_dims(x, axis=1))  # add an extra dimension for `input_dim`"
      ],
      "metadata": {
        "id": "_0qo3M_0kj69"
      },
      "execution_count": null,
      "outputs": []
    },
    {
      "cell_type": "code",
      "source": [
        "# Test out our lambda layer\n",
        "print(f\"Original shape: {x.shape}\") # (WINDOW_SIZE)\n",
        "print(f\"Expanded shape: {expand_dims_layer(x).shape}\") # output = ...?\n",
        "print(f\"Original values with expanded shape:\\n {expand_dims_layer(x)}\")"
      ],
      "metadata": {
        "colab": {
          "base_uri": "https://localhost:8080/"
        },
        "id": "UbscNnyVk1zH",
        "outputId": "4f60ad49-9e8d-4ac5-d492-683f1739ecdd"
      },
      "execution_count": null,
      "outputs": [
        {
          "output_type": "stream",
          "name": "stdout",
          "text": [
            "Original shape: (7,)\n",
            "Expanded shape: (7, 1)\n",
            "Original values with expanded shape:\n",
            " [[123.65499]\n",
            " [125.455  ]\n",
            " [108.58483]\n",
            " [118.67466]\n",
            " [121.33866]\n",
            " [120.65533]\n",
            " [121.795  ]]\n"
          ]
        }
      ]
    },
    {
      "cell_type": "code",
      "source": [
        "x.numpy()"
      ],
      "metadata": {
        "colab": {
          "base_uri": "https://localhost:8080/"
        },
        "id": "UPFAdJPGlo4l",
        "outputId": "7a86af91-31d7-4cf1-b8d6-e995a8196fee"
      },
      "execution_count": null,
      "outputs": [
        {
          "output_type": "execute_result",
          "data": {
            "text/plain": [
              "array([123.65499, 125.455  , 108.58483, 118.67466, 121.33866, 120.65533,\n",
              "       121.795  ])"
            ]
          },
          "metadata": {},
          "execution_count": 119
        }
      ]
    },
    {
      "cell_type": "code",
      "source": [],
      "metadata": {
        "id": "xDyX2vYhl8O2"
      },
      "execution_count": null,
      "outputs": []
    }
  ]
}